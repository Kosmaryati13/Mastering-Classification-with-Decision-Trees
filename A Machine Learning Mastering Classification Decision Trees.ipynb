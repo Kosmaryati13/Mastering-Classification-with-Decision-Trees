{
 "cells": [
  {
   "cell_type": "markdown",
   "metadata": {
    "id": "inuAq7EWI1WW"
   },
   "source": [
    "# A Machine Learning Workshop: \n",
    "## Mastering Classification with Decision Trees  \n",
    "## Narasio Datafest Online Workshop"
   ]
  },
  {
   "cell_type": "markdown",
   "metadata": {
    "id": "inuAq7EWI1WW"
   },
   "source": [
    "# Binary Classification Breakoutroom"
   ]
  },
  {
   "cell_type": "markdown",
   "metadata": {
    "id": "2VjOp5sRI83_"
   },
   "source": [
    "### Permasalahan\n",
    "\n",
    "> Churn adalah salah satu peristiwa atau perilaku pelanggan beralih dari produk setelah (dalam jangka waktu tertentu) berlangganan produk. Produk dapat berupa barang atau jasa, seperti jaringan internet, penyedia telekomunikasi, dan sejenisnya. Dalam hal ini produk yang dianalisa adalah perusahaan telekomunikasi. Skema churn dapat dijelaskan dalam beberapa tahap. Tahap pertama, tahap ketika pelanggan berlangganan produk. Tahap kedua, yaitu rutinitas, atau perilaku pelanggan atau umpan balik pelanggan terhadap produk yang digunakan selama periode tertentu. Setelah itu, pada tahap ketiga, ada dua jenis, retensi (berlangganan kembali) atau churn (beralih atau berhenti berlangganan). Setiap perusahaan pasti ingin meminimalkan churn dan memaksimalkan retensi. Salah satu solusi yang dapat digunakan adalah dengan menggunakan prediksi churn pelanggan. Dengan ini, perusahaan dapat mengetahui karakteristik yang cenderung beralih atau berhenti berlangganan.\n",
    "\n",
    "### Deskripsi Data\n",
    "\n",
    "1.   Gender: Jenis kelamin pelanggan (Male, Female)\n",
    "2.   Partner: Status pernikahan pelanggan (yes, no)\n",
    "3.   Tenure: Lama beralangganan (integer; bulan)\n",
    "4.   PhoneService: Apakah pelanggan menggunakan telfon (yes, no)\n",
    "5.   PaperlessBilling:  Apakah pelanggan menggunakan paperless billing (yes, no)\n",
    "6.   MonthlyCharges: Biaya bulanan (numeric; usd)\n",
    "7.   Churn: Apakah pelanggan berhenti berlangganan atau tidak (yes, no)\n",
    "\n",
    "> Dalam kasus ini kita akan melakukan prediksi Churn sebagai variabel respon.\n",
    "\n",
    "\n"
   ]
  },
  {
   "cell_type": "markdown",
   "metadata": {
    "id": "L8vKCLJ0QT4X"
   },
   "source": [
    "## 1. Import Libraries and Data"
   ]
  },
  {
   "cell_type": "markdown",
   "metadata": {
    "id": "SFdgNnqVQivm"
   },
   "source": [
    "IMPORT PACKAGES"
   ]
  },
  {
   "cell_type": "code",
   "execution_count": 1,
   "metadata": {
    "executionInfo": {
     "elapsed": 4068,
     "status": "ok",
     "timestamp": 1672751004650,
     "user": {
      "displayName": "Muklis Adi Wicaksono",
      "userId": "18432726686680524570"
     },
     "user_tz": -420
    },
    "id": "IEBsjjViQPpr"
   },
   "outputs": [],
   "source": [
    "# Import Package\n",
    "import os\n",
    "import pandas as pd\n",
    "import numpy as np\n",
    "\n",
    "# Package untuk visualisasi\n",
    "import matplotlib.pyplot as plt\n",
    "import seaborn as sns\n",
    "\n",
    "# Package untuk cleaning, modelling, dan evaluation model\n",
    "import statsmodels.api as sm\n",
    "from sklearn.preprocessing import LabelEncoder, StandardScaler, MinMaxScaler\n",
    "from sklearn.model_selection import train_test_split, cross_validate, cross_val_score, KFold, GridSearchCV\n",
    "from sklearn.metrics import accuracy_score, precision_score, recall_score, f1_score\n",
    "from sklearn.linear_model import LogisticRegression\n"
   ]
  },
  {
   "cell_type": "code",
   "execution_count": 5,
   "metadata": {
    "executionInfo": {
     "elapsed": 402,
     "status": "ok",
     "timestamp": 1672751007683,
     "user": {
      "displayName": "Muklis Adi Wicaksono",
      "userId": "18432726686680524570"
     },
     "user_tz": -420
    },
    "id": "wrAbgPO_Qmco"
   },
   "outputs": [],
   "source": [
    "# Membuat path untuk mengidentifikasi letak directory\n",
    "# Catatan : pastikan path yang anda masukkan sesuai dengan directory data anda. Kemungkinan besar path di contoh ini berbeda dengan penyimpanan data anda\n",
    "path = '/Belajar/Workshop/Narasio Datafest Workshop/A Machine Learning Mastering Classification Decision Trees/'"
   ]
  },
  {
   "cell_type": "markdown",
   "metadata": {
    "id": "_lEFjWLjQx60"
   },
   "source": [
    "IMPORT DATA"
   ]
  },
  {
   "cell_type": "code",
   "execution_count": 2,
   "metadata": {
    "colab": {
     "base_uri": "https://localhost:8080/",
     "height": 206
    },
    "executionInfo": {
     "elapsed": 1440,
     "status": "ok",
     "timestamp": 1672751012509,
     "user": {
      "displayName": "Muklis Adi Wicaksono",
      "userId": "18432726686680524570"
     },
     "user_tz": -420
    },
    "id": "J5EmSgd9QvMd",
    "outputId": "6f797f72-084a-4f3f-efb3-5faadaa5b849"
   },
   "outputs": [
    {
     "data": {
      "text/html": [
       "<div>\n",
       "<style scoped>\n",
       "    .dataframe tbody tr th:only-of-type {\n",
       "        vertical-align: middle;\n",
       "    }\n",
       "\n",
       "    .dataframe tbody tr th {\n",
       "        vertical-align: top;\n",
       "    }\n",
       "\n",
       "    .dataframe thead th {\n",
       "        text-align: right;\n",
       "    }\n",
       "</style>\n",
       "<table border=\"1\" class=\"dataframe\">\n",
       "  <thead>\n",
       "    <tr style=\"text-align: right;\">\n",
       "      <th></th>\n",
       "      <th>gender</th>\n",
       "      <th>Partner</th>\n",
       "      <th>tenure</th>\n",
       "      <th>PhoneService</th>\n",
       "      <th>PaperlessBilling</th>\n",
       "      <th>MonthlyCharges</th>\n",
       "      <th>Churn</th>\n",
       "    </tr>\n",
       "  </thead>\n",
       "  <tbody>\n",
       "    <tr>\n",
       "      <th>0</th>\n",
       "      <td>Female</td>\n",
       "      <td>Yes</td>\n",
       "      <td>1</td>\n",
       "      <td>No</td>\n",
       "      <td>Yes</td>\n",
       "      <td>29.85</td>\n",
       "      <td>No</td>\n",
       "    </tr>\n",
       "    <tr>\n",
       "      <th>1</th>\n",
       "      <td>Male</td>\n",
       "      <td>No</td>\n",
       "      <td>34</td>\n",
       "      <td>Yes</td>\n",
       "      <td>No</td>\n",
       "      <td>56.95</td>\n",
       "      <td>No</td>\n",
       "    </tr>\n",
       "    <tr>\n",
       "      <th>2</th>\n",
       "      <td>Male</td>\n",
       "      <td>No</td>\n",
       "      <td>2</td>\n",
       "      <td>Yes</td>\n",
       "      <td>Yes</td>\n",
       "      <td>53.85</td>\n",
       "      <td>Yes</td>\n",
       "    </tr>\n",
       "    <tr>\n",
       "      <th>3</th>\n",
       "      <td>Male</td>\n",
       "      <td>No</td>\n",
       "      <td>45</td>\n",
       "      <td>No</td>\n",
       "      <td>No</td>\n",
       "      <td>42.30</td>\n",
       "      <td>No</td>\n",
       "    </tr>\n",
       "    <tr>\n",
       "      <th>4</th>\n",
       "      <td>Female</td>\n",
       "      <td>No</td>\n",
       "      <td>2</td>\n",
       "      <td>Yes</td>\n",
       "      <td>Yes</td>\n",
       "      <td>70.70</td>\n",
       "      <td>Yes</td>\n",
       "    </tr>\n",
       "  </tbody>\n",
       "</table>\n",
       "</div>"
      ],
      "text/plain": [
       "   gender Partner  tenure PhoneService PaperlessBilling  MonthlyCharges Churn\n",
       "0  Female     Yes       1           No              Yes           29.85    No\n",
       "1    Male      No      34          Yes               No           56.95    No\n",
       "2    Male      No       2          Yes              Yes           53.85   Yes\n",
       "3    Male      No      45           No               No           42.30    No\n",
       "4  Female      No       2          Yes              Yes           70.70   Yes"
      ]
     },
     "execution_count": 2,
     "metadata": {},
     "output_type": "execute_result"
    }
   ],
   "source": [
    "# Load data\n",
    "df= pd.read_csv('TelcoChurn.csv')\n",
    "df.head()"
   ]
  },
  {
   "cell_type": "markdown",
   "metadata": {
    "id": "qNsOA9RpREMx"
   },
   "source": [
    "Dari data diatas maka bisa didapat keterangan bahwa <br>\n",
    "x = gender, Partner, tenure, PhoneService, PaperlessBilling, MonthlyCharges <br>\n",
    "y = Churn"
   ]
  },
  {
   "cell_type": "markdown",
   "metadata": {
    "id": "HtvaY6zGRWyE"
   },
   "source": [
    "## 2. Exploratory Data Analysis (EDA)"
   ]
  },
  {
   "cell_type": "code",
   "execution_count": 3,
   "metadata": {
    "colab": {
     "base_uri": "https://localhost:8080/"
    },
    "executionInfo": {
     "elapsed": 492,
     "status": "ok",
     "timestamp": 1672751018336,
     "user": {
      "displayName": "Muklis Adi Wicaksono",
      "userId": "18432726686680524570"
     },
     "user_tz": -420
    },
    "id": "fcAg1xv-Q8ES",
    "outputId": "5f909dbe-8ac2-4a84-a5bd-179ba04808f4"
   },
   "outputs": [
    {
     "name": "stdout",
     "output_type": "stream",
     "text": [
      "<class 'pandas.core.frame.DataFrame'>\n",
      "RangeIndex: 7043 entries, 0 to 7042\n",
      "Data columns (total 7 columns):\n",
      " #   Column            Non-Null Count  Dtype  \n",
      "---  ------            --------------  -----  \n",
      " 0   gender            7043 non-null   object \n",
      " 1   Partner           7043 non-null   object \n",
      " 2   tenure            7043 non-null   int64  \n",
      " 3   PhoneService      7043 non-null   object \n",
      " 4   PaperlessBilling  7043 non-null   object \n",
      " 5   MonthlyCharges    7043 non-null   float64\n",
      " 6   Churn             7043 non-null   object \n",
      "dtypes: float64(1), int64(1), object(5)\n",
      "memory usage: 385.3+ KB\n"
     ]
    }
   ],
   "source": [
    "# Cek informasi yang terdapat di data\n",
    "df.info()"
   ]
  },
  {
   "cell_type": "markdown",
   "metadata": {
    "id": "AEMe564LRmkI"
   },
   "source": [
    "Dari info tersebut tidak terdapat missing value. Selanjutnya akan dicari tahu, apakah pelanggan yang berhenti berlangganan lebih banyak dibandingkan yang tidak atau sebaliknya ?"
   ]
  },
  {
   "cell_type": "code",
   "execution_count": 4,
   "metadata": {
    "colab": {
     "base_uri": "https://localhost:8080/",
     "height": 248
    },
    "executionInfo": {
     "elapsed": 611,
     "status": "ok",
     "timestamp": 1672751024700,
     "user": {
      "displayName": "Muklis Adi Wicaksono",
      "userId": "18432726686680524570"
     },
     "user_tz": -420
    },
    "id": "huhDvANyRZyV",
    "outputId": "c223fc3c-8323-4664-e992-c13c62b362bf"
   },
   "outputs": [
    {
     "data": {
      "image/png": "[encoded data removed]",
      "text/plain": [
       "<Figure size 432x288 with 1 Axes>"
      ]
     },
     "metadata": {},
     "output_type": "display_data"
    }
   ],
   "source": [
    "# Mencari perbandingan label/class\n",
    "df['Churn'].value_counts().plot.pie(autopct='%1.1f%%',shadow=True)\n",
    "plt.show()"
   ]
  },
  {
   "cell_type": "markdown",
   "metadata": {
    "id": "E18121fqR1xv"
   },
   "source": [
    "Dari pie-chart tersebut, dapat dikatakan bahwa yang tidak berhenti berlangganan lebih banyak, data ini sedikit tidak seimbang. Untuk mengetahui pastinya saudara dapat menggunakan uji proporsi (untuk memutuskan apakah data seimbang atau tidak)."
   ]
  },
  {
   "cell_type": "code",
   "execution_count": 5,
   "metadata": {
    "colab": {
     "base_uri": "https://localhost:8080/",
     "height": 300
    },
    "executionInfo": {
     "elapsed": 377,
     "status": "ok",
     "timestamp": 1672751038058,
     "user": {
      "displayName": "Muklis Adi Wicaksono",
      "userId": "18432726686680524570"
     },
     "user_tz": -420
    },
    "id": "JFYXvqeZRupc",
    "outputId": "8829a198-ec15-4882-deb6-2c7e3f313be7"
   },
   "outputs": [
    {
     "data": {
      "text/html": [
       "<div>\n",
       "<style scoped>\n",
       "    .dataframe tbody tr th:only-of-type {\n",
       "        vertical-align: middle;\n",
       "    }\n",
       "\n",
       "    .dataframe tbody tr th {\n",
       "        vertical-align: top;\n",
       "    }\n",
       "\n",
       "    .dataframe thead th {\n",
       "        text-align: right;\n",
       "    }\n",
       "</style>\n",
       "<table border=\"1\" class=\"dataframe\">\n",
       "  <thead>\n",
       "    <tr style=\"text-align: right;\">\n",
       "      <th></th>\n",
       "      <th>tenure</th>\n",
       "      <th>MonthlyCharges</th>\n",
       "    </tr>\n",
       "  </thead>\n",
       "  <tbody>\n",
       "    <tr>\n",
       "      <th>count</th>\n",
       "      <td>7043.000000</td>\n",
       "      <td>7043.000000</td>\n",
       "    </tr>\n",
       "    <tr>\n",
       "      <th>mean</th>\n",
       "      <td>32.371149</td>\n",
       "      <td>64.761692</td>\n",
       "    </tr>\n",
       "    <tr>\n",
       "      <th>std</th>\n",
       "      <td>24.559481</td>\n",
       "      <td>30.090047</td>\n",
       "    </tr>\n",
       "    <tr>\n",
       "      <th>min</th>\n",
       "      <td>0.000000</td>\n",
       "      <td>18.250000</td>\n",
       "    </tr>\n",
       "    <tr>\n",
       "      <th>25%</th>\n",
       "      <td>9.000000</td>\n",
       "      <td>35.500000</td>\n",
       "    </tr>\n",
       "    <tr>\n",
       "      <th>50%</th>\n",
       "      <td>29.000000</td>\n",
       "      <td>70.350000</td>\n",
       "    </tr>\n",
       "    <tr>\n",
       "      <th>75%</th>\n",
       "      <td>55.000000</td>\n",
       "      <td>89.850000</td>\n",
       "    </tr>\n",
       "    <tr>\n",
       "      <th>max</th>\n",
       "      <td>72.000000</td>\n",
       "      <td>118.750000</td>\n",
       "    </tr>\n",
       "  </tbody>\n",
       "</table>\n",
       "</div>"
      ],
      "text/plain": [
       "            tenure  MonthlyCharges\n",
       "count  7043.000000     7043.000000\n",
       "mean     32.371149       64.761692\n",
       "std      24.559481       30.090047\n",
       "min       0.000000       18.250000\n",
       "25%       9.000000       35.500000\n",
       "50%      29.000000       70.350000\n",
       "75%      55.000000       89.850000\n",
       "max      72.000000      118.750000"
      ]
     },
     "execution_count": 5,
     "metadata": {},
     "output_type": "execute_result"
    }
   ],
   "source": [
    "# Analisa deskriptif\n",
    "df.describe()"
   ]
  },
  {
   "cell_type": "markdown",
   "metadata": {
    "id": "hthyjOSnSWQa"
   },
   "source": [
    "Dari variabel tenure, pelanggan yang paling loyal adalah 72 bulan, dan rata-rata pelanggan berlangganan adalah 32 bulan. Sedangkan pada variabel monthly charge, tagihan tertinggi di angka 118 usd, dan rata-rata tagihan adalah 64 usd."
   ]
  },
  {
   "cell_type": "code",
   "execution_count": 6,
   "metadata": {
    "colab": {
     "base_uri": "https://localhost:8080/",
     "height": 279
    },
    "executionInfo": {
     "elapsed": 412,
     "status": "ok",
     "timestamp": 1672751054577,
     "user": {
      "displayName": "Muklis Adi Wicaksono",
      "userId": "18432726686680524570"
     },
     "user_tz": -420
    },
    "id": "EraYBAtyVXQm",
    "outputId": "eece7e57-5fc0-4210-d7d1-0e329801c08a"
   },
   "outputs": [
    {
     "data": {
      "image/png": "[encoded data removed]",
      "text/plain": [
       "<Figure size 432x288 with 1 Axes>"
      ]
     },
     "metadata": {
      "needs_background": "light"
     },
     "output_type": "display_data"
    }
   ],
   "source": [
    "# Buat Crosstab antara Churn dengan Gender\n",
    "gender_churn = pd.crosstab(df['Churn'], (df['gender']))\n",
    "\n",
    "# Buat hasil crosstab menjadi dataframe\n",
    "stacked = gender_churn.stack().reset_index().rename(columns={0:'Count'})\n",
    "sns.barplot(x=stacked.Churn, y=stacked.Count, hue=stacked.gender)\n",
    "plt.show()"
   ]
  },
  {
   "cell_type": "markdown",
   "metadata": {
    "id": "A2LaPh6tVfAQ"
   },
   "source": [
    "Tidak dapat perbedaan yang signifikan dalam hal ini."
   ]
  },
  {
   "cell_type": "code",
   "execution_count": 7,
   "metadata": {
    "colab": {
     "base_uri": "https://localhost:8080/",
     "height": 279
    },
    "executionInfo": {
     "elapsed": 409,
     "status": "ok",
     "timestamp": 1672751059904,
     "user": {
      "displayName": "Muklis Adi Wicaksono",
      "userId": "18432726686680524570"
     },
     "user_tz": -420
    },
    "id": "Cq_RijJhVzXQ",
    "outputId": "77ee5046-d6c9-4bc6-cc32-3b8009d5b071"
   },
   "outputs": [
    {
     "data": {
      "image/png": "[encoded data removed]",
      "text/plain": [
       "<Figure size 432x288 with 1 Axes>"
      ]
     },
     "metadata": {
      "needs_background": "light"
     },
     "output_type": "display_data"
    }
   ],
   "source": [
    "# Buat Crosstab antara Churn dengan Partner\n",
    "married_churn = pd.crosstab(df['Churn'], (df['Partner']))\n",
    "\n",
    "# Buat hasil crosstab menjadi dataframe\n",
    "stacked = married_churn.stack().reset_index().rename(columns={0:'Count'})\n",
    "sns.barplot(x=stacked.Churn, y=stacked.Count, hue=stacked.Partner)\n",
    "plt.show()"
   ]
  },
  {
   "cell_type": "markdown",
   "metadata": {
    "id": "bMXlsqbTU-S8"
   },
   "source": [
    "Jika dilihat dari barplot crosstab tersebut, pelanggan yang menikah cenderung tidak berhenti berlangganan, sedangkan pelanggan yang tidak menikah cenderung berhenti berlangganan."
   ]
  },
  {
   "cell_type": "code",
   "execution_count": 8,
   "metadata": {
    "colab": {
     "base_uri": "https://localhost:8080/",
     "height": 279
    },
    "executionInfo": {
     "elapsed": 411,
     "status": "ok",
     "timestamp": 1672751064730,
     "user": {
      "displayName": "Muklis Adi Wicaksono",
      "userId": "18432726686680524570"
     },
     "user_tz": -420
    },
    "id": "y7KuZ4ePV0w3",
    "outputId": "1054d424-1944-495d-f15f-0d4e649b8d2d"
   },
   "outputs": [
    {
     "data": {
      "image/png": "[encoded data removed]",
      "text/plain": [
       "<Figure size 432x288 with 1 Axes>"
      ]
     },
     "metadata": {
      "needs_background": "light"
     },
     "output_type": "display_data"
    }
   ],
   "source": [
    "# Buat Crosstab antara Churn dengan PhoneService\n",
    "ps_churn = pd.crosstab(df['Churn'], (df['PhoneService']))\n",
    "\n",
    "# Buat hasil crosstab menjadi dataframe\n",
    "stacked = ps_churn.stack().reset_index().rename(columns={0:'Count'})\n",
    "sns.barplot(x=stacked.Churn, y=stacked.Count, hue=stacked.PhoneService)\n",
    "plt.show()"
   ]
  },
  {
   "cell_type": "markdown",
   "metadata": {
    "id": "IlzTs9SHWFsw"
   },
   "source": [
    "Pelanggan yang rumahnya terdapat layanan telfon, sebagian besar tidak berhenti berlangganan, tetapi tidak kecil juga pelanggan yang berhenti berlangganan dengan status phone service Yes. Secara keseluruhan, pelanggan dengan layanan telfon dirumahnya cenderung tidak berhenti berlangganan."
   ]
  },
  {
   "cell_type": "code",
   "execution_count": 9,
   "metadata": {
    "colab": {
     "base_uri": "https://localhost:8080/",
     "height": 279
    },
    "executionInfo": {
     "elapsed": 388,
     "status": "ok",
     "timestamp": 1672751072369,
     "user": {
      "displayName": "Muklis Adi Wicaksono",
      "userId": "18432726686680524570"
     },
     "user_tz": -420
    },
    "id": "ObIfuCV_V3aE",
    "outputId": "a12d89a2-edf7-41f8-c140-211ed33f5fa9"
   },
   "outputs": [
    {
     "data": {
      "image/png": "[encoded data removed]",
      "text/plain": [
       "<Figure size 432x288 with 1 Axes>"
      ]
     },
     "metadata": {
      "needs_background": "light"
     },
     "output_type": "display_data"
    }
   ],
   "source": [
    "# Buat Crosstab antara Churn dengan PaperlessBilling\n",
    "pb_churn = pd.crosstab(df['Churn'], (df['PaperlessBilling']))\n",
    "\n",
    "# Buat hasil crosstab menjadi dataframe\n",
    "stacked = pb_churn.stack().reset_index().rename(columns={0:'Count'})\n",
    "sns.barplot(x=stacked.Churn, y=stacked.Count, hue=stacked.PaperlessBilling)\n",
    "plt.show()"
   ]
  },
  {
   "cell_type": "code",
   "execution_count": 10,
   "metadata": {
    "colab": {
     "base_uri": "https://localhost:8080/",
     "height": 296
    },
    "executionInfo": {
     "elapsed": 429,
     "status": "ok",
     "timestamp": 1672751077390,
     "user": {
      "displayName": "Muklis Adi Wicaksono",
      "userId": "18432726686680524570"
     },
     "user_tz": -420
    },
    "id": "eLvzPdeLWjn6",
    "outputId": "9df00911-a651-413f-dccb-2cb7dc7f9b2b"
   },
   "outputs": [
    {
     "data": {
      "text/plain": [
       "<AxesSubplot:xlabel='Churn', ylabel='tenure'>"
      ]
     },
     "execution_count": 10,
     "metadata": {},
     "output_type": "execute_result"
    },
    {
     "data": {
      "image/png": "[encoded data removed]",
      "text/plain": [
       "<Figure size 432x288 with 1 Axes>"
      ]
     },
     "metadata": {
      "needs_background": "light"
     },
     "output_type": "display_data"
    }
   ],
   "source": [
    "# Boxplot Tenure dengan Churn\n",
    "sns.boxplot(x=\"Churn\", y=\"tenure\", data=df)"
   ]
  },
  {
   "cell_type": "markdown",
   "metadata": {
    "id": "RHHAFmtAXqjU"
   },
   "source": [
    "Gambar boxplot tersebut menunjukkan bahwa pelanggan yang berhenti berlangganan mempunyai rata-rata tenure lebih kecil dibandingkan yang tidak berlangganan. Rata-rata pelanggan yang berhenti berlangganan adalah 10 bulan setelah pemakaian pertamanya. Tetapi terdapat juga nilai anomali yaitu pelanggan yang telah berlangganan 70 bulan, namun tetap saja berhenti berlangganan."
   ]
  },
  {
   "cell_type": "code",
   "execution_count": 11,
   "metadata": {
    "colab": {
     "base_uri": "https://localhost:8080/",
     "height": 296
    },
    "executionInfo": {
     "elapsed": 393,
     "status": "ok",
     "timestamp": 1672751082660,
     "user": {
      "displayName": "Muklis Adi Wicaksono",
      "userId": "18432726686680524570"
     },
     "user_tz": -420
    },
    "id": "ljwuUWnIW2uo",
    "outputId": "9dedec98-aa1e-4fc4-c4c5-e877385c7edd"
   },
   "outputs": [
    {
     "data": {
      "text/plain": [
       "<AxesSubplot:xlabel='Churn', ylabel='MonthlyCharges'>"
      ]
     },
     "execution_count": 11,
     "metadata": {},
     "output_type": "execute_result"
    },
    {
     "data": {
      "image/png": "[encoded data removed]",
      "text/plain": [
       "<Figure size 432x288 with 1 Axes>"
      ]
     },
     "metadata": {
      "needs_background": "light"
     },
     "output_type": "display_data"
    }
   ],
   "source": [
    "# Boxplot Tenure dengan Churn\n",
    "sns.boxplot(x=\"Churn\", y=\"MonthlyCharges\", data=df)"
   ]
  },
  {
   "cell_type": "markdown",
   "metadata": {
    "id": "TI8fY0BuYIXc"
   },
   "source": [
    "Gambar boxplot tersebut menunjukkan bahwa semakin tinggi biaya tagihan maka pelanggan mempunyai kecenderungan untuk berhenti berlangganan."
   ]
  },
  {
   "cell_type": "markdown",
   "metadata": {
    "id": "3uiRRIhMYypx"
   },
   "source": [
    "## 3 Preprocessing"
   ]
  },
  {
   "cell_type": "markdown",
   "metadata": {
    "id": "3GLVkK3-Y6-Z"
   },
   "source": [
    "Label Encoder"
   ]
  },
  {
   "cell_type": "code",
   "execution_count": 12,
   "metadata": {
    "colab": {
     "base_uri": "https://localhost:8080/",
     "height": 206
    },
    "executionInfo": {
     "elapsed": 407,
     "status": "ok",
     "timestamp": 1672751088448,
     "user": {
      "displayName": "Muklis Adi Wicaksono",
      "userId": "18432726686680524570"
     },
     "user_tz": -420
    },
    "id": "fBLQzCPLYx_h",
    "outputId": "fc93e790-a63a-41fa-dae0-08414de855f1"
   },
   "outputs": [
    {
     "data": {
      "text/html": [
       "<div>\n",
       "<style scoped>\n",
       "    .dataframe tbody tr th:only-of-type {\n",
       "        vertical-align: middle;\n",
       "    }\n",
       "\n",
       "    .dataframe tbody tr th {\n",
       "        vertical-align: top;\n",
       "    }\n",
       "\n",
       "    .dataframe thead th {\n",
       "        text-align: right;\n",
       "    }\n",
       "</style>\n",
       "<table border=\"1\" class=\"dataframe\">\n",
       "  <thead>\n",
       "    <tr style=\"text-align: right;\">\n",
       "      <th></th>\n",
       "      <th>gender</th>\n",
       "      <th>Partner</th>\n",
       "      <th>PhoneService</th>\n",
       "      <th>PaperlessBilling</th>\n",
       "      <th>Churn</th>\n",
       "    </tr>\n",
       "  </thead>\n",
       "  <tbody>\n",
       "    <tr>\n",
       "      <th>0</th>\n",
       "      <td>Female</td>\n",
       "      <td>Yes</td>\n",
       "      <td>No</td>\n",
       "      <td>Yes</td>\n",
       "      <td>No</td>\n",
       "    </tr>\n",
       "    <tr>\n",
       "      <th>1</th>\n",
       "      <td>Male</td>\n",
       "      <td>No</td>\n",
       "      <td>Yes</td>\n",
       "      <td>No</td>\n",
       "      <td>No</td>\n",
       "    </tr>\n",
       "    <tr>\n",
       "      <th>2</th>\n",
       "      <td>Male</td>\n",
       "      <td>No</td>\n",
       "      <td>Yes</td>\n",
       "      <td>Yes</td>\n",
       "      <td>Yes</td>\n",
       "    </tr>\n",
       "    <tr>\n",
       "      <th>3</th>\n",
       "      <td>Male</td>\n",
       "      <td>No</td>\n",
       "      <td>No</td>\n",
       "      <td>No</td>\n",
       "      <td>No</td>\n",
       "    </tr>\n",
       "    <tr>\n",
       "      <th>4</th>\n",
       "      <td>Female</td>\n",
       "      <td>No</td>\n",
       "      <td>Yes</td>\n",
       "      <td>Yes</td>\n",
       "      <td>Yes</td>\n",
       "    </tr>\n",
       "  </tbody>\n",
       "</table>\n",
       "</div>"
      ],
      "text/plain": [
       "   gender Partner PhoneService PaperlessBilling Churn\n",
       "0  Female     Yes           No              Yes    No\n",
       "1    Male      No          Yes               No    No\n",
       "2    Male      No          Yes              Yes   Yes\n",
       "3    Male      No           No               No    No\n",
       "4  Female      No          Yes              Yes   Yes"
      ]
     },
     "execution_count": 12,
     "metadata": {},
     "output_type": "execute_result"
    }
   ],
   "source": [
    "kategori = ['gender','Partner','PhoneService','PaperlessBilling','Churn']\n",
    "df_cat = df[kategori]\n",
    "df_cat.head()"
   ]
  },
  {
   "cell_type": "code",
   "execution_count": 13,
   "metadata": {
    "colab": {
     "base_uri": "https://localhost:8080/",
     "height": 206
    },
    "executionInfo": {
     "elapsed": 574,
     "status": "ok",
     "timestamp": 1672751093169,
     "user": {
      "displayName": "Muklis Adi Wicaksono",
      "userId": "18432726686680524570"
     },
     "user_tz": -420
    },
    "id": "ybO5KehqZMz9",
    "outputId": "8e1ed7b1-acb8-40a0-8819-ca98cd857348"
   },
   "outputs": [
    {
     "data": {
      "text/html": [
       "<div>\n",
       "<style scoped>\n",
       "    .dataframe tbody tr th:only-of-type {\n",
       "        vertical-align: middle;\n",
       "    }\n",
       "\n",
       "    .dataframe tbody tr th {\n",
       "        vertical-align: top;\n",
       "    }\n",
       "\n",
       "    .dataframe thead th {\n",
       "        text-align: right;\n",
       "    }\n",
       "</style>\n",
       "<table border=\"1\" class=\"dataframe\">\n",
       "  <thead>\n",
       "    <tr style=\"text-align: right;\">\n",
       "      <th></th>\n",
       "      <th>gender</th>\n",
       "      <th>Partner</th>\n",
       "      <th>tenure</th>\n",
       "      <th>PhoneService</th>\n",
       "      <th>PaperlessBilling</th>\n",
       "      <th>MonthlyCharges</th>\n",
       "      <th>Churn</th>\n",
       "    </tr>\n",
       "  </thead>\n",
       "  <tbody>\n",
       "    <tr>\n",
       "      <th>0</th>\n",
       "      <td>0</td>\n",
       "      <td>1</td>\n",
       "      <td>1</td>\n",
       "      <td>0</td>\n",
       "      <td>1</td>\n",
       "      <td>29.85</td>\n",
       "      <td>0</td>\n",
       "    </tr>\n",
       "    <tr>\n",
       "      <th>1</th>\n",
       "      <td>1</td>\n",
       "      <td>0</td>\n",
       "      <td>34</td>\n",
       "      <td>1</td>\n",
       "      <td>0</td>\n",
       "      <td>56.95</td>\n",
       "      <td>0</td>\n",
       "    </tr>\n",
       "    <tr>\n",
       "      <th>2</th>\n",
       "      <td>1</td>\n",
       "      <td>0</td>\n",
       "      <td>2</td>\n",
       "      <td>1</td>\n",
       "      <td>1</td>\n",
       "      <td>53.85</td>\n",
       "      <td>1</td>\n",
       "    </tr>\n",
       "    <tr>\n",
       "      <th>3</th>\n",
       "      <td>1</td>\n",
       "      <td>0</td>\n",
       "      <td>45</td>\n",
       "      <td>0</td>\n",
       "      <td>0</td>\n",
       "      <td>42.30</td>\n",
       "      <td>0</td>\n",
       "    </tr>\n",
       "    <tr>\n",
       "      <th>4</th>\n",
       "      <td>0</td>\n",
       "      <td>0</td>\n",
       "      <td>2</td>\n",
       "      <td>1</td>\n",
       "      <td>1</td>\n",
       "      <td>70.70</td>\n",
       "      <td>1</td>\n",
       "    </tr>\n",
       "  </tbody>\n",
       "</table>\n",
       "</div>"
      ],
      "text/plain": [
       "   gender  Partner  tenure  PhoneService  PaperlessBilling  MonthlyCharges  \\\n",
       "0       0        1       1             0                 1           29.85   \n",
       "1       1        0      34             1                 0           56.95   \n",
       "2       1        0       2             1                 1           53.85   \n",
       "3       1        0      45             0                 0           42.30   \n",
       "4       0        0       2             1                 1           70.70   \n",
       "\n",
       "   Churn  \n",
       "0      0  \n",
       "1      0  \n",
       "2      1  \n",
       "3      0  \n",
       "4      1  "
      ]
     },
     "execution_count": 13,
     "metadata": {},
     "output_type": "execute_result"
    }
   ],
   "source": [
    "# Ubah kedalam bentuk numerik\n",
    "encoded_data = LabelEncoder()\n",
    "\n",
    "for feature in kategori:\n",
    "        if feature in df.columns.values:\n",
    "            df[feature] = encoded_data.fit_transform(df[feature])\n",
    "\n",
    "df.head()"
   ]
  },
  {
   "cell_type": "markdown",
   "metadata": {
    "id": "lcWQDmY-cbrz"
   },
   "source": [
    "Variabel kategori harus dikoding ulang menjadi sebuah integer numerik supaya dapat dimodelkan kedalam model regresi logistik."
   ]
  },
  {
   "cell_type": "code",
   "execution_count": 14,
   "metadata": {
    "colab": {
     "base_uri": "https://localhost:8080/",
     "height": 558
    },
    "executionInfo": {
     "elapsed": 1629,
     "status": "ok",
     "timestamp": 1672751099904,
     "user": {
      "displayName": "Muklis Adi Wicaksono",
      "userId": "18432726686680524570"
     },
     "user_tz": -420
    },
    "id": "ykGGQi2mYVHT",
    "outputId": "e59a17ba-51f2-4f22-c097-c12b4b712062"
   },
   "outputs": [
    {
     "data": {
      "image/png": "[encoded data removed]",
      "text/plain": [
       "<Figure size 1080x576 with 2 Axes>"
      ]
     },
     "metadata": {
      "needs_background": "light"
     },
     "output_type": "display_data"
    }
   ],
   "source": [
    "# Cek korelasi, mengasumsikan bahwa data bertime interval-rasio\n",
    "# Melakukan perhitungan nilai korelasi dengan mengasumsikan data adalah data interval.\n",
    "sns.heatmap(df.corr(),linewidths=.5,annot=True,cmap='RdYlGn')\n",
    "fig=plt.gcf()\n",
    "fig.set_size_inches(15,8)\n",
    "plt.show()"
   ]
  },
  {
   "cell_type": "markdown",
   "metadata": {
    "id": "nxGKOq7gcmke"
   },
   "source": [
    "JIka dilihat berdasarkan matriks korelasinya, nilai tertinggi berada diangka lebih dari absolute 0.3, hal tersebut menurut teori, secara umum sudah cukup dikatakan berkorelasi kuat."
   ]
  },
  {
   "cell_type": "markdown",
   "metadata": {
    "id": "qbMypfxnZc9N"
   },
   "source": [
    "## 5. Membangun Model Klasifikasi"
   ]
  },
  {
   "cell_type": "markdown",
   "metadata": {
    "id": "ry2zNqvBZh0J"
   },
   "source": [
    "MEMBAGI TRAIN TEST DATA"
   ]
  },
  {
   "cell_type": "code",
   "execution_count": 15,
   "metadata": {
    "colab": {
     "base_uri": "https://localhost:8080/"
    },
    "executionInfo": {
     "elapsed": 22,
     "status": "ok",
     "timestamp": 1672751106898,
     "user": {
      "displayName": "Muklis Adi Wicaksono",
      "userId": "18432726686680524570"
     },
     "user_tz": -420
    },
    "id": "QcMC2mQcZhA1",
    "outputId": "c9b40345-7910-451f-9a84-077f7e8c439f"
   },
   "outputs": [
    {
     "name": "stdout",
     "output_type": "stream",
     "text": [
      "X Train :  4930\n",
      "y Train :  4930\n",
      "X Test :  2113\n",
      "t Test :  2113\n"
     ]
    }
   ],
   "source": [
    "X = df.drop('Churn', axis=1)\n",
    "y = df['Churn']\n",
    "\n",
    "X_train, X_test, y_train, y_test = train_test_split(X, y, test_size=0.3, random_state=42)\n",
    "\n",
    "print(\"X Train : \", len(X_train))\n",
    "print(\"y Train : \", len(y_train))\n",
    "print(\"X Test : \", len(X_test))\n",
    "print(\"t Test : \", len(y_test))"
   ]
  },
  {
   "cell_type": "markdown",
   "metadata": {
    "id": "aei2CQXmcyiK"
   },
   "source": [
    "Menggunakan data testing berjumlah 30persen dari total data, dan data training berjumlah 70persen dari total data."
   ]
  },
  {
   "cell_type": "markdown",
   "metadata": {
    "id": "GSCqhlxmb778"
   },
   "source": [
    "### Decision Tree"
   ]
  },
  {
   "cell_type": "code",
   "execution_count": 16,
   "metadata": {
    "executionInfo": {
     "elapsed": 379,
     "status": "ok",
     "timestamp": 1672751113896,
     "user": {
      "displayName": "Muklis Adi Wicaksono",
      "userId": "18432726686680524570"
     },
     "user_tz": -420
    },
    "id": "o-_0eKwckHb_"
   },
   "outputs": [],
   "source": [
    "from sklearn.tree import DecisionTreeClassifier\n",
    "from sklearn.metrics import confusion_matrix \n",
    "from sklearn.metrics import classification_report"
   ]
  },
  {
   "cell_type": "code",
   "execution_count": 17,
   "metadata": {
    "colab": {
     "base_uri": "https://localhost:8080/"
    },
    "executionInfo": {
     "elapsed": 449,
     "status": "ok",
     "timestamp": 1672751118638,
     "user": {
      "displayName": "Muklis Adi Wicaksono",
      "userId": "18432726686680524570"
     },
     "user_tz": -420
    },
    "id": "v6TUnt2bb4O0",
    "outputId": "aad70e5f-4e7b-4ba1-d5ae-103d0b6ad199"
   },
   "outputs": [
    {
     "data": {
      "text/plain": [
       "DecisionTreeClassifier()"
      ]
     },
     "execution_count": 17,
     "metadata": {},
     "output_type": "execute_result"
    }
   ],
   "source": [
    "clf = DecisionTreeClassifier()\n",
    "clf.fit(X_train, y_train)"
   ]
  },
  {
   "cell_type": "code",
   "execution_count": 18,
   "metadata": {
    "colab": {
     "base_uri": "https://localhost:8080/",
     "height": 206
    },
    "executionInfo": {
     "elapsed": 437,
     "status": "ok",
     "timestamp": 1672751130486,
     "user": {
      "displayName": "Muklis Adi Wicaksono",
      "userId": "18432726686680524570"
     },
     "user_tz": -420
    },
    "id": "W87MfFGEb9c3",
    "outputId": "89305e82-8742-4f56-d0f9-c0efe41fdbab"
   },
   "outputs": [
    {
     "data": {
      "text/html": [
       "<div>\n",
       "<style scoped>\n",
       "    .dataframe tbody tr th:only-of-type {\n",
       "        vertical-align: middle;\n",
       "    }\n",
       "\n",
       "    .dataframe tbody tr th {\n",
       "        vertical-align: top;\n",
       "    }\n",
       "\n",
       "    .dataframe thead th {\n",
       "        text-align: right;\n",
       "    }\n",
       "</style>\n",
       "<table border=\"1\" class=\"dataframe\">\n",
       "  <thead>\n",
       "    <tr style=\"text-align: right;\">\n",
       "      <th></th>\n",
       "      <th>gender</th>\n",
       "      <th>Partner</th>\n",
       "      <th>tenure</th>\n",
       "      <th>PhoneService</th>\n",
       "      <th>PaperlessBilling</th>\n",
       "      <th>MonthlyCharges</th>\n",
       "      <th>Churn</th>\n",
       "      <th>prediction</th>\n",
       "    </tr>\n",
       "  </thead>\n",
       "  <tbody>\n",
       "    <tr>\n",
       "      <th>185</th>\n",
       "      <td>0</td>\n",
       "      <td>1</td>\n",
       "      <td>1</td>\n",
       "      <td>0</td>\n",
       "      <td>1</td>\n",
       "      <td>24.80</td>\n",
       "      <td>1</td>\n",
       "      <td>1</td>\n",
       "    </tr>\n",
       "    <tr>\n",
       "      <th>2715</th>\n",
       "      <td>1</td>\n",
       "      <td>0</td>\n",
       "      <td>41</td>\n",
       "      <td>1</td>\n",
       "      <td>1</td>\n",
       "      <td>25.25</td>\n",
       "      <td>0</td>\n",
       "      <td>1</td>\n",
       "    </tr>\n",
       "    <tr>\n",
       "      <th>3825</th>\n",
       "      <td>0</td>\n",
       "      <td>1</td>\n",
       "      <td>52</td>\n",
       "      <td>1</td>\n",
       "      <td>0</td>\n",
       "      <td>19.35</td>\n",
       "      <td>0</td>\n",
       "      <td>0</td>\n",
       "    </tr>\n",
       "    <tr>\n",
       "      <th>1807</th>\n",
       "      <td>0</td>\n",
       "      <td>0</td>\n",
       "      <td>1</td>\n",
       "      <td>1</td>\n",
       "      <td>0</td>\n",
       "      <td>76.35</td>\n",
       "      <td>1</td>\n",
       "      <td>1</td>\n",
       "    </tr>\n",
       "    <tr>\n",
       "      <th>132</th>\n",
       "      <td>1</td>\n",
       "      <td>0</td>\n",
       "      <td>67</td>\n",
       "      <td>1</td>\n",
       "      <td>0</td>\n",
       "      <td>50.55</td>\n",
       "      <td>0</td>\n",
       "      <td>0</td>\n",
       "    </tr>\n",
       "  </tbody>\n",
       "</table>\n",
       "</div>"
      ],
      "text/plain": [
       "      gender  Partner  tenure  PhoneService  PaperlessBilling  MonthlyCharges  \\\n",
       "185        0        1       1             0                 1           24.80   \n",
       "2715       1        0      41             1                 1           25.25   \n",
       "3825       0        1      52             1                 0           19.35   \n",
       "1807       0        0       1             1                 0           76.35   \n",
       "132        1        0      67             1                 0           50.55   \n",
       "\n",
       "      Churn  prediction  \n",
       "185       1           1  \n",
       "2715      0           1  \n",
       "3825      0           0  \n",
       "1807      1           1  \n",
       "132       0           0  "
      ]
     },
     "execution_count": 18,
     "metadata": {},
     "output_type": "execute_result"
    }
   ],
   "source": [
    "y_pred = clf.predict(X_test)\n",
    "dt_test = pd.merge(X_test, y_test, left_index=True, right_index=True, how='outer')\n",
    "dt_test['prediction'] = y_pred\n",
    "dt_test.head()\n"
   ]
  },
  {
   "cell_type": "code",
   "execution_count": 19,
   "metadata": {
    "colab": {
     "base_uri": "https://localhost:8080/",
     "height": 1000
    },
    "executionInfo": {
     "elapsed": 71141,
     "status": "ok",
     "timestamp": 1672751584689,
     "user": {
      "displayName": "Muklis Adi Wicaksono",
      "userId": "18432726686680524570"
     },
     "user_tz": -420
    },
    "id": "0i-s0M-xb_BI",
    "outputId": "3974f39a-571f-4d69-add6-abb1cb953970"
   },
   "outputs": [
    {
     "data": {
      "text/plain": [
       "[Text(0.427087457837073, 0.9814814814814815, 'X[2] <= 12.5\\ngini = 0.387\\nsamples = 4930\\nvalue = [3635, 1295]'),\n",
       " Text(0.20678647945079248, 0.9444444444444444, 'X[5] <= 66.3\\ngini = 0.499\\nsamples = 1529\\nvalue = [804, 725]'),\n",
       " Text(0.11674499324241307, 0.9074074074074074, 'X[2] <= 3.5\\ngini = 0.428\\nsamples = 845\\nvalue = [583, 262]'),\n",
       " Text(0.0661936355817668, 0.8703703703703703, 'X[5] <= 20.875\\ngini = 0.489\\nsamples = 416\\nvalue = [239, 177]'),\n",
       " Text(0.03532374984641848, 0.8333333333333334, 'X[2] <= 1.5\\ngini = 0.396\\nsamples = 158\\nvalue = [115, 43]'),\n",
       " Text(0.021501412949993855, 0.7962962962962963, 'X[5] <= 19.875\\ngini = 0.449\\nsamples = 106\\nvalue = [70, 36]'),\n",
       " Text(0.012286521685710775, 0.7592592592592593, 'X[5] <= 19.525\\ngini = 0.375\\nsamples = 48\\nvalue = [36, 12]'),\n",
       " Text(0.008846295613711759, 0.7222222222222222, 'X[5] <= 19.425\\ngini = 0.435\\nsamples = 25\\nvalue = [17, 8]'),\n",
       " Text(0.005897530409141172, 0.6851851851851852, 'X[1] <= 0.5\\ngini = 0.375\\nsamples = 20\\nvalue = [15, 5]'),\n",
       " Text(0.00491460867428431, 0.6481481481481481, 'X[5] <= 19.35\\ngini = 0.43\\nsamples = 16\\nvalue = [11, 5]'),\n",
       " Text(0.003931686939427448, 0.6111111111111112, 'X[4] <= 0.5\\ngini = 0.459\\nsamples = 14\\nvalue = [9, 5]'),\n",
       " Text(0.001965843469713724, 0.5740740740740741, 'X[5] <= 19.225\\ngini = 0.375\\nsamples = 8\\nvalue = [6, 2]'),\n",
       " Text(0.000982921734856862, 0.5370370370370371, 'gini = 0.0\\nsamples = 5\\nvalue = [5, 0]'),\n",
       " Text(0.002948765204570586, 0.5370370370370371, 'X[5] <= 19.275\\ngini = 0.444\\nsamples = 3\\nvalue = [1, 2]'),\n",
       " Text(0.001965843469713724, 0.5, 'gini = 0.0\\nsamples = 1\\nvalue = [0, 1]'),\n",
       " Text(0.003931686939427448, 0.5, 'X[0] <= 0.5\\ngini = 0.5\\nsamples = 2\\nvalue = [1, 1]'),\n",
       " Text(0.002948765204570586, 0.46296296296296297, 'gini = 0.0\\nsamples = 1\\nvalue = [0, 1]'),\n",
       " Text(0.00491460867428431, 0.46296296296296297, 'gini = 0.0\\nsamples = 1\\nvalue = [1, 0]'),\n",
       " Text(0.005897530409141172, 0.5740740740740741, 'X[5] <= 19.15\\ngini = 0.5\\nsamples = 6\\nvalue = [3, 3]'),\n",
       " Text(0.00491460867428431, 0.5370370370370371, 'gini = 0.0\\nsamples = 2\\nvalue = [0, 2]'),\n",
       " Text(0.006880452143998034, 0.5370370370370371, 'X[5] <= 19.275\\ngini = 0.375\\nsamples = 4\\nvalue = [3, 1]'),\n",
       " Text(0.005897530409141172, 0.5, 'gini = 0.0\\nsamples = 2\\nvalue = [2, 0]'),\n",
       " Text(0.007863373878854897, 0.5, 'gini = 0.5\\nsamples = 2\\nvalue = [1, 1]'),\n",
       " Text(0.005897530409141172, 0.6111111111111112, 'gini = 0.0\\nsamples = 2\\nvalue = [2, 0]'),\n",
       " Text(0.006880452143998034, 0.6481481481481481, 'gini = 0.0\\nsamples = 4\\nvalue = [4, 0]'),\n",
       " Text(0.011795060818282344, 0.6851851851851852, 'X[1] <= 0.5\\ngini = 0.48\\nsamples = 5\\nvalue = [2, 3]'),\n",
       " Text(0.010812139083425482, 0.6481481481481481, 'X[5] <= 19.475\\ngini = 0.5\\nsamples = 4\\nvalue = [2, 2]'),\n",
       " Text(0.008846295613711759, 0.6111111111111112, 'X[4] <= 0.5\\ngini = 0.5\\nsamples = 2\\nvalue = [1, 1]'),\n",
       " Text(0.007863373878854897, 0.5740740740740741, 'gini = 0.0\\nsamples = 1\\nvalue = [1, 0]'),\n",
       " Text(0.00982921734856862, 0.5740740740740741, 'gini = 0.0\\nsamples = 1\\nvalue = [0, 1]'),\n",
       " Text(0.012777982553139207, 0.6111111111111112, 'X[4] <= 0.5\\ngini = 0.5\\nsamples = 2\\nvalue = [1, 1]'),\n",
       " Text(0.011795060818282344, 0.5740740740740741, 'gini = 0.0\\nsamples = 1\\nvalue = [0, 1]'),\n",
       " Text(0.013760904287996069, 0.5740740740740741, 'gini = 0.0\\nsamples = 1\\nvalue = [1, 0]'),\n",
       " Text(0.012777982553139207, 0.6481481481481481, 'gini = 0.0\\nsamples = 1\\nvalue = [0, 1]'),\n",
       " Text(0.015726747757709793, 0.7222222222222222, 'X[0] <= 0.5\\ngini = 0.287\\nsamples = 23\\nvalue = [19, 4]'),\n",
       " Text(0.014743826022852931, 0.6851851851851852, 'gini = 0.0\\nsamples = 9\\nvalue = [9, 0]'),\n",
       " Text(0.016709669492566654, 0.6851851851851852, 'X[1] <= 0.5\\ngini = 0.408\\nsamples = 14\\nvalue = [10, 4]'),\n",
       " Text(0.015726747757709793, 0.6481481481481481, 'X[5] <= 19.575\\ngini = 0.48\\nsamples = 10\\nvalue = [6, 4]'),\n",
       " Text(0.014743826022852931, 0.6111111111111112, 'gini = 0.0\\nsamples = 2\\nvalue = [2, 0]'),\n",
       " Text(0.016709669492566654, 0.6111111111111112, 'X[5] <= 19.725\\ngini = 0.5\\nsamples = 8\\nvalue = [4, 4]'),\n",
       " Text(0.015726747757709793, 0.5740740740740741, 'gini = 0.0\\nsamples = 2\\nvalue = [0, 2]'),\n",
       " Text(0.017692591227423518, 0.5740740740740741, 'X[4] <= 0.5\\ngini = 0.444\\nsamples = 6\\nvalue = [4, 2]'),\n",
       " Text(0.016709669492566654, 0.5370370370370371, 'gini = 0.5\\nsamples = 4\\nvalue = [2, 2]'),\n",
       " Text(0.01867551296228038, 0.5370370370370371, 'gini = 0.0\\nsamples = 2\\nvalue = [2, 0]'),\n",
       " Text(0.017692591227423518, 0.6481481481481481, 'gini = 0.0\\nsamples = 4\\nvalue = [4, 0]'),\n",
       " Text(0.03071630421427694, 0.7592592592592593, 'X[5] <= 20.225\\ngini = 0.485\\nsamples = 58\\nvalue = [34, 24]'),\n",
       " Text(0.02457304337142155, 0.7222222222222222, 'X[2] <= 0.5\\ngini = 0.483\\nsamples = 27\\nvalue = [11, 16]'),\n",
       " Text(0.02359012163656469, 0.6851851851851852, 'gini = 0.0\\nsamples = 1\\nvalue = [1, 0]'),\n",
       " Text(0.025555965106278413, 0.6851851851851852, 'X[5] <= 20.075\\ngini = 0.473\\nsamples = 26\\nvalue = [10, 16]'),\n",
       " Text(0.02359012163656469, 0.6481481481481481, 'X[1] <= 0.5\\ngini = 0.497\\nsamples = 13\\nvalue = [6, 7]'),\n",
       " Text(0.022607199901707828, 0.6111111111111112, 'X[4] <= 0.5\\ngini = 0.48\\nsamples = 10\\nvalue = [6, 4]'),\n",
       " Text(0.021624278166850964, 0.5740740740740741, 'X[0] <= 0.5\\ngini = 0.5\\nsamples = 8\\nvalue = [4, 4]'),\n",
       " Text(0.020641356431994103, 0.5370370370370371, 'gini = 0.444\\nsamples = 3\\nvalue = [2, 1]'),\n",
       " Text(0.022607199901707828, 0.5370370370370371, 'X[5] <= 20.0\\ngini = 0.48\\nsamples = 5\\nvalue = [2, 3]'),\n",
       " Text(0.021624278166850964, 0.5, 'gini = 0.0\\nsamples = 1\\nvalue = [0, 1]'),\n",
       " Text(0.02359012163656469, 0.5, 'gini = 0.5\\nsamples = 4\\nvalue = [2, 2]'),\n",
       " Text(0.02359012163656469, 0.5740740740740741, 'gini = 0.0\\nsamples = 2\\nvalue = [2, 0]'),\n",
       " Text(0.02457304337142155, 0.6111111111111112, 'gini = 0.0\\nsamples = 3\\nvalue = [0, 3]'),\n",
       " Text(0.027521808575992138, 0.6481481481481481, 'X[1] <= 0.5\\ngini = 0.426\\nsamples = 13\\nvalue = [4, 9]'),\n",
       " Text(0.026538886841135274, 0.6111111111111112, 'X[4] <= 0.5\\ngini = 0.298\\nsamples = 11\\nvalue = [2, 9]'),\n",
       " Text(0.025555965106278413, 0.5740740740740741, 'X[0] <= 0.5\\ngini = 0.444\\nsamples = 6\\nvalue = [2, 4]'),\n",
       " Text(0.02457304337142155, 0.5370370370370371, 'gini = 0.0\\nsamples = 1\\nvalue = [1, 0]'),\n",
       " Text(0.026538886841135274, 0.5370370370370371, 'X[5] <= 20.175\\ngini = 0.32\\nsamples = 5\\nvalue = [1, 4]'),\n",
       " Text(0.025555965106278413, 0.5, 'gini = 0.0\\nsamples = 3\\nvalue = [0, 3]'),\n",
       " Text(0.027521808575992138, 0.5, 'gini = 0.5\\nsamples = 2\\nvalue = [1, 1]'),\n",
       " Text(0.027521808575992138, 0.5740740740740741, 'gini = 0.0\\nsamples = 5\\nvalue = [0, 5]'),\n",
       " Text(0.028504730310849, 0.6111111111111112, 'gini = 0.0\\nsamples = 2\\nvalue = [2, 0]'),\n",
       " Text(0.036859565057132324, 0.7222222222222222, 'X[5] <= 20.475\\ngini = 0.383\\nsamples = 31\\nvalue = [23, 8]'),\n",
       " Text(0.03341933898513331, 0.6851851851851852, 'X[5] <= 20.325\\ngini = 0.266\\nsamples = 19\\nvalue = [16, 3]'),\n",
       " Text(0.03243641725027645, 0.6481481481481481, 'X[4] <= 0.5\\ngini = 0.397\\nsamples = 11\\nvalue = [8, 3]'),\n",
       " Text(0.030470573780562723, 0.6111111111111112, 'X[5] <= 20.275\\ngini = 0.278\\nsamples = 6\\nvalue = [5, 1]'),\n",
       " Text(0.029487652045705862, 0.5740740740740741, 'X[2] <= 0.5\\ngini = 0.444\\nsamples = 3\\nvalue = [2, 1]'),\n",
       " Text(0.028504730310849, 0.5370370370370371, 'gini = 0.0\\nsamples = 1\\nvalue = [1, 0]'),\n",
       " Text(0.030470573780562723, 0.5370370370370371, 'gini = 0.5\\nsamples = 2\\nvalue = [1, 1]'),\n",
       " Text(0.03145349551541959, 0.5740740740740741, 'gini = 0.0\\nsamples = 3\\nvalue = [3, 0]'),\n",
       " Text(0.03440226071999017, 0.6111111111111112, 'X[0] <= 0.5\\ngini = 0.48\\nsamples = 5\\nvalue = [3, 2]'),\n",
       " Text(0.03341933898513331, 0.5740740740740741, 'X[1] <= 0.5\\ngini = 0.5\\nsamples = 4\\nvalue = [2, 2]'),\n",
       " Text(0.03243641725027645, 0.5370370370370371, 'X[5] <= 20.275\\ngini = 0.444\\nsamples = 3\\nvalue = [1, 2]'),\n",
       " Text(0.03145349551541959, 0.5, 'gini = 0.5\\nsamples = 2\\nvalue = [1, 1]'),\n",
       " Text(0.03341933898513331, 0.5, 'gini = 0.0\\nsamples = 1\\nvalue = [0, 1]'),\n",
       " Text(0.03440226071999017, 0.5370370370370371, 'gini = 0.0\\nsamples = 1\\nvalue = [1, 0]'),\n",
       " Text(0.035385182454847036, 0.5740740740740741, 'gini = 0.0\\nsamples = 1\\nvalue = [1, 0]'),\n",
       " Text(0.03440226071999017, 0.6481481481481481, 'gini = 0.0\\nsamples = 8\\nvalue = [8, 0]'),\n",
       " Text(0.040299791129131346, 0.6851851851851852, 'X[5] <= 20.575\\ngini = 0.486\\nsamples = 12\\nvalue = [7, 5]'),\n",
       " Text(0.03931686939427448, 0.6481481481481481, 'X[1] <= 0.5\\ngini = 0.408\\nsamples = 7\\nvalue = [2, 5]'),\n",
       " Text(0.03833394765941762, 0.6111111111111112, 'X[5] <= 20.525\\ngini = 0.48\\nsamples = 5\\nvalue = [2, 3]'),\n",
       " Text(0.03735102592456076, 0.5740740740740741, 'X[0] <= 0.5\\ngini = 0.444\\nsamples = 3\\nvalue = [1, 2]'),\n",
       " Text(0.0363681041897039, 0.5370370370370371, 'gini = 0.5\\nsamples = 2\\nvalue = [1, 1]'),\n",
       " Text(0.03833394765941762, 0.5370370370370371, 'gini = 0.0\\nsamples = 1\\nvalue = [0, 1]'),\n",
       " Text(0.03931686939427448, 0.5740740740740741, 'gini = 0.5\\nsamples = 2\\nvalue = [1, 1]'),\n",
       " Text(0.040299791129131346, 0.6111111111111112, 'gini = 0.0\\nsamples = 2\\nvalue = [0, 2]'),\n",
       " Text(0.04128271286398821, 0.6481481481481481, 'gini = 0.0\\nsamples = 5\\nvalue = [5, 0]'),\n",
       " Text(0.0491460867428431, 0.7962962962962963, 'X[5] <= 19.9\\ngini = 0.233\\nsamples = 52\\nvalue = [45, 7]'),\n",
       " Text(0.046197321538272516, 0.7592592592592593, 'X[5] <= 19.575\\ngini = 0.365\\nsamples = 25\\nvalue = [19, 6]'),\n",
       " Text(0.045214399803415656, 0.7222222222222222, 'gini = 0.0\\nsamples = 11\\nvalue = [11, 0]'),\n",
       " Text(0.04718024327312938, 0.7222222222222222, 'X[5] <= 19.7\\ngini = 0.49\\nsamples = 14\\nvalue = [8, 6]'),\n",
       " Text(0.04423147806855879, 0.6851851851851852, 'X[5] <= 19.625\\ngini = 0.408\\nsamples = 7\\nvalue = [5, 2]'),\n",
       " Text(0.04324855633370193, 0.6481481481481481, 'X[0] <= 0.5\\ngini = 0.444\\nsamples = 3\\nvalue = [1, 2]'),\n",
       " Text(0.04226563459884507, 0.6111111111111112, 'gini = 0.0\\nsamples = 2\\nvalue = [0, 2]'),\n",
       " Text(0.04423147806855879, 0.6111111111111112, 'gini = 0.0\\nsamples = 1\\nvalue = [1, 0]'),\n",
       " Text(0.045214399803415656, 0.6481481481481481, 'gini = 0.0\\nsamples = 4\\nvalue = [4, 0]'),\n",
       " Text(0.050129008477699966, 0.6851851851851852, 'X[2] <= 2.5\\ngini = 0.49\\nsamples = 7\\nvalue = [3, 4]'),\n",
       " Text(0.04718024327312938, 0.6481481481481481, 'X[5] <= 19.8\\ngini = 0.444\\nsamples = 3\\nvalue = [2, 1]'),\n",
       " Text(0.046197321538272516, 0.6111111111111112, 'gini = 0.0\\nsamples = 1\\nvalue = [1, 0]'),\n",
       " Text(0.04816316500798624, 0.6111111111111112, 'X[0] <= 0.5\\ngini = 0.5\\nsamples = 2\\nvalue = [1, 1]'),\n",
       " Text(0.04718024327312938, 0.5740740740740741, 'gini = 0.0\\nsamples = 1\\nvalue = [1, 0]'),\n",
       " Text(0.0491460867428431, 0.5740740740740741, 'gini = 0.0\\nsamples = 1\\nvalue = [0, 1]'),\n",
       " Text(0.05307777368227055, 0.6481481481481481, 'X[0] <= 0.5\\ngini = 0.375\\nsamples = 4\\nvalue = [1, 3]'),\n",
       " Text(0.05209485194741369, 0.6111111111111112, 'X[5] <= 19.8\\ngini = 0.444\\nsamples = 3\\nvalue = [1, 2]'),\n",
       " Text(0.051111930212556826, 0.5740740740740741, 'gini = 0.0\\nsamples = 1\\nvalue = [0, 1]'),\n",
       " Text(0.05307777368227055, 0.5740740740740741, 'gini = 0.5\\nsamples = 2\\nvalue = [1, 1]'),\n",
       " Text(0.05406069541712741, 0.6111111111111112, 'gini = 0.0\\nsamples = 1\\nvalue = [0, 1]'),\n",
       " Text(0.05209485194741369, 0.7592592592592593, 'X[4] <= 0.5\\ngini = 0.071\\nsamples = 27\\nvalue = [26, 1]'),\n",
       " Text(0.051111930212556826, 0.7222222222222222, 'gini = 0.0\\nsamples = 20\\nvalue = [20, 0]'),\n",
       " Text(0.05307777368227055, 0.7222222222222222, 'X[1] <= 0.5\\ngini = 0.245\\nsamples = 7\\nvalue = [6, 1]'),\n",
       " Text(0.05209485194741369, 0.6851851851851852, 'gini = 0.0\\nsamples = 6\\nvalue = [6, 0]'),\n",
       " Text(0.05406069541712741, 0.6851851851851852, 'gini = 0.0\\nsamples = 1\\nvalue = [0, 1]'),\n",
       " Text(0.09706352131711513, 0.8333333333333334, 'X[4] <= 0.5\\ngini = 0.499\\nsamples = 258\\nvalue = [124, 134]'),\n",
       " Text(0.07715935618626367, 0.7962962962962963, 'X[1] <= 0.5\\ngini = 0.49\\nsamples = 123\\nvalue = [70, 53]'),\n",
       " Text(0.06880452143998034, 0.7592592592592593, 'X[5] <= 44.25\\ngini = 0.481\\nsamples = 107\\nvalue = [64, 43]'),\n",
       " Text(0.06241553016341074, 0.7222222222222222, 'X[5] <= 25.35\\ngini = 0.426\\nsamples = 39\\nvalue = [27, 12]'),\n",
       " Text(0.059958225826268585, 0.6851851851851852, 'X[0] <= 0.5\\ngini = 0.494\\nsamples = 18\\nvalue = [10, 8]'),\n",
       " Text(0.05799238235655486, 0.6481481481481481, 'X[2] <= 2.5\\ngini = 0.486\\nsamples = 12\\nvalue = [5, 7]'),\n",
       " Text(0.057009460621698, 0.6111111111111112, 'X[5] <= 22.475\\ngini = 0.5\\nsamples = 10\\nvalue = [5, 5]'),\n",
       " Text(0.055043617151984275, 0.5740740740740741, 'X[5] <= 20.925\\ngini = 0.375\\nsamples = 4\\nvalue = [1, 3]'),\n",
       " Text(0.05406069541712741, 0.5370370370370371, 'gini = 0.444\\nsamples = 3\\nvalue = [1, 2]'),\n",
       " Text(0.056026538886841136, 0.5370370370370371, 'gini = 0.0\\nsamples = 1\\nvalue = [0, 1]'),\n",
       " Text(0.058975304091411725, 0.5740740740740741, 'X[3] <= 0.5\\ngini = 0.444\\nsamples = 6\\nvalue = [4, 2]'),\n",
       " Text(0.05799238235655486, 0.5370370370370371, 'X[5] <= 24.425\\ngini = 0.48\\nsamples = 5\\nvalue = [3, 2]'),\n",
       " Text(0.057009460621698, 0.5, 'gini = 0.0\\nsamples = 1\\nvalue = [0, 1]'),\n",
       " Text(0.058975304091411725, 0.5, 'X[5] <= 24.975\\ngini = 0.375\\nsamples = 4\\nvalue = [3, 1]'),\n",
       " Text(0.05799238235655486, 0.46296296296296297, 'gini = 0.0\\nsamples = 2\\nvalue = [2, 0]'),\n",
       " Text(0.059958225826268585, 0.46296296296296297, 'gini = 0.5\\nsamples = 2\\nvalue = [1, 1]'),\n",
       " Text(0.059958225826268585, 0.5370370370370371, 'gini = 0.0\\nsamples = 1\\nvalue = [1, 0]'),\n",
       " Text(0.058975304091411725, 0.6111111111111112, 'gini = 0.0\\nsamples = 2\\nvalue = [0, 2]'),\n",
       " Text(0.061924069295982306, 0.6481481481481481, 'X[5] <= 24.575\\ngini = 0.278\\nsamples = 6\\nvalue = [5, 1]'),\n",
       " Text(0.060941147561125446, 0.6111111111111112, 'gini = 0.0\\nsamples = 4\\nvalue = [4, 0]'),\n",
       " Text(0.06290699103083917, 0.6111111111111112, 'X[5] <= 24.925\\ngini = 0.5\\nsamples = 2\\nvalue = [1, 1]'),\n",
       " Text(0.061924069295982306, 0.5740740740740741, 'gini = 0.0\\nsamples = 1\\nvalue = [0, 1]'),\n",
       " Text(0.06388991276569603, 0.5740740740740741, 'gini = 0.0\\nsamples = 1\\nvalue = [1, 0]'),\n",
       " Text(0.0648728345005529, 0.6851851851851852, 'X[5] <= 29.925\\ngini = 0.308\\nsamples = 21\\nvalue = [17, 4]'),\n",
       " Text(0.06388991276569603, 0.6481481481481481, 'gini = 0.0\\nsamples = 5\\nvalue = [5, 0]'),\n",
       " Text(0.06585575623540975, 0.6481481481481481, 'X[5] <= 30.175\\ngini = 0.375\\nsamples = 16\\nvalue = [12, 4]'),\n",
       " Text(0.0648728345005529, 0.6111111111111112, 'gini = 0.0\\nsamples = 1\\nvalue = [0, 1]'),\n",
       " Text(0.06683867797026662, 0.6111111111111112, 'X[5] <= 43.975\\ngini = 0.32\\nsamples = 15\\nvalue = [12, 3]'),\n",
       " Text(0.06585575623540975, 0.5740740740740741, 'X[2] <= 1.5\\ngini = 0.397\\nsamples = 11\\nvalue = [8, 3]'),\n",
       " Text(0.0648728345005529, 0.5370370370370371, 'X[5] <= 34.325\\ngini = 0.469\\nsamples = 8\\nvalue = [5, 3]'),\n",
       " Text(0.06388991276569603, 0.5, 'gini = 0.0\\nsamples = 2\\nvalue = [2, 0]'),\n",
       " Text(0.06585575623540975, 0.5, 'X[5] <= 35.475\\ngini = 0.5\\nsamples = 6\\nvalue = [3, 3]'),\n",
       " Text(0.0648728345005529, 0.46296296296296297, 'gini = 0.0\\nsamples = 1\\nvalue = [0, 1]'),\n",
       " Text(0.06683867797026662, 0.46296296296296297, 'X[0] <= 0.5\\ngini = 0.48\\nsamples = 5\\nvalue = [3, 2]'),\n",
       " Text(0.06585575623540975, 0.42592592592592593, 'X[5] <= 43.875\\ngini = 0.375\\nsamples = 4\\nvalue = [3, 1]'),\n",
       " Text(0.0648728345005529, 0.3888888888888889, 'gini = 0.0\\nsamples = 2\\nvalue = [2, 0]'),\n",
       " Text(0.06683867797026662, 0.3888888888888889, 'gini = 0.5\\nsamples = 2\\nvalue = [1, 1]'),\n",
       " Text(0.06782159970512348, 0.42592592592592593, 'gini = 0.0\\nsamples = 1\\nvalue = [0, 1]'),\n",
       " Text(0.06683867797026662, 0.5370370370370371, 'gini = 0.0\\nsamples = 3\\nvalue = [3, 0]'),\n",
       " Text(0.06782159970512348, 0.5740740740740741, 'gini = 0.0\\nsamples = 4\\nvalue = [4, 0]'),\n",
       " Text(0.07519351271654995, 0.7222222222222222, 'X[5] <= 46.25\\ngini = 0.496\\nsamples = 68\\nvalue = [37, 31]'),\n",
       " Text(0.0727362083794078, 0.6851851851851852, 'X[5] <= 45.675\\ngini = 0.444\\nsamples = 27\\nvalue = [9, 18]'),\n",
       " Text(0.07175328664455093, 0.6481481481481481, 'X[5] <= 45.4\\ngini = 0.49\\nsamples = 21\\nvalue = [9, 12]'),\n",
       " Text(0.07077036490969407, 0.6111111111111112, 'X[5] <= 44.425\\ngini = 0.465\\nsamples = 19\\nvalue = [7, 12]'),\n",
       " Text(0.0697874431748372, 0.5740740740740741, 'gini = 0.0\\nsamples = 3\\nvalue = [0, 3]'),\n",
       " Text(0.07175328664455093, 0.5740740740740741, 'X[5] <= 44.925\\ngini = 0.492\\nsamples = 16\\nvalue = [7, 9]'),\n",
       " Text(0.0697874431748372, 0.5370370370370371, 'X[2] <= 1.5\\ngini = 0.32\\nsamples = 5\\nvalue = [4, 1]'),\n",
       " Text(0.06880452143998034, 0.5, 'gini = 0.0\\nsamples = 2\\nvalue = [2, 0]'),\n",
       " Text(0.07077036490969407, 0.5, 'X[5] <= 44.55\\ngini = 0.444\\nsamples = 3\\nvalue = [2, 1]'),\n",
       " Text(0.0697874431748372, 0.46296296296296297, 'gini = 0.0\\nsamples = 1\\nvalue = [1, 0]'),\n",
       " Text(0.07175328664455093, 0.46296296296296297, 'X[5] <= 44.775\\ngini = 0.5\\nsamples = 2\\nvalue = [1, 1]'),\n",
       " Text(0.07077036490969407, 0.42592592592592593, 'gini = 0.0\\nsamples = 1\\nvalue = [0, 1]'),\n",
       " Text(0.0727362083794078, 0.42592592592592593, 'gini = 0.0\\nsamples = 1\\nvalue = [1, 0]'),\n",
       " Text(0.07371913011426465, 0.5370370370370371, 'X[5] <= 45.175\\ngini = 0.397\\nsamples = 11\\nvalue = [3, 8]'),\n",
       " Text(0.0727362083794078, 0.5, 'gini = 0.0\\nsamples = 5\\nvalue = [0, 5]'),\n",
       " Text(0.07470205184912151, 0.5, 'X[5] <= 45.275\\ngini = 0.5\\nsamples = 6\\nvalue = [3, 3]'),\n",
       " Text(0.07371913011426465, 0.46296296296296297, 'gini = 0.0\\nsamples = 2\\nvalue = [2, 0]'),\n",
       " Text(0.07568497358397838, 0.46296296296296297, 'X[0] <= 0.5\\ngini = 0.375\\nsamples = 4\\nvalue = [1, 3]'),\n",
       " Text(0.07470205184912151, 0.42592592592592593, 'gini = 0.0\\nsamples = 1\\nvalue = [1, 0]'),\n",
       " Text(0.07666789531883524, 0.42592592592592593, 'gini = 0.0\\nsamples = 3\\nvalue = [0, 3]'),\n",
       " Text(0.0727362083794078, 0.6111111111111112, 'gini = 0.0\\nsamples = 2\\nvalue = [2, 0]'),\n",
       " Text(0.07371913011426465, 0.6481481481481481, 'gini = 0.0\\nsamples = 6\\nvalue = [0, 6]'),\n",
       " Text(0.0776508170536921, 0.6851851851851852, 'X[5] <= 50.475\\ngini = 0.433\\nsamples = 41\\nvalue = [28, 13]'),\n",
       " Text(0.07568497358397838, 0.6481481481481481, 'X[5] <= 48.975\\ngini = 0.124\\nsamples = 15\\nvalue = [14, 1]'),\n",
       " Text(0.07470205184912151, 0.6111111111111112, 'X[5] <= 48.45\\ngini = 0.444\\nsamples = 3\\nvalue = [2, 1]'),\n",
       " Text(0.07371913011426465, 0.5740740740740741, 'gini = 0.0\\nsamples = 2\\nvalue = [2, 0]'),\n",
       " Text(0.07568497358397838, 0.5740740740740741, 'gini = 0.0\\nsamples = 1\\nvalue = [0, 1]'),\n",
       " Text(0.07666789531883524, 0.6111111111111112, 'gini = 0.0\\nsamples = 12\\nvalue = [12, 0]'),\n",
       " Text(0.07961666052340582, 0.6481481481481481, 'X[5] <= 50.675\\ngini = 0.497\\nsamples = 26\\nvalue = [14, 12]'),\n",
       " Text(0.07863373878854896, 0.6111111111111112, 'gini = 0.0\\nsamples = 2\\nvalue = [0, 2]'),\n",
       " Text(0.08059958225826269, 0.6111111111111112, 'X[0] <= 0.5\\ngini = 0.486\\nsamples = 24\\nvalue = [14, 10]'),\n",
       " Text(0.0776508170536921, 0.5740740740740741, 'X[5] <= 54.675\\ngini = 0.397\\nsamples = 11\\nvalue = [8, 3]'),\n",
       " Text(0.07666789531883524, 0.5370370370370371, 'gini = 0.0\\nsamples = 6\\nvalue = [6, 0]'),\n",
       " Text(0.07863373878854896, 0.5370370370370371, 'X[5] <= 60.025\\ngini = 0.48\\nsamples = 5\\nvalue = [2, 3]'),\n",
       " Text(0.0776508170536921, 0.5, 'gini = 0.0\\nsamples = 3\\nvalue = [0, 3]'),\n",
       " Text(0.07961666052340582, 0.5, 'gini = 0.0\\nsamples = 2\\nvalue = [2, 0]'),\n",
       " Text(0.08354834746283327, 0.5740740740740741, 'X[5] <= 61.6\\ngini = 0.497\\nsamples = 13\\nvalue = [6, 7]'),\n",
       " Text(0.08256542572797641, 0.5370370370370371, 'X[5] <= 60.375\\ngini = 0.496\\nsamples = 11\\nvalue = [6, 5]'),\n",
       " Text(0.08158250399311955, 0.5, 'X[5] <= 50.775\\ngini = 0.469\\nsamples = 8\\nvalue = [3, 5]'),\n",
       " Text(0.08059958225826269, 0.46296296296296297, 'gini = 0.0\\nsamples = 1\\nvalue = [1, 0]'),\n",
       " Text(0.08256542572797641, 0.46296296296296297, 'X[5] <= 53.85\\ngini = 0.408\\nsamples = 7\\nvalue = [2, 5]'),\n",
       " Text(0.08158250399311955, 0.42592592592592593, 'gini = 0.0\\nsamples = 3\\nvalue = [0, 3]'),\n",
       " Text(0.08354834746283327, 0.42592592592592593, 'X[5] <= 54.325\\ngini = 0.5\\nsamples = 4\\nvalue = [2, 2]'),\n",
       " Text(0.08256542572797641, 0.3888888888888889, 'gini = 0.0\\nsamples = 1\\nvalue = [1, 0]'),\n",
       " Text(0.08453126919769013, 0.3888888888888889, 'X[5] <= 54.95\\ngini = 0.444\\nsamples = 3\\nvalue = [1, 2]'),\n",
       " Text(0.08354834746283327, 0.35185185185185186, 'gini = 0.0\\nsamples = 1\\nvalue = [0, 1]'),\n",
       " Text(0.085514190932547, 0.35185185185185186, 'X[5] <= 57.825\\ngini = 0.5\\nsamples = 2\\nvalue = [1, 1]'),\n",
       " Text(0.08453126919769013, 0.3148148148148148, 'gini = 0.0\\nsamples = 1\\nvalue = [1, 0]'),\n",
       " Text(0.08649711266740386, 0.3148148148148148, 'gini = 0.0\\nsamples = 1\\nvalue = [0, 1]'),\n",
       " Text(0.08354834746283327, 0.5, 'gini = 0.0\\nsamples = 3\\nvalue = [3, 0]'),\n",
       " Text(0.08453126919769013, 0.5370370370370371, 'gini = 0.0\\nsamples = 2\\nvalue = [0, 2]'),\n",
       " Text(0.085514190932547, 0.7592592592592593, 'X[0] <= 0.5\\ngini = 0.469\\nsamples = 16\\nvalue = [6, 10]'),\n",
       " Text(0.08354834746283327, 0.7222222222222222, 'X[5] <= 42.3\\ngini = 0.219\\nsamples = 8\\nvalue = [1, 7]'),\n",
       " Text(0.08256542572797641, 0.6851851851851852, 'X[5] <= 35.4\\ngini = 0.444\\nsamples = 3\\nvalue = [1, 2]'),\n",
       " Text(0.08158250399311955, 0.6481481481481481, 'gini = 0.0\\nsamples = 2\\nvalue = [0, 2]'),\n",
       " Text(0.08354834746283327, 0.6481481481481481, 'gini = 0.0\\nsamples = 1\\nvalue = [1, 0]'),\n",
       " Text(0.08453126919769013, 0.6851851851851852, 'gini = 0.0\\nsamples = 5\\nvalue = [0, 5]'),\n",
       " Text(0.08748003440226072, 0.7222222222222222, 'X[5] <= 25.2\\ngini = 0.469\\nsamples = 8\\nvalue = [5, 3]'),\n",
       " Text(0.08649711266740386, 0.6851851851851852, 'gini = 0.0\\nsamples = 1\\nvalue = [0, 1]'),\n",
       " Text(0.08846295613711758, 0.6851851851851852, 'X[5] <= 30.0\\ngini = 0.408\\nsamples = 7\\nvalue = [5, 2]'),\n",
       " Text(0.08748003440226072, 0.6481481481481481, 'gini = 0.0\\nsamples = 3\\nvalue = [3, 0]'),\n",
       " Text(0.08944587787197444, 0.6481481481481481, 'X[3] <= 0.5\\ngini = 0.5\\nsamples = 4\\nvalue = [2, 2]'),\n",
       " Text(0.08846295613711758, 0.6111111111111112, 'gini = 0.0\\nsamples = 1\\nvalue = [0, 1]'),\n",
       " Text(0.09042879960683131, 0.6111111111111112, 'X[5] <= 44.625\\ngini = 0.444\\nsamples = 3\\nvalue = [2, 1]'),\n",
       " Text(0.08944587787197444, 0.5740740740740741, 'gini = 0.0\\nsamples = 1\\nvalue = [1, 0]'),\n",
       " Text(0.09141172134168817, 0.5740740740740741, 'X[5] <= 50.2\\ngini = 0.5\\nsamples = 2\\nvalue = [1, 1]'),\n",
       " Text(0.09042879960683131, 0.5370370370370371, 'gini = 0.0\\nsamples = 1\\nvalue = [0, 1]'),\n",
       " Text(0.09239464307654503, 0.5370370370370371, 'gini = 0.0\\nsamples = 1\\nvalue = [1, 0]'),\n",
       " Text(0.11696768644796658, 0.7962962962962963, 'X[5] <= 56.4\\ngini = 0.48\\nsamples = 135\\nvalue = [54, 81]'),\n",
       " Text(0.10910431256911168, 0.7592592592592593, 'X[3] <= 0.5\\ngini = 0.46\\nsamples = 123\\nvalue = [44, 79]'),\n",
       " Text(0.10173239955768522, 0.7222222222222222, 'X[1] <= 0.5\\ngini = 0.334\\nsamples = 33\\nvalue = [7, 26]'),\n",
       " Text(0.09927509522054306, 0.6851851851851852, 'X[5] <= 35.125\\ngini = 0.219\\nsamples = 24\\nvalue = [3, 21]'),\n",
       " Text(0.0982921734856862, 0.6481481481481481, 'X[5] <= 32.85\\ngini = 0.355\\nsamples = 13\\nvalue = [3, 10]'),\n",
       " Text(0.09730925175082934, 0.6111111111111112, 'X[5] <= 24.425\\ngini = 0.278\\nsamples = 12\\nvalue = [2, 10]'),\n",
       " Text(0.09534340828111562, 0.5740740740740741, 'X[5] <= 24.325\\ngini = 0.5\\nsamples = 2\\nvalue = [1, 1]'),\n",
       " Text(0.09436048654625875, 0.5370370370370371, 'gini = 0.0\\nsamples = 1\\nvalue = [0, 1]'),\n",
       " Text(0.09632633001597248, 0.5370370370370371, 'gini = 0.0\\nsamples = 1\\nvalue = [1, 0]'),\n",
       " Text(0.09927509522054306, 0.5740740740740741, 'X[0] <= 0.5\\ngini = 0.18\\nsamples = 10\\nvalue = [1, 9]'),\n",
       " Text(0.0982921734856862, 0.5370370370370371, 'X[5] <= 25.175\\ngini = 0.375\\nsamples = 4\\nvalue = [1, 3]'),\n",
       " Text(0.09730925175082934, 0.5, 'X[5] <= 25.125\\ngini = 0.5\\nsamples = 2\\nvalue = [1, 1]'),\n",
       " Text(0.09632633001597248, 0.46296296296296297, 'gini = 0.0\\nsamples = 1\\nvalue = [0, 1]'),\n",
       " Text(0.0982921734856862, 0.46296296296296297, 'gini = 0.0\\nsamples = 1\\nvalue = [1, 0]'),\n",
       " Text(0.09927509522054306, 0.5, 'gini = 0.0\\nsamples = 2\\nvalue = [0, 2]'),\n",
       " Text(0.10025801695539993, 0.5370370370370371, 'gini = 0.0\\nsamples = 6\\nvalue = [0, 6]'),\n",
       " Text(0.09927509522054306, 0.6111111111111112, 'gini = 0.0\\nsamples = 1\\nvalue = [1, 0]'),\n",
       " Text(0.10025801695539993, 0.6481481481481481, 'gini = 0.0\\nsamples = 11\\nvalue = [0, 11]'),\n",
       " Text(0.10418970389482737, 0.6851851851851852, 'X[5] <= 30.875\\ngini = 0.494\\nsamples = 9\\nvalue = [4, 5]'),\n",
       " Text(0.10222386042511365, 0.6481481481481481, 'X[5] <= 27.325\\ngini = 0.375\\nsamples = 4\\nvalue = [3, 1]'),\n",
       " Text(0.10124093869025678, 0.6111111111111112, 'gini = 0.0\\nsamples = 1\\nvalue = [0, 1]'),\n",
       " Text(0.1032067821599705, 0.6111111111111112, 'gini = 0.0\\nsamples = 3\\nvalue = [3, 0]'),\n",
       " Text(0.1061555473645411, 0.6481481481481481, 'X[5] <= 44.5\\ngini = 0.32\\nsamples = 5\\nvalue = [1, 4]'),\n",
       " Text(0.10517262562968424, 0.6111111111111112, 'gini = 0.0\\nsamples = 4\\nvalue = [0, 4]'),\n",
       " Text(0.10713846909939796, 0.6111111111111112, 'gini = 0.0\\nsamples = 1\\nvalue = [1, 0]'),\n",
       " Text(0.11647622558053815, 0.7222222222222222, 'X[5] <= 44.075\\ngini = 0.484\\nsamples = 90\\nvalue = [37, 53]'),\n",
       " Text(0.11205307777368227, 0.6851851851851852, 'X[5] <= 24.525\\ngini = 0.42\\nsamples = 10\\nvalue = [7, 3]'),\n",
       " Text(0.11008723430396855, 0.6481481481481481, 'X[5] <= 21.025\\ngini = 0.444\\nsamples = 3\\nvalue = [1, 2]'),\n",
       " Text(0.10910431256911168, 0.6111111111111112, 'gini = 0.0\\nsamples = 1\\nvalue = [0, 1]'),\n",
       " Text(0.1110701560388254, 0.6111111111111112, 'X[5] <= 22.55\\ngini = 0.5\\nsamples = 2\\nvalue = [1, 1]'),\n",
       " Text(0.11008723430396855, 0.5740740740740741, 'gini = 0.0\\nsamples = 1\\nvalue = [1, 0]'),\n",
       " Text(0.11205307777368227, 0.5740740740740741, 'gini = 0.0\\nsamples = 1\\nvalue = [0, 1]'),\n",
       " Text(0.114018921243396, 0.6481481481481481, 'X[2] <= 2.0\\ngini = 0.245\\nsamples = 7\\nvalue = [6, 1]'),\n",
       " Text(0.11303599950853914, 0.6111111111111112, 'gini = 0.0\\nsamples = 5\\nvalue = [5, 0]'),\n",
       " Text(0.11500184297825286, 0.6111111111111112, 'X[5] <= 34.85\\ngini = 0.5\\nsamples = 2\\nvalue = [1, 1]'),\n",
       " Text(0.114018921243396, 0.5740740740740741, 'gini = 0.0\\nsamples = 1\\nvalue = [1, 0]'),\n",
       " Text(0.11598476471310971, 0.5740740740740741, 'gini = 0.0\\nsamples = 1\\nvalue = [0, 1]'),\n",
       " Text(0.12089937338739402, 0.6851851851851852, 'X[5] <= 55.575\\ngini = 0.469\\nsamples = 80\\nvalue = [30, 50]'),\n",
       " Text(0.11991645165253717, 0.6481481481481481, 'X[5] <= 55.175\\ngini = 0.478\\nsamples = 76\\nvalue = [30, 46]'),\n",
       " Text(0.1189335299176803, 0.6111111111111112, 'X[5] <= 54.675\\ngini = 0.461\\nsamples = 72\\nvalue = [26, 46]'),\n",
       " Text(0.11795060818282345, 0.5740740740740741, 'X[5] <= 54.425\\ngini = 0.478\\nsamples = 66\\nvalue = [26, 40]'),\n",
       " Text(0.11696768644796658, 0.5370370370370371, 'X[5] <= 44.725\\ngini = 0.469\\nsamples = 64\\nvalue = [24, 40]'),\n",
       " Text(0.11272883646639636, 0.5, 'X[2] <= 1.5\\ngini = 0.219\\nsamples = 8\\nvalue = [1, 7]'),\n",
       " Text(0.1117459147315395, 0.46296296296296297, 'gini = 0.0\\nsamples = 4\\nvalue = [0, 4]'),\n",
       " Text(0.11371175820125322, 0.46296296296296297, 'X[5] <= 44.45\\ngini = 0.375\\nsamples = 4\\nvalue = [1, 3]'),\n",
       " Text(0.11272883646639636, 0.42592592592592593, 'X[0] <= 0.5\\ngini = 0.5\\nsamples = 2\\nvalue = [1, 1]'),\n",
       " Text(0.1117459147315395, 0.3888888888888889, 'gini = 0.0\\nsamples = 1\\nvalue = [1, 0]'),\n",
       " Text(0.11371175820125322, 0.3888888888888889, 'gini = 0.0\\nsamples = 1\\nvalue = [0, 1]'),\n",
       " Text(0.11469467993611009, 0.42592592592592593, 'gini = 0.0\\nsamples = 2\\nvalue = [0, 2]'),\n",
       " Text(0.1212065364295368, 0.5, 'X[5] <= 45.05\\ngini = 0.484\\nsamples = 56\\nvalue = [23, 33]'),\n",
       " Text(0.11764344514068067, 0.46296296296296297, 'X[0] <= 0.5\\ngini = 0.375\\nsamples = 4\\nvalue = [3, 1]'),\n",
       " Text(0.11666052340582381, 0.42592592592592593, 'X[5] <= 44.95\\ngini = 0.5\\nsamples = 2\\nvalue = [1, 1]'),\n",
       " Text(0.11567760167096695, 0.3888888888888889, 'gini = 0.0\\nsamples = 1\\nvalue = [0, 1]'),\n",
       " Text(0.11764344514068067, 0.3888888888888889, 'gini = 0.0\\nsamples = 1\\nvalue = [1, 0]'),\n",
       " Text(0.11862636687553754, 0.42592592592592593, 'gini = 0.0\\nsamples = 2\\nvalue = [2, 0]'),\n",
       " Text(0.12476962771839292, 0.46296296296296297, 'X[5] <= 45.75\\ngini = 0.473\\nsamples = 52\\nvalue = [20, 32]'),\n",
       " Text(0.12059221034525126, 0.42592592592592593, 'X[2] <= 1.5\\ngini = 0.298\\nsamples = 11\\nvalue = [2, 9]'),\n",
       " Text(0.1196092886103944, 0.3888888888888889, 'gini = 0.0\\nsamples = 7\\nvalue = [0, 7]'),\n",
       " Text(0.12157513208010812, 0.3888888888888889, 'X[0] <= 0.5\\ngini = 0.5\\nsamples = 4\\nvalue = [2, 2]'),\n",
       " Text(0.12059221034525126, 0.35185185185185186, 'gini = 0.0\\nsamples = 2\\nvalue = [2, 0]'),\n",
       " Text(0.12255805381496498, 0.35185185185185186, 'gini = 0.0\\nsamples = 2\\nvalue = [0, 2]'),\n",
       " Text(0.1289470450915346, 0.42592592592592593, 'X[5] <= 48.9\\ngini = 0.493\\nsamples = 41\\nvalue = [18, 23]'),\n",
       " Text(0.12550681901953556, 0.3888888888888889, 'X[5] <= 45.975\\ngini = 0.219\\nsamples = 8\\nvalue = [7, 1]'),\n",
       " Text(0.1245238972846787, 0.35185185185185186, 'X[5] <= 45.825\\ngini = 0.375\\nsamples = 4\\nvalue = [3, 1]'),\n",
       " Text(0.12354097554982185, 0.3148148148148148, 'gini = 0.0\\nsamples = 1\\nvalue = [1, 0]'),\n",
       " Text(0.12550681901953556, 0.3148148148148148, 'X[2] <= 1.5\\ngini = 0.444\\nsamples = 3\\nvalue = [2, 1]'),\n",
       " Text(0.1245238972846787, 0.2777777777777778, 'gini = 0.5\\nsamples = 2\\nvalue = [1, 1]'),\n",
       " Text(0.12648974075439243, 0.2777777777777778, 'gini = 0.0\\nsamples = 1\\nvalue = [1, 0]'),\n",
       " Text(0.12648974075439243, 0.35185185185185186, 'gini = 0.0\\nsamples = 4\\nvalue = [4, 0]'),\n",
       " Text(0.1323872711635336, 0.3888888888888889, 'X[5] <= 49.725\\ngini = 0.444\\nsamples = 33\\nvalue = [11, 22]'),\n",
       " Text(0.13042142769381987, 0.35185185185185186, 'X[2] <= 1.5\\ngini = 0.198\\nsamples = 9\\nvalue = [1, 8]'),\n",
       " Text(0.12943850595896303, 0.3148148148148148, 'X[5] <= 49.425\\ngini = 0.375\\nsamples = 4\\nvalue = [1, 3]'),\n",
       " Text(0.12845558422410616, 0.2777777777777778, 'X[1] <= 0.5\\ngini = 0.5\\nsamples = 2\\nvalue = [1, 1]'),\n",
       " Text(0.1274726624892493, 0.24074074074074073, 'gini = 0.0\\nsamples = 1\\nvalue = [1, 0]'),\n",
       " Text(0.12943850595896303, 0.24074074074074073, 'gini = 0.0\\nsamples = 1\\nvalue = [0, 1]'),\n",
       " Text(0.13042142769381987, 0.2777777777777778, 'gini = 0.0\\nsamples = 2\\nvalue = [0, 2]'),\n",
       " Text(0.13140434942867674, 0.3148148148148148, 'gini = 0.0\\nsamples = 5\\nvalue = [0, 5]'),\n",
       " Text(0.13435311463324734, 0.35185185185185186, 'X[5] <= 49.85\\ngini = 0.486\\nsamples = 24\\nvalue = [10, 14]'),\n",
       " Text(0.13337019289839047, 0.3148148148148148, 'gini = 0.0\\nsamples = 1\\nvalue = [1, 0]'),\n",
       " Text(0.13533603636810418, 0.3148148148148148, 'X[5] <= 50.775\\ngini = 0.476\\nsamples = 23\\nvalue = [9, 14]'),\n",
       " Text(0.1326330015972478, 0.2777777777777778, 'X[1] <= 0.5\\ngini = 0.498\\nsamples = 15\\nvalue = [7, 8]'),\n",
       " Text(0.13165007986239097, 0.24074074074074073, 'X[5] <= 50.6\\ngini = 0.5\\nsamples = 14\\nvalue = [7, 7]'),\n",
       " Text(0.1291927755252488, 0.2037037037037037, 'X[5] <= 50.3\\ngini = 0.496\\nsamples = 11\\nvalue = [5, 6]'),\n",
       " Text(0.1272269320555351, 0.16666666666666666, 'X[2] <= 2.0\\ngini = 0.49\\nsamples = 7\\nvalue = [4, 3]'),\n",
       " Text(0.12624401032067822, 0.12962962962962962, 'X[5] <= 50.125\\ngini = 0.444\\nsamples = 6\\nvalue = [4, 2]'),\n",
       " Text(0.12526108858582136, 0.09259259259259259, 'X[0] <= 0.5\\ngini = 0.48\\nsamples = 5\\nvalue = [3, 2]'),\n",
       " Text(0.12427816685096449, 0.05555555555555555, 'X[5] <= 50.0\\ngini = 0.444\\nsamples = 3\\nvalue = [2, 1]'),\n",
       " Text(0.12329524511610764, 0.018518518518518517, 'gini = 0.0\\nsamples = 1\\nvalue = [1, 0]'),\n",
       " Text(0.12526108858582136, 0.018518518518518517, 'gini = 0.5\\nsamples = 2\\nvalue = [1, 1]'),\n",
       " Text(0.12624401032067822, 0.05555555555555555, 'gini = 0.5\\nsamples = 2\\nvalue = [1, 1]'),\n",
       " Text(0.1272269320555351, 0.09259259259259259, 'gini = 0.0\\nsamples = 1\\nvalue = [1, 0]'),\n",
       " Text(0.12820985379039193, 0.12962962962962962, 'gini = 0.0\\nsamples = 1\\nvalue = [0, 1]'),\n",
       " Text(0.13115861899496253, 0.16666666666666666, 'X[2] <= 2.0\\ngini = 0.375\\nsamples = 4\\nvalue = [1, 3]'),\n",
       " Text(0.13017569726010567, 0.12962962962962962, 'gini = 0.0\\nsamples = 3\\nvalue = [0, 3]'),\n",
       " Text(0.1321415407298194, 0.12962962962962962, 'gini = 0.0\\nsamples = 1\\nvalue = [1, 0]'),\n",
       " Text(0.1341073841995331, 0.2037037037037037, 'X[5] <= 50.725\\ngini = 0.444\\nsamples = 3\\nvalue = [2, 1]'),\n",
       " Text(0.13312446246467624, 0.16666666666666666, 'gini = 0.0\\nsamples = 1\\nvalue = [1, 0]'),\n",
       " Text(0.13509030593438998, 0.16666666666666666, 'gini = 0.5\\nsamples = 2\\nvalue = [1, 1]'),\n",
       " Text(0.13361592333210467, 0.24074074074074073, 'gini = 0.0\\nsamples = 1\\nvalue = [0, 1]'),\n",
       " Text(0.13803907113896055, 0.2777777777777778, 'X[1] <= 0.5\\ngini = 0.375\\nsamples = 8\\nvalue = [2, 6]'),\n",
       " Text(0.1370561494041037, 0.24074074074074073, 'X[2] <= 2.5\\ngini = 0.245\\nsamples = 7\\nvalue = [1, 6]'),\n",
       " Text(0.13607322766924684, 0.2037037037037037, 'gini = 0.0\\nsamples = 6\\nvalue = [0, 6]'),\n",
       " Text(0.13803907113896055, 0.2037037037037037, 'gini = 0.0\\nsamples = 1\\nvalue = [1, 0]'),\n",
       " Text(0.13902199287381742, 0.24074074074074073, 'gini = 0.0\\nsamples = 1\\nvalue = [1, 0]'),\n",
       " Text(0.1189335299176803, 0.5370370370370371, 'gini = 0.0\\nsamples = 2\\nvalue = [2, 0]'),\n",
       " Text(0.11991645165253717, 0.5740740740740741, 'gini = 0.0\\nsamples = 6\\nvalue = [0, 6]'),\n",
       " Text(0.12089937338739402, 0.6111111111111112, 'gini = 0.0\\nsamples = 4\\nvalue = [4, 0]'),\n",
       " Text(0.12188229512225089, 0.6481481481481481, 'gini = 0.0\\nsamples = 4\\nvalue = [0, 4]'),\n",
       " Text(0.12483106032682148, 0.7592592592592593, 'X[0] <= 0.5\\ngini = 0.278\\nsamples = 12\\nvalue = [10, 2]'),\n",
       " Text(0.12384813859196461, 0.7222222222222222, 'X[2] <= 1.5\\ngini = 0.408\\nsamples = 7\\nvalue = [5, 2]'),\n",
       " Text(0.12286521685710776, 0.6851851851851852, 'gini = 0.0\\nsamples = 1\\nvalue = [0, 1]'),\n",
       " Text(0.12483106032682148, 0.6851851851851852, 'X[5] <= 62.4\\ngini = 0.278\\nsamples = 6\\nvalue = [5, 1]'),\n",
       " Text(0.12384813859196461, 0.6481481481481481, 'gini = 0.0\\nsamples = 4\\nvalue = [4, 0]'),\n",
       " Text(0.12581398206167835, 0.6481481481481481, 'X[5] <= 64.05\\ngini = 0.5\\nsamples = 2\\nvalue = [1, 1]'),\n",
       " Text(0.12483106032682148, 0.6111111111111112, 'gini = 0.0\\nsamples = 1\\nvalue = [0, 1]'),\n",
       " Text(0.1267969037965352, 0.6111111111111112, 'gini = 0.0\\nsamples = 1\\nvalue = [1, 0]'),\n",
       " Text(0.12581398206167835, 0.7222222222222222, 'gini = 0.0\\nsamples = 5\\nvalue = [5, 0]'),\n",
       " Text(0.16729635090305933, 0.8703703703703703, 'X[5] <= 20.9\\ngini = 0.318\\nsamples = 429\\nvalue = [344, 85]'),\n",
       " Text(0.13674898636196092, 0.8333333333333334, 'X[5] <= 19.275\\ngini = 0.142\\nsamples = 156\\nvalue = [144, 12]'),\n",
       " Text(0.1297456690011058, 0.7962962962962963, 'X[5] <= 19.225\\ngini = 0.391\\nsamples = 15\\nvalue = [11, 4]'),\n",
       " Text(0.12876274726624892, 0.7592592592592593, 'X[2] <= 8.5\\ngini = 0.26\\nsamples = 13\\nvalue = [11, 2]'),\n",
       " Text(0.12777982553139206, 0.7222222222222222, 'gini = 0.0\\nsamples = 8\\nvalue = [8, 0]'),\n",
       " Text(0.1297456690011058, 0.7222222222222222, 'X[5] <= 19.025\\ngini = 0.48\\nsamples = 5\\nvalue = [3, 2]'),\n",
       " Text(0.12876274726624892, 0.6851851851851852, 'X[5] <= 18.9\\ngini = 0.444\\nsamples = 3\\nvalue = [1, 2]'),\n",
       " Text(0.12777982553139206, 0.6481481481481481, 'gini = 0.0\\nsamples = 1\\nvalue = [1, 0]'),\n",
       " Text(0.1297456690011058, 0.6481481481481481, 'gini = 0.0\\nsamples = 2\\nvalue = [0, 2]'),\n",
       " Text(0.13072859073596266, 0.6851851851851852, 'gini = 0.0\\nsamples = 2\\nvalue = [2, 0]'),\n",
       " Text(0.13072859073596266, 0.7592592592592593, 'gini = 0.0\\nsamples = 2\\nvalue = [0, 2]'),\n",
       " Text(0.14375230372281608, 0.7962962962962963, 'X[1] <= 0.5\\ngini = 0.107\\nsamples = 141\\nvalue = [133, 8]'),\n",
       " Text(0.1381005037473891, 0.7592592592592593, 'X[2] <= 5.5\\ngini = 0.064\\nsamples = 91\\nvalue = [88, 3]'),\n",
       " Text(0.1346602776753901, 0.7222222222222222, 'X[0] <= 0.5\\ngini = 0.133\\nsamples = 28\\nvalue = [26, 2]'),\n",
       " Text(0.13367735594053323, 0.6851851851851852, 'X[5] <= 19.9\\ngini = 0.26\\nsamples = 13\\nvalue = [11, 2]'),\n",
       " Text(0.1317115124708195, 0.6481481481481481, 'X[5] <= 19.7\\ngini = 0.5\\nsamples = 2\\nvalue = [1, 1]'),\n",
       " Text(0.13072859073596266, 0.6111111111111112, 'gini = 0.0\\nsamples = 1\\nvalue = [1, 0]'),\n",
       " Text(0.13269443420567636, 0.6111111111111112, 'gini = 0.0\\nsamples = 1\\nvalue = [0, 1]'),\n",
       " Text(0.13564319941024697, 0.6481481481481481, 'X[5] <= 20.25\\ngini = 0.165\\nsamples = 11\\nvalue = [10, 1]'),\n",
       " Text(0.1346602776753901, 0.6111111111111112, 'gini = 0.0\\nsamples = 6\\nvalue = [6, 0]'),\n",
       " Text(0.13662612114510383, 0.6111111111111112, 'X[5] <= 20.375\\ngini = 0.32\\nsamples = 5\\nvalue = [4, 1]'),\n",
       " Text(0.13564319941024697, 0.5740740740740741, 'gini = 0.0\\nsamples = 1\\nvalue = [0, 1]'),\n",
       " Text(0.13760904287996067, 0.5740740740740741, 'gini = 0.0\\nsamples = 4\\nvalue = [4, 0]'),\n",
       " Text(0.13564319941024697, 0.6851851851851852, 'gini = 0.0\\nsamples = 15\\nvalue = [15, 0]'),\n",
       " Text(0.14154072981938814, 0.7222222222222222, 'X[5] <= 20.225\\ngini = 0.031\\nsamples = 63\\nvalue = [62, 1]'),\n",
       " Text(0.14055780808453128, 0.6851851851851852, 'gini = 0.0\\nsamples = 44\\nvalue = [44, 0]'),\n",
       " Text(0.14252365155424498, 0.6851851851851852, 'X[5] <= 20.275\\ngini = 0.1\\nsamples = 19\\nvalue = [18, 1]'),\n",
       " Text(0.14154072981938814, 0.6481481481481481, 'X[2] <= 10.0\\ngini = 0.444\\nsamples = 3\\nvalue = [2, 1]'),\n",
       " Text(0.14055780808453128, 0.6111111111111112, 'X[0] <= 0.5\\ngini = 0.5\\nsamples = 2\\nvalue = [1, 1]'),\n",
       " Text(0.1395748863496744, 0.5740740740740741, 'gini = 0.0\\nsamples = 1\\nvalue = [1, 0]'),\n",
       " Text(0.14154072981938814, 0.5740740740740741, 'gini = 0.0\\nsamples = 1\\nvalue = [0, 1]'),\n",
       " Text(0.14252365155424498, 0.6111111111111112, 'gini = 0.0\\nsamples = 1\\nvalue = [1, 0]'),\n",
       " Text(0.14350657328910185, 0.6481481481481481, 'gini = 0.0\\nsamples = 16\\nvalue = [16, 0]'),\n",
       " Text(0.14940410369824303, 0.7592592592592593, 'X[0] <= 0.5\\ngini = 0.18\\nsamples = 50\\nvalue = [45, 5]'),\n",
       " Text(0.1474382602285293, 0.7222222222222222, 'X[2] <= 8.5\\ngini = 0.26\\nsamples = 26\\nvalue = [22, 4]'),\n",
       " Text(0.14645533849367245, 0.6851851851851852, 'X[5] <= 20.4\\ngini = 0.375\\nsamples = 16\\nvalue = [12, 4]'),\n",
       " Text(0.1454724167588156, 0.6481481481481481, 'X[5] <= 20.25\\ngini = 0.426\\nsamples = 13\\nvalue = [9, 4]'),\n",
       " Text(0.14448949502395872, 0.6111111111111112, 'X[2] <= 5.0\\ngini = 0.375\\nsamples = 12\\nvalue = [9, 3]'),\n",
       " Text(0.14350657328910185, 0.5740740740740741, 'gini = 0.0\\nsamples = 3\\nvalue = [3, 0]'),\n",
       " Text(0.1454724167588156, 0.5740740740740741, 'X[5] <= 20.125\\ngini = 0.444\\nsamples = 9\\nvalue = [6, 3]'),\n",
       " Text(0.14448949502395872, 0.5370370370370371, 'X[5] <= 19.775\\ngini = 0.375\\nsamples = 8\\nvalue = [6, 2]'),\n",
       " Text(0.14350657328910185, 0.5, 'X[4] <= 0.5\\ngini = 0.48\\nsamples = 5\\nvalue = [3, 2]'),\n",
       " Text(0.14252365155424498, 0.46296296296296297, 'X[5] <= 19.6\\ngini = 0.375\\nsamples = 4\\nvalue = [3, 1]'),\n",
       " Text(0.14154072981938814, 0.42592592592592593, 'X[2] <= 7.0\\ngini = 0.5\\nsamples = 2\\nvalue = [1, 1]'),\n",
       " Text(0.14055780808453128, 0.3888888888888889, 'gini = 0.0\\nsamples = 1\\nvalue = [0, 1]'),\n",
       " Text(0.14252365155424498, 0.3888888888888889, 'gini = 0.0\\nsamples = 1\\nvalue = [1, 0]'),\n",
       " Text(0.14350657328910185, 0.42592592592592593, 'gini = 0.0\\nsamples = 2\\nvalue = [2, 0]'),\n",
       " Text(0.14448949502395872, 0.46296296296296297, 'gini = 0.0\\nsamples = 1\\nvalue = [0, 1]'),\n",
       " Text(0.1454724167588156, 0.5, 'gini = 0.0\\nsamples = 3\\nvalue = [3, 0]'),\n",
       " Text(0.14645533849367245, 0.5370370370370371, 'gini = 0.0\\nsamples = 1\\nvalue = [0, 1]'),\n",
       " Text(0.14645533849367245, 0.6111111111111112, 'gini = 0.0\\nsamples = 1\\nvalue = [0, 1]'),\n",
       " Text(0.1474382602285293, 0.6481481481481481, 'gini = 0.0\\nsamples = 3\\nvalue = [3, 0]'),\n",
       " Text(0.14842118196338616, 0.6851851851851852, 'gini = 0.0\\nsamples = 10\\nvalue = [10, 0]'),\n",
       " Text(0.15136994716795676, 0.7222222222222222, 'X[2] <= 10.5\\ngini = 0.08\\nsamples = 24\\nvalue = [23, 1]'),\n",
       " Text(0.1503870254330999, 0.6851851851851852, 'gini = 0.0\\nsamples = 19\\nvalue = [19, 0]'),\n",
       " Text(0.1523528689028136, 0.6851851851851852, 'X[2] <= 11.5\\ngini = 0.32\\nsamples = 5\\nvalue = [4, 1]'),\n",
       " Text(0.15136994716795676, 0.6481481481481481, 'X[5] <= 19.8\\ngini = 0.5\\nsamples = 2\\nvalue = [1, 1]'),\n",
       " Text(0.1503870254330999, 0.6111111111111112, 'gini = 0.0\\nsamples = 1\\nvalue = [1, 0]'),\n",
       " Text(0.1523528689028136, 0.6111111111111112, 'gini = 0.0\\nsamples = 1\\nvalue = [0, 1]'),\n",
       " Text(0.15333579063767047, 0.6481481481481481, 'gini = 0.0\\nsamples = 3\\nvalue = [3, 0]'),\n",
       " Text(0.19784371544415777, 0.8333333333333334, 'X[5] <= 51.125\\ngini = 0.392\\nsamples = 273\\nvalue = [200, 73]'),\n",
       " Text(0.17477577097923577, 0.7962962962962963, 'X[2] <= 5.5\\ngini = 0.449\\nsamples = 182\\nvalue = [120, 62]'),\n",
       " Text(0.1629192775525249, 0.7592592592592593, 'X[5] <= 45.525\\ngini = 0.5\\nsamples = 56\\nvalue = [28, 28]'),\n",
       " Text(0.15825039931195478, 0.7222222222222222, 'X[1] <= 0.5\\ngini = 0.464\\nsamples = 30\\nvalue = [19, 11]'),\n",
       " Text(0.15628455584224107, 0.6851851851851852, 'X[5] <= 43.65\\ngini = 0.499\\nsamples = 19\\nvalue = [9, 10]'),\n",
       " Text(0.1553016341073842, 0.6481481481481481, 'X[5] <= 35.0\\ngini = 0.469\\nsamples = 16\\nvalue = [6, 10]'),\n",
       " Text(0.15431871237252734, 0.6111111111111112, 'X[5] <= 22.475\\ngini = 0.497\\nsamples = 13\\nvalue = [6, 7]'),\n",
       " Text(0.15333579063767047, 0.5740740740740741, 'gini = 0.0\\nsamples = 2\\nvalue = [0, 2]'),\n",
       " Text(0.1553016341073842, 0.5740740740740741, 'X[3] <= 0.5\\ngini = 0.496\\nsamples = 11\\nvalue = [6, 5]'),\n",
       " Text(0.15431871237252734, 0.5370370370370371, 'X[5] <= 30.075\\ngini = 0.469\\nsamples = 8\\nvalue = [3, 5]'),\n",
       " Text(0.15333579063767047, 0.5, 'X[5] <= 24.375\\ngini = 0.408\\nsamples = 7\\nvalue = [2, 5]'),\n",
       " Text(0.15136994716795676, 0.46296296296296297, 'X[5] <= 24.275\\ngini = 0.5\\nsamples = 2\\nvalue = [1, 1]'),\n",
       " Text(0.1503870254330999, 0.42592592592592593, 'gini = 0.0\\nsamples = 1\\nvalue = [0, 1]'),\n",
       " Text(0.1523528689028136, 0.42592592592592593, 'gini = 0.0\\nsamples = 1\\nvalue = [1, 0]'),\n",
       " Text(0.1553016341073842, 0.46296296296296297, 'X[5] <= 28.8\\ngini = 0.32\\nsamples = 5\\nvalue = [1, 4]'),\n",
       " Text(0.15431871237252734, 0.42592592592592593, 'gini = 0.0\\nsamples = 3\\nvalue = [0, 3]'),\n",
       " Text(0.15628455584224107, 0.42592592592592593, 'X[0] <= 0.5\\ngini = 0.5\\nsamples = 2\\nvalue = [1, 1]'),\n",
       " Text(0.1553016341073842, 0.3888888888888889, 'gini = 0.0\\nsamples = 1\\nvalue = [1, 0]'),\n",
       " Text(0.1572674775770979, 0.3888888888888889, 'gini = 0.0\\nsamples = 1\\nvalue = [0, 1]'),\n",
       " Text(0.1553016341073842, 0.5, 'gini = 0.0\\nsamples = 1\\nvalue = [1, 0]'),\n",
       " Text(0.15628455584224107, 0.5370370370370371, 'gini = 0.0\\nsamples = 3\\nvalue = [3, 0]'),\n",
       " Text(0.15628455584224107, 0.6111111111111112, 'gini = 0.0\\nsamples = 3\\nvalue = [0, 3]'),\n",
       " Text(0.1572674775770979, 0.6481481481481481, 'gini = 0.0\\nsamples = 3\\nvalue = [3, 0]'),\n",
       " Text(0.16021624278166852, 0.6851851851851852, 'X[5] <= 27.475\\ngini = 0.165\\nsamples = 11\\nvalue = [10, 1]'),\n",
       " Text(0.15923332104681165, 0.6481481481481481, 'X[5] <= 25.525\\ngini = 0.444\\nsamples = 3\\nvalue = [2, 1]'),\n",
       " Text(0.15825039931195478, 0.6111111111111112, 'gini = 0.0\\nsamples = 2\\nvalue = [2, 0]'),\n",
       " Text(0.16021624278166852, 0.6111111111111112, 'gini = 0.0\\nsamples = 1\\nvalue = [0, 1]'),\n",
       " Text(0.16119916451652538, 0.6481481481481481, 'gini = 0.0\\nsamples = 8\\nvalue = [8, 0]'),\n",
       " Text(0.16758815579309497, 0.7222222222222222, 'X[4] <= 0.5\\ngini = 0.453\\nsamples = 26\\nvalue = [9, 17]'),\n",
       " Text(0.16414792972109596, 0.6851851851851852, 'X[5] <= 48.2\\ngini = 0.165\\nsamples = 11\\nvalue = [1, 10]'),\n",
       " Text(0.1631650079862391, 0.6481481481481481, 'gini = 0.0\\nsamples = 5\\nvalue = [0, 5]'),\n",
       " Text(0.16513085145595283, 0.6481481481481481, 'X[5] <= 49.3\\ngini = 0.278\\nsamples = 6\\nvalue = [1, 5]'),\n",
       " Text(0.16414792972109596, 0.6111111111111112, 'gini = 0.0\\nsamples = 1\\nvalue = [1, 0]'),\n",
       " Text(0.1661137731908097, 0.6111111111111112, 'gini = 0.0\\nsamples = 5\\nvalue = [0, 5]'),\n",
       " Text(0.171028381865094, 0.6851851851851852, 'X[5] <= 50.925\\ngini = 0.498\\nsamples = 15\\nvalue = [8, 7]'),\n",
       " Text(0.16906253839538027, 0.6481481481481481, 'X[5] <= 45.95\\ngini = 0.496\\nsamples = 11\\nvalue = [5, 6]'),\n",
       " Text(0.1680796166605234, 0.6111111111111112, 'gini = 0.0\\nsamples = 1\\nvalue = [1, 0]'),\n",
       " Text(0.17004546013023714, 0.6111111111111112, 'X[5] <= 48.6\\ngini = 0.48\\nsamples = 10\\nvalue = [4, 6]'),\n",
       " Text(0.16906253839538027, 0.5740740740740741, 'gini = 0.0\\nsamples = 2\\nvalue = [0, 2]'),\n",
       " Text(0.171028381865094, 0.5740740740740741, 'X[5] <= 48.925\\ngini = 0.5\\nsamples = 8\\nvalue = [4, 4]'),\n",
       " Text(0.17004546013023714, 0.5370370370370371, 'gini = 0.0\\nsamples = 1\\nvalue = [1, 0]'),\n",
       " Text(0.17201130359995084, 0.5370370370370371, 'X[0] <= 0.5\\ngini = 0.49\\nsamples = 7\\nvalue = [3, 4]'),\n",
       " Text(0.17004546013023714, 0.5, 'X[5] <= 50.575\\ngini = 0.444\\nsamples = 3\\nvalue = [2, 1]'),\n",
       " Text(0.16906253839538027, 0.46296296296296297, 'gini = 0.0\\nsamples = 2\\nvalue = [2, 0]'),\n",
       " Text(0.171028381865094, 0.46296296296296297, 'gini = 0.0\\nsamples = 1\\nvalue = [0, 1]'),\n",
       " Text(0.17397714706966458, 0.5, 'X[5] <= 50.1\\ngini = 0.375\\nsamples = 4\\nvalue = [1, 3]'),\n",
       " Text(0.1729942253348077, 0.46296296296296297, 'gini = 0.0\\nsamples = 2\\nvalue = [0, 2]'),\n",
       " Text(0.17496006880452145, 0.46296296296296297, 'X[1] <= 0.5\\ngini = 0.5\\nsamples = 2\\nvalue = [1, 1]'),\n",
       " Text(0.17397714706966458, 0.42592592592592593, 'gini = 0.0\\nsamples = 1\\nvalue = [1, 0]'),\n",
       " Text(0.1759429905393783, 0.42592592592592593, 'gini = 0.0\\nsamples = 1\\nvalue = [0, 1]'),\n",
       " Text(0.1729942253348077, 0.6481481481481481, 'X[5] <= 50.975\\ngini = 0.375\\nsamples = 4\\nvalue = [3, 1]'),\n",
       " Text(0.17201130359995084, 0.6111111111111112, 'gini = 0.0\\nsamples = 2\\nvalue = [2, 0]'),\n",
       " Text(0.17397714706966458, 0.6111111111111112, 'X[3] <= 0.5\\ngini = 0.5\\nsamples = 2\\nvalue = [1, 1]'),\n",
       " Text(0.1729942253348077, 0.5740740740740741, 'gini = 0.0\\nsamples = 1\\nvalue = [0, 1]'),\n",
       " Text(0.17496006880452145, 0.5740740740740741, 'gini = 0.0\\nsamples = 1\\nvalue = [1, 0]'),\n",
       " Text(0.18663226440594669, 0.7592592592592593, 'X[5] <= 29.375\\ngini = 0.394\\nsamples = 126\\nvalue = [92, 34]'),\n",
       " Text(0.17987467747880576, 0.7222222222222222, 'X[3] <= 0.5\\ngini = 0.198\\nsamples = 36\\nvalue = [32, 4]'),\n",
       " Text(0.17790883400909202, 0.6851851851851852, 'X[4] <= 0.5\\ngini = 0.444\\nsamples = 9\\nvalue = [6, 3]'),\n",
       " Text(0.17692591227423515, 0.6481481481481481, 'X[5] <= 29.275\\ngini = 0.375\\nsamples = 4\\nvalue = [1, 3]'),\n",
       " Text(0.1759429905393783, 0.6111111111111112, 'gini = 0.0\\nsamples = 3\\nvalue = [0, 3]'),\n",
       " Text(0.17790883400909202, 0.6111111111111112, 'gini = 0.0\\nsamples = 1\\nvalue = [1, 0]'),\n",
       " Text(0.1788917557439489, 0.6481481481481481, 'gini = 0.0\\nsamples = 5\\nvalue = [5, 0]'),\n",
       " Text(0.18184052094851946, 0.6851851851851852, 'X[5] <= 23.325\\ngini = 0.071\\nsamples = 27\\nvalue = [26, 1]'),\n",
       " Text(0.18085759921366262, 0.6481481481481481, 'X[5] <= 22.2\\ngini = 0.219\\nsamples = 8\\nvalue = [7, 1]'),\n",
       " Text(0.17987467747880576, 0.6111111111111112, 'gini = 0.0\\nsamples = 7\\nvalue = [7, 0]'),\n",
       " Text(0.18184052094851946, 0.6111111111111112, 'gini = 0.0\\nsamples = 1\\nvalue = [0, 1]'),\n",
       " Text(0.18282344268337633, 0.6481481481481481, 'gini = 0.0\\nsamples = 19\\nvalue = [19, 0]'),\n",
       " Text(0.19338985133308761, 0.7222222222222222, 'X[4] <= 0.5\\ngini = 0.444\\nsamples = 90\\nvalue = [60, 30]'),\n",
       " Text(0.18675512962280377, 0.6851851851851852, 'X[0] <= 0.5\\ngini = 0.283\\nsamples = 41\\nvalue = [34, 7]'),\n",
       " Text(0.18478928615309007, 0.6481481481481481, 'X[2] <= 10.5\\ngini = 0.091\\nsamples = 21\\nvalue = [20, 1]'),\n",
       " Text(0.1838063644182332, 0.6111111111111112, 'gini = 0.0\\nsamples = 14\\nvalue = [14, 0]'),\n",
       " Text(0.18577220788794693, 0.6111111111111112, 'X[2] <= 11.5\\ngini = 0.245\\nsamples = 7\\nvalue = [6, 1]'),\n",
       " Text(0.18478928615309007, 0.5740740740740741, 'X[1] <= 0.5\\ngini = 0.444\\nsamples = 3\\nvalue = [2, 1]'),\n",
       " Text(0.1838063644182332, 0.5370370370370371, 'gini = 0.0\\nsamples = 1\\nvalue = [0, 1]'),\n",
       " Text(0.18577220788794693, 0.5370370370370371, 'gini = 0.0\\nsamples = 2\\nvalue = [2, 0]'),\n",
       " Text(0.18675512962280377, 0.5740740740740741, 'gini = 0.0\\nsamples = 4\\nvalue = [4, 0]'),\n",
       " Text(0.1887209730925175, 0.6481481481481481, 'X[5] <= 31.75\\ngini = 0.42\\nsamples = 20\\nvalue = [14, 6]'),\n",
       " Text(0.18773805135766064, 0.6111111111111112, 'gini = 0.0\\nsamples = 1\\nvalue = [0, 1]'),\n",
       " Text(0.18970389482737438, 0.6111111111111112, 'X[5] <= 39.6\\ngini = 0.388\\nsamples = 19\\nvalue = [14, 5]'),\n",
       " Text(0.1887209730925175, 0.5740740740740741, 'gini = 0.0\\nsamples = 4\\nvalue = [4, 0]'),\n",
       " Text(0.19068681656223124, 0.5740740740740741, 'X[2] <= 11.0\\ngini = 0.444\\nsamples = 15\\nvalue = [10, 5]'),\n",
       " Text(0.18970389482737438, 0.5370370370370371, 'X[5] <= 48.95\\ngini = 0.408\\nsamples = 14\\nvalue = [10, 4]'),\n",
       " Text(0.1887209730925175, 0.5, 'X[5] <= 42.1\\ngini = 0.494\\nsamples = 9\\nvalue = [5, 4]'),\n",
       " Text(0.18773805135766064, 0.46296296296296297, 'gini = 0.0\\nsamples = 1\\nvalue = [0, 1]'),\n",
       " Text(0.18970389482737438, 0.46296296296296297, 'X[5] <= 44.725\\ngini = 0.469\\nsamples = 8\\nvalue = [5, 3]'),\n",
       " Text(0.1887209730925175, 0.42592592592592593, 'gini = 0.0\\nsamples = 3\\nvalue = [3, 0]'),\n",
       " Text(0.19068681656223124, 0.42592592592592593, 'X[2] <= 9.5\\ngini = 0.48\\nsamples = 5\\nvalue = [2, 3]'),\n",
       " Text(0.18970389482737438, 0.3888888888888889, 'X[5] <= 44.85\\ngini = 0.375\\nsamples = 4\\nvalue = [1, 3]'),\n",
       " Text(0.1887209730925175, 0.35185185185185186, 'X[2] <= 6.5\\ngini = 0.5\\nsamples = 2\\nvalue = [1, 1]'),\n",
       " Text(0.18773805135766064, 0.3148148148148148, 'gini = 0.0\\nsamples = 1\\nvalue = [0, 1]'),\n",
       " Text(0.18970389482737438, 0.3148148148148148, 'gini = 0.0\\nsamples = 1\\nvalue = [1, 0]'),\n",
       " Text(0.19068681656223124, 0.35185185185185186, 'gini = 0.0\\nsamples = 2\\nvalue = [0, 2]'),\n",
       " Text(0.19166973829708808, 0.3888888888888889, 'gini = 0.0\\nsamples = 1\\nvalue = [1, 0]'),\n",
       " Text(0.19068681656223124, 0.5, 'gini = 0.0\\nsamples = 5\\nvalue = [5, 0]'),\n",
       " Text(0.19166973829708808, 0.5370370370370371, 'gini = 0.0\\nsamples = 1\\nvalue = [0, 1]'),\n",
       " Text(0.20002457304337143, 0.6851851851851852, 'X[5] <= 35.375\\ngini = 0.498\\nsamples = 49\\nvalue = [26, 23]'),\n",
       " Text(0.1965843469713724, 0.6481481481481481, 'X[2] <= 10.5\\ngini = 0.397\\nsamples = 11\\nvalue = [3, 8]'),\n",
       " Text(0.19560142523651555, 0.6111111111111112, 'X[5] <= 29.625\\ngini = 0.198\\nsamples = 9\\nvalue = [1, 8]'),\n",
       " Text(0.19461850350165869, 0.5740740740740741, 'X[2] <= 9.0\\ngini = 0.5\\nsamples = 2\\nvalue = [1, 1]'),\n",
       " Text(0.19363558176680182, 0.5370370370370371, 'gini = 0.0\\nsamples = 1\\nvalue = [0, 1]'),\n",
       " Text(0.19560142523651555, 0.5370370370370371, 'gini = 0.0\\nsamples = 1\\nvalue = [1, 0]'),\n",
       " Text(0.1965843469713724, 0.5740740740740741, 'gini = 0.0\\nsamples = 7\\nvalue = [0, 7]'),\n",
       " Text(0.19756726870622926, 0.6111111111111112, 'gini = 0.0\\nsamples = 2\\nvalue = [2, 0]'),\n",
       " Text(0.20346479911537044, 0.6481481481481481, 'X[5] <= 50.55\\ngini = 0.478\\nsamples = 38\\nvalue = [23, 15]'),\n",
       " Text(0.20248187738051357, 0.6111111111111112, 'X[5] <= 45.65\\ngini = 0.461\\nsamples = 36\\nvalue = [23, 13]'),\n",
       " Text(0.19855019044108613, 0.5740740740740741, 'X[5] <= 45.2\\ngini = 0.499\\nsamples = 21\\nvalue = [11, 10]'),\n",
       " Text(0.19756726870622926, 0.5370370370370371, 'X[5] <= 43.55\\ngini = 0.475\\nsamples = 18\\nvalue = [11, 7]'),\n",
       " Text(0.19560142523651555, 0.5, 'X[2] <= 7.5\\ngini = 0.278\\nsamples = 6\\nvalue = [5, 1]'),\n",
       " Text(0.19461850350165869, 0.46296296296296297, 'gini = 0.0\\nsamples = 1\\nvalue = [0, 1]'),\n",
       " Text(0.1965843469713724, 0.46296296296296297, 'gini = 0.0\\nsamples = 5\\nvalue = [5, 0]'),\n",
       " Text(0.199533112175943, 0.5, 'X[1] <= 0.5\\ngini = 0.5\\nsamples = 12\\nvalue = [6, 6]'),\n",
       " Text(0.19855019044108613, 0.46296296296296297, 'X[2] <= 9.5\\ngini = 0.48\\nsamples = 10\\nvalue = [6, 4]'),\n",
       " Text(0.1965843469713724, 0.42592592592592593, 'X[5] <= 44.3\\ngini = 0.32\\nsamples = 5\\nvalue = [4, 1]'),\n",
       " Text(0.19560142523651555, 0.3888888888888889, 'X[5] <= 43.975\\ngini = 0.5\\nsamples = 2\\nvalue = [1, 1]'),\n",
       " Text(0.19461850350165869, 0.35185185185185186, 'gini = 0.0\\nsamples = 1\\nvalue = [1, 0]'),\n",
       " Text(0.1965843469713724, 0.35185185185185186, 'gini = 0.0\\nsamples = 1\\nvalue = [0, 1]'),\n",
       " Text(0.19756726870622926, 0.3888888888888889, 'gini = 0.0\\nsamples = 3\\nvalue = [3, 0]'),\n",
       " Text(0.20051603391079986, 0.42592592592592593, 'X[5] <= 44.6\\ngini = 0.48\\nsamples = 5\\nvalue = [2, 3]'),\n",
       " Text(0.199533112175943, 0.3888888888888889, 'gini = 0.0\\nsamples = 2\\nvalue = [0, 2]'),\n",
       " Text(0.2014989556456567, 0.3888888888888889, 'X[0] <= 0.5\\ngini = 0.444\\nsamples = 3\\nvalue = [2, 1]'),\n",
       " Text(0.20051603391079986, 0.35185185185185186, 'gini = 0.0\\nsamples = 2\\nvalue = [2, 0]'),\n",
       " Text(0.20248187738051357, 0.35185185185185186, 'gini = 0.0\\nsamples = 1\\nvalue = [0, 1]'),\n",
       " Text(0.20051603391079986, 0.46296296296296297, 'gini = 0.0\\nsamples = 2\\nvalue = [0, 2]'),\n",
       " Text(0.199533112175943, 0.5370370370370371, 'gini = 0.0\\nsamples = 3\\nvalue = [0, 3]'),\n",
       " Text(0.206413564319941, 0.5740740740740741, 'X[0] <= 0.5\\ngini = 0.32\\nsamples = 15\\nvalue = [12, 3]'),\n",
       " Text(0.20543064258508417, 0.5370370370370371, 'X[5] <= 49.05\\ngini = 0.49\\nsamples = 7\\nvalue = [4, 3]'),\n",
       " Text(0.2044477208502273, 0.5, 'gini = 0.0\\nsamples = 2\\nvalue = [2, 0]'),\n",
       " Text(0.206413564319941, 0.5, 'X[5] <= 50.075\\ngini = 0.48\\nsamples = 5\\nvalue = [2, 3]'),\n",
       " Text(0.20543064258508417, 0.46296296296296297, 'X[5] <= 49.55\\ngini = 0.375\\nsamples = 4\\nvalue = [1, 3]'),\n",
       " Text(0.2044477208502273, 0.42592592592592593, 'X[1] <= 0.5\\ngini = 0.5\\nsamples = 2\\nvalue = [1, 1]'),\n",
       " Text(0.20346479911537044, 0.3888888888888889, 'gini = 0.0\\nsamples = 1\\nvalue = [1, 0]'),\n",
       " Text(0.20543064258508417, 0.3888888888888889, 'gini = 0.0\\nsamples = 1\\nvalue = [0, 1]'),\n",
       " Text(0.206413564319941, 0.42592592592592593, 'gini = 0.0\\nsamples = 2\\nvalue = [0, 2]'),\n",
       " Text(0.20739648605479788, 0.46296296296296297, 'gini = 0.0\\nsamples = 1\\nvalue = [1, 0]'),\n",
       " Text(0.20739648605479788, 0.5370370370370371, 'gini = 0.0\\nsamples = 8\\nvalue = [8, 0]'),\n",
       " Text(0.2044477208502273, 0.6111111111111112, 'gini = 0.0\\nsamples = 2\\nvalue = [0, 2]'),\n",
       " Text(0.22091165990907974, 0.7962962962962963, 'X[2] <= 11.5\\ngini = 0.213\\nsamples = 91\\nvalue = [80, 11]'),\n",
       " Text(0.21673424253593807, 0.7592592592592593, 'X[4] <= 0.5\\ngini = 0.154\\nsamples = 83\\nvalue = [76, 7]'),\n",
       " Text(0.21329401646393906, 0.7222222222222222, 'X[5] <= 58.675\\ngini = 0.291\\nsamples = 34\\nvalue = [28, 6]'),\n",
       " Text(0.21132817299422532, 0.6851851851851852, 'X[5] <= 56.4\\ngini = 0.401\\nsamples = 18\\nvalue = [13, 5]'),\n",
       " Text(0.21034525125936848, 0.6481481481481481, 'X[5] <= 55.175\\ngini = 0.305\\nsamples = 16\\nvalue = [13, 3]'),\n",
       " Text(0.20936232952451161, 0.6111111111111112, 'gini = 0.0\\nsamples = 7\\nvalue = [7, 0]'),\n",
       " Text(0.21132817299422532, 0.6111111111111112, 'X[2] <= 8.5\\ngini = 0.444\\nsamples = 9\\nvalue = [6, 3]'),\n",
       " Text(0.21034525125936848, 0.5740740740740741, 'X[1] <= 0.5\\ngini = 0.245\\nsamples = 7\\nvalue = [6, 1]'),\n",
       " Text(0.20936232952451161, 0.5370370370370371, 'gini = 0.0\\nsamples = 4\\nvalue = [4, 0]'),\n",
       " Text(0.21132817299422532, 0.5370370370370371, 'X[2] <= 7.0\\ngini = 0.444\\nsamples = 3\\nvalue = [2, 1]'),\n",
       " Text(0.21034525125936848, 0.5, 'gini = 0.0\\nsamples = 1\\nvalue = [0, 1]'),\n",
       " Text(0.2123110947290822, 0.5, 'gini = 0.0\\nsamples = 2\\nvalue = [2, 0]'),\n",
       " Text(0.2123110947290822, 0.5740740740740741, 'gini = 0.0\\nsamples = 2\\nvalue = [0, 2]'),\n",
       " Text(0.2123110947290822, 0.6481481481481481, 'gini = 0.0\\nsamples = 2\\nvalue = [0, 2]'),\n",
       " Text(0.2152598599336528, 0.6851851851851852, 'X[2] <= 5.0\\ngini = 0.117\\nsamples = 16\\nvalue = [15, 1]'),\n",
       " Text(0.21427693819879592, 0.6481481481481481, 'X[5] <= 63.5\\ngini = 0.444\\nsamples = 3\\nvalue = [2, 1]'),\n",
       " Text(0.21329401646393906, 0.6111111111111112, 'gini = 0.0\\nsamples = 1\\nvalue = [0, 1]'),\n",
       " Text(0.2152598599336528, 0.6111111111111112, 'gini = 0.0\\nsamples = 2\\nvalue = [2, 0]'),\n",
       " Text(0.21624278166850963, 0.6481481481481481, 'gini = 0.0\\nsamples = 13\\nvalue = [13, 0]'),\n",
       " Text(0.2201744686079371, 0.7222222222222222, 'X[2] <= 4.5\\ngini = 0.04\\nsamples = 49\\nvalue = [48, 1]'),\n",
       " Text(0.21919154687308023, 0.6851851851851852, 'X[5] <= 59.45\\ngini = 0.278\\nsamples = 6\\nvalue = [5, 1]'),\n",
       " Text(0.21820862513822337, 0.6481481481481481, 'gini = 0.0\\nsamples = 3\\nvalue = [3, 0]'),\n",
       " Text(0.2201744686079371, 0.6481481481481481, 'X[5] <= 60.85\\ngini = 0.444\\nsamples = 3\\nvalue = [2, 1]'),\n",
       " Text(0.21919154687308023, 0.6111111111111112, 'gini = 0.0\\nsamples = 1\\nvalue = [0, 1]'),\n",
       " Text(0.22115739034279394, 0.6111111111111112, 'gini = 0.0\\nsamples = 2\\nvalue = [2, 0]'),\n",
       " Text(0.22115739034279394, 0.6851851851851852, 'gini = 0.0\\nsamples = 43\\nvalue = [43, 0]'),\n",
       " Text(0.2250890772822214, 0.7592592592592593, 'X[5] <= 59.075\\ngini = 0.5\\nsamples = 8\\nvalue = [4, 4]'),\n",
       " Text(0.22410615554736454, 0.7222222222222222, 'X[4] <= 0.5\\ngini = 0.444\\nsamples = 6\\nvalue = [4, 2]'),\n",
       " Text(0.22312323381250768, 0.6851851851851852, 'gini = 0.0\\nsamples = 2\\nvalue = [0, 2]'),\n",
       " Text(0.2250890772822214, 0.6851851851851852, 'gini = 0.0\\nsamples = 4\\nvalue = [4, 0]'),\n",
       " Text(0.22607199901707828, 0.7222222222222222, 'gini = 0.0\\nsamples = 2\\nvalue = [0, 2]'),\n",
       " Text(0.2968279656591719, 0.9074074074074074, 'X[2] <= 1.5\\ngini = 0.437\\nsamples = 684\\nvalue = [221, 463]'),\n",
       " Text(0.2409386902567883, 0.8703703703703703, 'X[5] <= 69.875\\ngini = 0.268\\nsamples = 163\\nvalue = [26, 137]'),\n",
       " Text(0.23995576852193143, 0.8333333333333334, 'gini = 0.0\\nsamples = 25\\nvalue = [0, 25]'),\n",
       " Text(0.24192161199164516, 0.8333333333333334, 'X[5] <= 75.625\\ngini = 0.306\\nsamples = 138\\nvalue = [26, 112]'),\n",
       " Text(0.23737559896793217, 0.7962962962962963, 'X[5] <= 75.425\\ngini = 0.414\\nsamples = 65\\nvalue = [19, 46]'),\n",
       " Text(0.2363926772330753, 0.7592592592592593, 'X[5] <= 74.375\\ngini = 0.394\\nsamples = 63\\nvalue = [17, 46]'),\n",
       " Text(0.2309866076913626, 0.7222222222222222, 'X[5] <= 71.05\\ngini = 0.43\\nsamples = 48\\nvalue = [15, 33]'),\n",
       " Text(0.22705492075193512, 0.6851851851851852, 'X[5] <= 70.725\\ngini = 0.375\\nsamples = 36\\nvalue = [9, 27]'),\n",
       " Text(0.22607199901707828, 0.6481481481481481, 'X[5] <= 70.55\\ngini = 0.428\\nsamples = 29\\nvalue = [9, 20]'),\n",
       " Text(0.22410615554736454, 0.6111111111111112, 'X[5] <= 70.375\\ngini = 0.375\\nsamples = 24\\nvalue = [6, 18]'),\n",
       " Text(0.22312323381250768, 0.5740740740740741, 'X[5] <= 70.325\\ngini = 0.42\\nsamples = 20\\nvalue = [6, 14]'),\n",
       " Text(0.2221403120776508, 0.5370370370370371, 'X[5] <= 70.225\\ngini = 0.388\\nsamples = 19\\nvalue = [5, 14]'),\n",
       " Text(0.22115739034279394, 0.5, 'X[5] <= 70.175\\ngini = 0.444\\nsamples = 15\\nvalue = [5, 10]'),\n",
       " Text(0.2201744686079371, 0.46296296296296297, 'X[5] <= 70.125\\ngini = 0.408\\nsamples = 14\\nvalue = [4, 10]'),\n",
       " Text(0.21919154687308023, 0.42592592592592593, 'X[5] <= 70.025\\ngini = 0.444\\nsamples = 12\\nvalue = [4, 8]'),\n",
       " Text(0.2172257034033665, 0.3888888888888889, 'X[0] <= 0.5\\ngini = 0.375\\nsamples = 8\\nvalue = [2, 6]'),\n",
       " Text(0.21624278166850963, 0.35185185185185186, 'gini = 0.0\\nsamples = 2\\nvalue = [0, 2]'),\n",
       " Text(0.21820862513822337, 0.35185185185185186, 'X[4] <= 0.5\\ngini = 0.444\\nsamples = 6\\nvalue = [2, 4]'),\n",
       " Text(0.2172257034033665, 0.3148148148148148, 'gini = 0.0\\nsamples = 2\\nvalue = [0, 2]'),\n",
       " Text(0.21919154687308023, 0.3148148148148148, 'X[1] <= 0.5\\ngini = 0.5\\nsamples = 4\\nvalue = [2, 2]'),\n",
       " Text(0.21820862513822337, 0.2777777777777778, 'gini = 0.444\\nsamples = 3\\nvalue = [1, 2]'),\n",
       " Text(0.2201744686079371, 0.2777777777777778, 'gini = 0.0\\nsamples = 1\\nvalue = [1, 0]'),\n",
       " Text(0.22115739034279394, 0.3888888888888889, 'X[4] <= 0.5\\ngini = 0.5\\nsamples = 4\\nvalue = [2, 2]'),\n",
       " Text(0.2201744686079371, 0.35185185185185186, 'gini = 0.0\\nsamples = 1\\nvalue = [1, 0]'),\n",
       " Text(0.2221403120776508, 0.35185185185185186, 'X[0] <= 0.5\\ngini = 0.444\\nsamples = 3\\nvalue = [1, 2]'),\n",
       " Text(0.22115739034279394, 0.3148148148148148, 'gini = 0.0\\nsamples = 1\\nvalue = [0, 1]'),\n",
       " Text(0.22312323381250768, 0.3148148148148148, 'gini = 0.5\\nsamples = 2\\nvalue = [1, 1]'),\n",
       " Text(0.22115739034279394, 0.42592592592592593, 'gini = 0.0\\nsamples = 2\\nvalue = [0, 2]'),\n",
       " Text(0.2221403120776508, 0.46296296296296297, 'gini = 0.0\\nsamples = 1\\nvalue = [1, 0]'),\n",
       " Text(0.22312323381250768, 0.5, 'gini = 0.0\\nsamples = 4\\nvalue = [0, 4]'),\n",
       " Text(0.22410615554736454, 0.5370370370370371, 'gini = 0.0\\nsamples = 1\\nvalue = [1, 0]'),\n",
       " Text(0.2250890772822214, 0.5740740740740741, 'gini = 0.0\\nsamples = 4\\nvalue = [0, 4]'),\n",
       " Text(0.228037842486792, 0.6111111111111112, 'X[4] <= 0.5\\ngini = 0.48\\nsamples = 5\\nvalue = [3, 2]'),\n",
       " Text(0.22705492075193512, 0.5740740740740741, 'gini = 0.0\\nsamples = 1\\nvalue = [0, 1]'),\n",
       " Text(0.22902076422164885, 0.5740740740740741, 'X[0] <= 0.5\\ngini = 0.375\\nsamples = 4\\nvalue = [3, 1]'),\n",
       " Text(0.228037842486792, 0.5370370370370371, 'X[5] <= 70.65\\ngini = 0.444\\nsamples = 3\\nvalue = [2, 1]'),\n",
       " Text(0.22705492075193512, 0.5, 'gini = 0.5\\nsamples = 2\\nvalue = [1, 1]'),\n",
       " Text(0.22902076422164885, 0.5, 'gini = 0.0\\nsamples = 1\\nvalue = [1, 0]'),\n",
       " Text(0.23000368595650572, 0.5370370370370371, 'gini = 0.0\\nsamples = 1\\nvalue = [1, 0]'),\n",
       " Text(0.228037842486792, 0.6481481481481481, 'gini = 0.0\\nsamples = 7\\nvalue = [0, 7]'),\n",
       " Text(0.23491829463079003, 0.6851851851851852, 'X[4] <= 0.5\\ngini = 0.5\\nsamples = 12\\nvalue = [6, 6]'),\n",
       " Text(0.2329524511610763, 0.6481481481481481, 'X[5] <= 73.8\\ngini = 0.32\\nsamples = 5\\nvalue = [4, 1]'),\n",
       " Text(0.23196952942621943, 0.6111111111111112, 'X[5] <= 72.3\\ngini = 0.5\\nsamples = 2\\nvalue = [1, 1]'),\n",
       " Text(0.2309866076913626, 0.5740740740740741, 'gini = 0.0\\nsamples = 1\\nvalue = [1, 0]'),\n",
       " Text(0.2329524511610763, 0.5740740740740741, 'gini = 0.0\\nsamples = 1\\nvalue = [0, 1]'),\n",
       " Text(0.23393537289593316, 0.6111111111111112, 'gini = 0.0\\nsamples = 3\\nvalue = [3, 0]'),\n",
       " Text(0.23688413810050374, 0.6481481481481481, 'X[5] <= 72.85\\ngini = 0.408\\nsamples = 7\\nvalue = [2, 5]'),\n",
       " Text(0.2359012163656469, 0.6111111111111112, 'X[5] <= 71.2\\ngini = 0.444\\nsamples = 3\\nvalue = [2, 1]'),\n",
       " Text(0.23491829463079003, 0.5740740740740741, 'gini = 0.0\\nsamples = 1\\nvalue = [0, 1]'),\n",
       " Text(0.23688413810050374, 0.5740740740740741, 'gini = 0.0\\nsamples = 2\\nvalue = [2, 0]'),\n",
       " Text(0.2378670598353606, 0.6111111111111112, 'gini = 0.0\\nsamples = 4\\nvalue = [0, 4]'),\n",
       " Text(0.24179874677478805, 0.7222222222222222, 'X[1] <= 0.5\\ngini = 0.231\\nsamples = 15\\nvalue = [2, 13]'),\n",
       " Text(0.23983290330507434, 0.6851851851851852, 'X[5] <= 75.0\\ngini = 0.142\\nsamples = 13\\nvalue = [1, 12]'),\n",
       " Text(0.23884998157021747, 0.6481481481481481, 'gini = 0.0\\nsamples = 6\\nvalue = [0, 6]'),\n",
       " Text(0.2408158250399312, 0.6481481481481481, 'X[5] <= 75.2\\ngini = 0.245\\nsamples = 7\\nvalue = [1, 6]'),\n",
       " Text(0.23983290330507434, 0.6111111111111112, 'X[0] <= 0.5\\ngini = 0.5\\nsamples = 2\\nvalue = [1, 1]'),\n",
       " Text(0.23884998157021747, 0.5740740740740741, 'gini = 0.0\\nsamples = 1\\nvalue = [0, 1]'),\n",
       " Text(0.2408158250399312, 0.5740740740740741, 'gini = 0.0\\nsamples = 1\\nvalue = [1, 0]'),\n",
       " Text(0.24179874677478805, 0.6111111111111112, 'gini = 0.0\\nsamples = 5\\nvalue = [0, 5]'),\n",
       " Text(0.24376459024450178, 0.6851851851851852, 'X[0] <= 0.5\\ngini = 0.5\\nsamples = 2\\nvalue = [1, 1]'),\n",
       " Text(0.24278166850964492, 0.6481481481481481, 'gini = 0.0\\nsamples = 1\\nvalue = [0, 1]'),\n",
       " Text(0.24474751197935865, 0.6481481481481481, 'gini = 0.0\\nsamples = 1\\nvalue = [1, 0]'),\n",
       " Text(0.23835852070278904, 0.7592592592592593, 'gini = 0.0\\nsamples = 2\\nvalue = [2, 0]'),\n",
       " Text(0.24646762501535815, 0.7962962962962963, 'X[2] <= 0.5\\ngini = 0.173\\nsamples = 73\\nvalue = [7, 66]'),\n",
       " Text(0.2454847032805013, 0.7592592592592593, 'gini = 0.0\\nsamples = 1\\nvalue = [1, 0]'),\n",
       " Text(0.24745054675021502, 0.7592592592592593, 'X[4] <= 0.5\\ngini = 0.153\\nsamples = 72\\nvalue = [6, 66]'),\n",
       " Text(0.24646762501535815, 0.7222222222222222, 'gini = 0.0\\nsamples = 15\\nvalue = [0, 15]'),\n",
       " Text(0.2484334684850719, 0.7222222222222222, 'X[5] <= 79.125\\ngini = 0.188\\nsamples = 57\\nvalue = [6, 51]'),\n",
       " Text(0.24745054675021502, 0.6851851851851852, 'gini = 0.0\\nsamples = 8\\nvalue = [0, 8]'),\n",
       " Text(0.24941639021992873, 0.6851851851851852, 'X[5] <= 79.325\\ngini = 0.215\\nsamples = 49\\nvalue = [6, 43]'),\n",
       " Text(0.24671335544907236, 0.6481481481481481, 'X[0] <= 0.5\\ngini = 0.5\\nsamples = 2\\nvalue = [1, 1]'),\n",
       " Text(0.24573043371421552, 0.6111111111111112, 'gini = 0.0\\nsamples = 1\\nvalue = [1, 0]'),\n",
       " Text(0.24769627718392923, 0.6111111111111112, 'gini = 0.0\\nsamples = 1\\nvalue = [0, 1]'),\n",
       " Text(0.2521194249907851, 0.6481481481481481, 'X[1] <= 0.5\\ngini = 0.19\\nsamples = 47\\nvalue = [5, 42]'),\n",
       " Text(0.24966212065364296, 0.6111111111111112, 'X[5] <= 95.65\\ngini = 0.149\\nsamples = 37\\nvalue = [3, 34]'),\n",
       " Text(0.24769627718392923, 0.5740740740740741, 'X[0] <= 0.5\\ngini = 0.114\\nsamples = 33\\nvalue = [2, 31]'),\n",
       " Text(0.24671335544907236, 0.5370370370370371, 'gini = 0.0\\nsamples = 13\\nvalue = [0, 13]'),\n",
       " Text(0.2486791989187861, 0.5370370370370371, 'X[5] <= 80.675\\ngini = 0.18\\nsamples = 20\\nvalue = [2, 18]'),\n",
       " Text(0.24671335544907236, 0.5, 'X[5] <= 80.05\\ngini = 0.444\\nsamples = 3\\nvalue = [1, 2]'),\n",
       " Text(0.24573043371421552, 0.46296296296296297, 'gini = 0.0\\nsamples = 2\\nvalue = [0, 2]'),\n",
       " Text(0.24769627718392923, 0.46296296296296297, 'gini = 0.0\\nsamples = 1\\nvalue = [1, 0]'),\n",
       " Text(0.25064504238849983, 0.5, 'X[5] <= 89.175\\ngini = 0.111\\nsamples = 17\\nvalue = [1, 16]'),\n",
       " Text(0.24966212065364296, 0.46296296296296297, 'gini = 0.0\\nsamples = 9\\nvalue = [0, 9]'),\n",
       " Text(0.2516279641233567, 0.46296296296296297, 'X[5] <= 89.575\\ngini = 0.219\\nsamples = 8\\nvalue = [1, 7]'),\n",
       " Text(0.25064504238849983, 0.42592592592592593, 'gini = 0.0\\nsamples = 1\\nvalue = [1, 0]'),\n",
       " Text(0.25261088585821356, 0.42592592592592593, 'gini = 0.0\\nsamples = 7\\nvalue = [0, 7]'),\n",
       " Text(0.2516279641233567, 0.5740740740740741, 'X[5] <= 97.8\\ngini = 0.375\\nsamples = 4\\nvalue = [1, 3]'),\n",
       " Text(0.25064504238849983, 0.5370370370370371, 'gini = 0.0\\nsamples = 1\\nvalue = [1, 0]'),\n",
       " Text(0.25261088585821356, 0.5370370370370371, 'gini = 0.0\\nsamples = 3\\nvalue = [0, 3]'),\n",
       " Text(0.25457672932792724, 0.6111111111111112, 'X[5] <= 80.8\\ngini = 0.32\\nsamples = 10\\nvalue = [2, 8]'),\n",
       " Text(0.2535938075930704, 0.5740740740740741, 'gini = 0.0\\nsamples = 3\\nvalue = [0, 3]'),\n",
       " Text(0.2555596510627841, 0.5740740740740741, 'X[5] <= 82.925\\ngini = 0.408\\nsamples = 7\\nvalue = [2, 5]'),\n",
       " Text(0.25457672932792724, 0.5370370370370371, 'gini = 0.0\\nsamples = 1\\nvalue = [1, 0]'),\n",
       " Text(0.256542572797641, 0.5370370370370371, 'X[5] <= 92.55\\ngini = 0.278\\nsamples = 6\\nvalue = [1, 5]'),\n",
       " Text(0.2555596510627841, 0.5, 'X[5] <= 88.075\\ngini = 0.444\\nsamples = 3\\nvalue = [1, 2]'),\n",
       " Text(0.25457672932792724, 0.46296296296296297, 'gini = 0.0\\nsamples = 2\\nvalue = [0, 2]'),\n",
       " Text(0.256542572797641, 0.46296296296296297, 'gini = 0.0\\nsamples = 1\\nvalue = [1, 0]'),\n",
       " Text(0.25752549453249785, 0.5, 'gini = 0.0\\nsamples = 3\\nvalue = [0, 3]'),\n",
       " Text(0.3527172410615555, 0.8703703703703703, 'X[5] <= 93.25\\ngini = 0.468\\nsamples = 521\\nvalue = [195, 326]'),\n",
       " Text(0.3104535262317238, 0.8333333333333334, 'X[5] <= 71.9\\ngini = 0.488\\nsamples = 408\\nvalue = [172, 236]'),\n",
       " Text(0.27202359012163657, 0.7962962962962963, 'X[2] <= 5.5\\ngini = 0.494\\nsamples = 85\\nvalue = [47, 38]'),\n",
       " Text(0.26735471188106646, 0.7592592592592593, 'X[1] <= 0.5\\ngini = 0.497\\nsamples = 50\\nvalue = [23, 27]'),\n",
       " Text(0.26538886841135273, 0.7222222222222222, 'X[5] <= 71.0\\ngini = 0.472\\nsamples = 42\\nvalue = [16, 26]'),\n",
       " Text(0.26440594667649586, 0.6851851851851852, 'X[0] <= 0.5\\ngini = 0.444\\nsamples = 39\\nvalue = [13, 26]'),\n",
       " Text(0.2614571814719253, 0.6481481481481481, 'X[5] <= 70.175\\ngini = 0.308\\nsamples = 21\\nvalue = [4, 17]'),\n",
       " Text(0.26047425973706845, 0.6111111111111112, 'X[5] <= 69.675\\ngini = 0.426\\nsamples = 13\\nvalue = [4, 9]'),\n",
       " Text(0.2594913380022116, 0.5740740740740741, 'gini = 0.0\\nsamples = 5\\nvalue = [0, 5]'),\n",
       " Text(0.2614571814719253, 0.5740740740740741, 'X[2] <= 3.5\\ngini = 0.5\\nsamples = 8\\nvalue = [4, 4]'),\n",
       " Text(0.26047425973706845, 0.5370370370370371, 'X[4] <= 0.5\\ngini = 0.444\\nsamples = 6\\nvalue = [4, 2]'),\n",
       " Text(0.2594913380022116, 0.5, 'gini = 0.0\\nsamples = 2\\nvalue = [0, 2]'),\n",
       " Text(0.2614571814719253, 0.5, 'gini = 0.0\\nsamples = 4\\nvalue = [4, 0]'),\n",
       " Text(0.2624401032067822, 0.5370370370370371, 'gini = 0.0\\nsamples = 2\\nvalue = [0, 2]'),\n",
       " Text(0.2624401032067822, 0.6111111111111112, 'gini = 0.0\\nsamples = 8\\nvalue = [0, 8]'),\n",
       " Text(0.26735471188106646, 0.6481481481481481, 'X[5] <= 70.275\\ngini = 0.5\\nsamples = 18\\nvalue = [9, 9]'),\n",
       " Text(0.2663717901462096, 0.6111111111111112, 'X[2] <= 4.5\\ngini = 0.375\\nsamples = 12\\nvalue = [3, 9]'),\n",
       " Text(0.26538886841135273, 0.5740740740740741, 'X[2] <= 3.5\\ngini = 0.469\\nsamples = 8\\nvalue = [3, 5]'),\n",
       " Text(0.26440594667649586, 0.5370370370370371, 'X[5] <= 69.475\\ngini = 0.408\\nsamples = 7\\nvalue = [2, 5]'),\n",
       " Text(0.263423024941639, 0.5, 'gini = 0.0\\nsamples = 3\\nvalue = [0, 3]'),\n",
       " Text(0.26538886841135273, 0.5, 'X[5] <= 69.625\\ngini = 0.5\\nsamples = 4\\nvalue = [2, 2]'),\n",
       " Text(0.26440594667649586, 0.46296296296296297, 'gini = 0.0\\nsamples = 1\\nvalue = [1, 0]'),\n",
       " Text(0.2663717901462096, 0.46296296296296297, 'X[4] <= 0.5\\ngini = 0.444\\nsamples = 3\\nvalue = [1, 2]'),\n",
       " Text(0.26538886841135273, 0.42592592592592593, 'gini = 0.0\\nsamples = 1\\nvalue = [0, 1]'),\n",
       " Text(0.26735471188106646, 0.42592592592592593, 'gini = 0.5\\nsamples = 2\\nvalue = [1, 1]'),\n",
       " Text(0.2663717901462096, 0.5370370370370371, 'gini = 0.0\\nsamples = 1\\nvalue = [1, 0]'),\n",
       " Text(0.26735471188106646, 0.5740740740740741, 'gini = 0.0\\nsamples = 4\\nvalue = [0, 4]'),\n",
       " Text(0.26833763361592333, 0.6111111111111112, 'gini = 0.0\\nsamples = 6\\nvalue = [6, 0]'),\n",
       " Text(0.2663717901462096, 0.6851851851851852, 'gini = 0.0\\nsamples = 3\\nvalue = [3, 0]'),\n",
       " Text(0.2693205553507802, 0.7222222222222222, 'X[0] <= 0.5\\ngini = 0.219\\nsamples = 8\\nvalue = [7, 1]'),\n",
       " Text(0.26833763361592333, 0.6851851851851852, 'gini = 0.0\\nsamples = 6\\nvalue = [6, 0]'),\n",
       " Text(0.27030347708563707, 0.6851851851851852, 'X[5] <= 70.25\\ngini = 0.5\\nsamples = 2\\nvalue = [1, 1]'),\n",
       " Text(0.2693205553507802, 0.6481481481481481, 'gini = 0.0\\nsamples = 1\\nvalue = [1, 0]'),\n",
       " Text(0.27128639882049393, 0.6481481481481481, 'gini = 0.0\\nsamples = 1\\nvalue = [0, 1]'),\n",
       " Text(0.2766924683622067, 0.7592592592592593, 'X[5] <= 69.925\\ngini = 0.431\\nsamples = 35\\nvalue = [24, 11]'),\n",
       " Text(0.27325224229020767, 0.7222222222222222, 'X[5] <= 66.525\\ngini = 0.308\\nsamples = 21\\nvalue = [17, 4]'),\n",
       " Text(0.2722693205553508, 0.6851851851851852, 'gini = 0.0\\nsamples = 1\\nvalue = [0, 1]'),\n",
       " Text(0.2742351640250645, 0.6851851851851852, 'X[2] <= 7.5\\ngini = 0.255\\nsamples = 20\\nvalue = [17, 3]'),\n",
       " Text(0.27325224229020767, 0.6481481481481481, 'X[5] <= 69.4\\ngini = 0.397\\nsamples = 11\\nvalue = [8, 3]'),\n",
       " Text(0.2722693205553508, 0.6111111111111112, 'X[5] <= 69.225\\ngini = 0.49\\nsamples = 7\\nvalue = [4, 3]'),\n",
       " Text(0.27128639882049393, 0.5740740740740741, 'X[5] <= 69.05\\ngini = 0.32\\nsamples = 5\\nvalue = [4, 1]'),\n",
       " Text(0.27030347708563707, 0.5370370370370371, 'X[1] <= 0.5\\ngini = 0.5\\nsamples = 2\\nvalue = [1, 1]'),\n",
       " Text(0.2693205553507802, 0.5, 'gini = 0.0\\nsamples = 1\\nvalue = [1, 0]'),\n",
       " Text(0.27128639882049393, 0.5, 'gini = 0.0\\nsamples = 1\\nvalue = [0, 1]'),\n",
       " Text(0.2722693205553508, 0.5370370370370371, 'gini = 0.0\\nsamples = 3\\nvalue = [3, 0]'),\n",
       " Text(0.27325224229020767, 0.5740740740740741, 'gini = 0.0\\nsamples = 2\\nvalue = [0, 2]'),\n",
       " Text(0.2742351640250645, 0.6111111111111112, 'gini = 0.0\\nsamples = 4\\nvalue = [4, 0]'),\n",
       " Text(0.27521808575992135, 0.6481481481481481, 'gini = 0.0\\nsamples = 9\\nvalue = [9, 0]'),\n",
       " Text(0.2801326944342057, 0.7222222222222222, 'X[4] <= 0.5\\ngini = 0.5\\nsamples = 14\\nvalue = [7, 7]'),\n",
       " Text(0.27816685096449195, 0.6851851851851852, 'X[5] <= 70.925\\ngini = 0.278\\nsamples = 6\\nvalue = [5, 1]'),\n",
       " Text(0.2771839292296351, 0.6481481481481481, 'gini = 0.0\\nsamples = 5\\nvalue = [5, 0]'),\n",
       " Text(0.2791497726993488, 0.6481481481481481, 'gini = 0.0\\nsamples = 1\\nvalue = [0, 1]'),\n",
       " Text(0.2820985379039194, 0.6851851851851852, 'X[2] <= 10.5\\ngini = 0.375\\nsamples = 8\\nvalue = [2, 6]'),\n",
       " Text(0.28111561616906255, 0.6481481481481481, 'X[5] <= 70.9\\ngini = 0.245\\nsamples = 7\\nvalue = [1, 6]'),\n",
       " Text(0.2801326944342057, 0.6111111111111112, 'gini = 0.0\\nsamples = 6\\nvalue = [0, 6]'),\n",
       " Text(0.2820985379039194, 0.6111111111111112, 'gini = 0.0\\nsamples = 1\\nvalue = [1, 0]'),\n",
       " Text(0.2830814596387763, 0.6481481481481481, 'gini = 0.0\\nsamples = 1\\nvalue = [1, 0]'),\n",
       " Text(0.34888346234181106, 0.7962962962962963, 'X[5] <= 90.25\\ngini = 0.474\\nsamples = 323\\nvalue = [125, 198]'),\n",
       " Text(0.32327374370315765, 0.7592592592592593, 'X[2] <= 5.5\\ngini = 0.466\\nsamples = 303\\nvalue = [112, 191]'),\n",
       " Text(0.3044907236761273, 0.7222222222222222, 'X[5] <= 85.725\\ngini = 0.414\\nsamples = 140\\nvalue = [41, 99]'),\n",
       " Text(0.29837817913748615, 0.6851851851851852, 'X[1] <= 0.5\\ngini = 0.443\\nsamples = 118\\nvalue = [39, 79]'),\n",
       " Text(0.28910185526477455, 0.6481481481481481, 'X[5] <= 74.975\\ngini = 0.466\\nsamples = 92\\nvalue = [34, 58]'),\n",
       " Text(0.2840643813736331, 0.6111111111111112, 'X[2] <= 3.5\\ngini = 0.475\\nsamples = 18\\nvalue = [11, 7]'),\n",
       " Text(0.2820985379039194, 0.5740740740740741, 'X[5] <= 74.425\\ngini = 0.278\\nsamples = 12\\nvalue = [10, 2]'),\n",
       " Text(0.28111561616906255, 0.5370370370370371, 'X[5] <= 74.125\\ngini = 0.48\\nsamples = 5\\nvalue = [3, 2]'),\n",
       " Text(0.2801326944342057, 0.5, 'X[2] <= 2.5\\ngini = 0.375\\nsamples = 4\\nvalue = [3, 1]'),\n",
       " Text(0.2791497726993488, 0.46296296296296297, 'X[5] <= 72.925\\ngini = 0.5\\nsamples = 2\\nvalue = [1, 1]'),\n",
       " Text(0.27816685096449195, 0.42592592592592593, 'gini = 0.0\\nsamples = 1\\nvalue = [1, 0]'),\n",
       " Text(0.2801326944342057, 0.42592592592592593, 'gini = 0.0\\nsamples = 1\\nvalue = [0, 1]'),\n",
       " Text(0.28111561616906255, 0.46296296296296297, 'gini = 0.0\\nsamples = 2\\nvalue = [2, 0]'),\n",
       " Text(0.2820985379039194, 0.5, 'gini = 0.0\\nsamples = 1\\nvalue = [0, 1]'),\n",
       " Text(0.2830814596387763, 0.5370370370370371, 'gini = 0.0\\nsamples = 7\\nvalue = [7, 0]'),\n",
       " Text(0.28603022484334684, 0.5740740740740741, 'X[2] <= 4.5\\ngini = 0.278\\nsamples = 6\\nvalue = [1, 5]'),\n",
       " Text(0.28504730310848997, 0.5370370370370371, 'gini = 0.0\\nsamples = 5\\nvalue = [0, 5]'),\n",
       " Text(0.2870131465782037, 0.5370370370370371, 'gini = 0.0\\nsamples = 1\\nvalue = [1, 0]'),\n",
       " Text(0.29413932915591595, 0.6111111111111112, 'X[5] <= 79.425\\ngini = 0.428\\nsamples = 74\\nvalue = [23, 51]'),\n",
       " Text(0.2899619117827743, 0.5740740740740741, 'X[5] <= 75.6\\ngini = 0.231\\nsamples = 30\\nvalue = [4, 26]'),\n",
       " Text(0.28897899004791744, 0.5370370370370371, 'gini = 0.0\\nsamples = 9\\nvalue = [0, 9]'),\n",
       " Text(0.2909448335176312, 0.5370370370370371, 'X[5] <= 75.675\\ngini = 0.308\\nsamples = 21\\nvalue = [4, 17]'),\n",
       " Text(0.2899619117827743, 0.5, 'gini = 0.0\\nsamples = 2\\nvalue = [2, 0]'),\n",
       " Text(0.29192775525248804, 0.5, 'X[5] <= 77.625\\ngini = 0.188\\nsamples = 19\\nvalue = [2, 17]'),\n",
       " Text(0.2909448335176312, 0.46296296296296297, 'X[5] <= 77.2\\ngini = 0.32\\nsamples = 10\\nvalue = [2, 8]'),\n",
       " Text(0.2899619117827743, 0.42592592592592593, 'X[4] <= 0.5\\ngini = 0.198\\nsamples = 9\\nvalue = [1, 8]'),\n",
       " Text(0.28897899004791744, 0.3888888888888889, 'X[2] <= 2.5\\ngini = 0.5\\nsamples = 2\\nvalue = [1, 1]'),\n",
       " Text(0.28799606831306057, 0.35185185185185186, 'gini = 0.0\\nsamples = 1\\nvalue = [0, 1]'),\n",
       " Text(0.2899619117827743, 0.35185185185185186, 'gini = 0.0\\nsamples = 1\\nvalue = [1, 0]'),\n",
       " Text(0.2909448335176312, 0.3888888888888889, 'gini = 0.0\\nsamples = 7\\nvalue = [0, 7]'),\n",
       " Text(0.29192775525248804, 0.42592592592592593, 'gini = 0.0\\nsamples = 1\\nvalue = [1, 0]'),\n",
       " Text(0.2929106769873449, 0.46296296296296297, 'gini = 0.0\\nsamples = 9\\nvalue = [0, 9]'),\n",
       " Text(0.2983167465290576, 0.5740740740740741, 'X[2] <= 2.5\\ngini = 0.491\\nsamples = 44\\nvalue = [19, 25]'),\n",
       " Text(0.2948765204570586, 0.5370370370370371, 'X[5] <= 79.575\\ngini = 0.36\\nsamples = 17\\nvalue = [4, 13]'),\n",
       " Text(0.2938935987222017, 0.5, 'gini = 0.0\\nsamples = 2\\nvalue = [2, 0]'),\n",
       " Text(0.29585944219191546, 0.5, 'X[5] <= 80.5\\ngini = 0.231\\nsamples = 15\\nvalue = [2, 13]'),\n",
       " Text(0.2948765204570586, 0.46296296296296297, 'X[5] <= 80.35\\ngini = 0.346\\nsamples = 9\\nvalue = [2, 7]'),\n",
       " Text(0.2938935987222017, 0.42592592592592593, 'X[0] <= 0.5\\ngini = 0.219\\nsamples = 8\\nvalue = [1, 7]'),\n",
       " Text(0.2929106769873449, 0.3888888888888889, 'gini = 0.0\\nsamples = 4\\nvalue = [0, 4]'),\n",
       " Text(0.2948765204570586, 0.3888888888888889, 'X[5] <= 80.075\\ngini = 0.375\\nsamples = 4\\nvalue = [1, 3]'),\n",
       " Text(0.2938935987222017, 0.35185185185185186, 'X[5] <= 79.9\\ngini = 0.5\\nsamples = 2\\nvalue = [1, 1]'),\n",
       " Text(0.2929106769873449, 0.3148148148148148, 'gini = 0.0\\nsamples = 1\\nvalue = [0, 1]'),\n",
       " Text(0.2948765204570586, 0.3148148148148148, 'gini = 0.0\\nsamples = 1\\nvalue = [1, 0]'),\n",
       " Text(0.29585944219191546, 0.35185185185185186, 'gini = 0.0\\nsamples = 2\\nvalue = [0, 2]'),\n",
       " Text(0.29585944219191546, 0.42592592592592593, 'gini = 0.0\\nsamples = 1\\nvalue = [1, 0]'),\n",
       " Text(0.2968423639267723, 0.46296296296296297, 'gini = 0.0\\nsamples = 6\\nvalue = [0, 6]'),\n",
       " Text(0.30175697260105666, 0.5370370370370371, 'X[5] <= 80.55\\ngini = 0.494\\nsamples = 27\\nvalue = [15, 12]'),\n",
       " Text(0.2997911291313429, 0.5, 'X[4] <= 0.5\\ngini = 0.198\\nsamples = 9\\nvalue = [8, 1]'),\n",
       " Text(0.29880820739648606, 0.46296296296296297, 'X[2] <= 4.0\\ngini = 0.5\\nsamples = 2\\nvalue = [1, 1]'),\n",
       " Text(0.2978252856616292, 0.42592592592592593, 'gini = 0.0\\nsamples = 1\\nvalue = [0, 1]'),\n",
       " Text(0.2997911291313429, 0.42592592592592593, 'gini = 0.0\\nsamples = 1\\nvalue = [1, 0]'),\n",
       " Text(0.3007740508661998, 0.46296296296296297, 'gini = 0.0\\nsamples = 7\\nvalue = [7, 0]'),\n",
       " Text(0.30372281607077034, 0.5, 'X[5] <= 81.65\\ngini = 0.475\\nsamples = 18\\nvalue = [7, 11]'),\n",
       " Text(0.30273989433591353, 0.46296296296296297, 'gini = 0.0\\nsamples = 4\\nvalue = [0, 4]'),\n",
       " Text(0.3047057378056272, 0.46296296296296297, 'X[5] <= 82.95\\ngini = 0.5\\nsamples = 14\\nvalue = [7, 7]'),\n",
       " Text(0.30372281607077034, 0.42592592592592593, 'gini = 0.0\\nsamples = 2\\nvalue = [2, 0]'),\n",
       " Text(0.3056886595404841, 0.42592592592592593, 'X[5] <= 85.675\\ngini = 0.486\\nsamples = 12\\nvalue = [5, 7]'),\n",
       " Text(0.3047057378056272, 0.3888888888888889, 'X[2] <= 4.5\\ngini = 0.463\\nsamples = 11\\nvalue = [4, 7]'),\n",
       " Text(0.30273989433591353, 0.35185185185185186, 'X[2] <= 3.5\\ngini = 0.32\\nsamples = 5\\nvalue = [1, 4]'),\n",
       " Text(0.30175697260105666, 0.3148148148148148, 'X[5] <= 84.8\\ngini = 0.5\\nsamples = 2\\nvalue = [1, 1]'),\n",
       " Text(0.3007740508661998, 0.2777777777777778, 'gini = 0.0\\nsamples = 1\\nvalue = [1, 0]'),\n",
       " Text(0.30273989433591353, 0.2777777777777778, 'gini = 0.0\\nsamples = 1\\nvalue = [0, 1]'),\n",
       " Text(0.30372281607077034, 0.3148148148148148, 'gini = 0.0\\nsamples = 3\\nvalue = [0, 3]'),\n",
       " Text(0.30667158127534094, 0.35185185185185186, 'X[5] <= 83.575\\ngini = 0.5\\nsamples = 6\\nvalue = [3, 3]'),\n",
       " Text(0.3056886595404841, 0.3148148148148148, 'gini = 0.0\\nsamples = 1\\nvalue = [0, 1]'),\n",
       " Text(0.3076545030101978, 0.3148148148148148, 'X[5] <= 84.6\\ngini = 0.48\\nsamples = 5\\nvalue = [3, 2]'),\n",
       " Text(0.30667158127534094, 0.2777777777777778, 'gini = 0.0\\nsamples = 1\\nvalue = [1, 0]'),\n",
       " Text(0.3086374247450547, 0.2777777777777778, 'X[5] <= 85.25\\ngini = 0.5\\nsamples = 4\\nvalue = [2, 2]'),\n",
       " Text(0.3076545030101978, 0.24074074074074073, 'gini = 0.0\\nsamples = 1\\nvalue = [0, 1]'),\n",
       " Text(0.30962034647991155, 0.24074074074074073, 'X[5] <= 85.425\\ngini = 0.444\\nsamples = 3\\nvalue = [2, 1]'),\n",
       " Text(0.3086374247450547, 0.2037037037037037, 'X[0] <= 0.5\\ngini = 0.5\\nsamples = 2\\nvalue = [1, 1]'),\n",
       " Text(0.3076545030101978, 0.16666666666666666, 'gini = 0.0\\nsamples = 1\\nvalue = [1, 0]'),\n",
       " Text(0.30962034647991155, 0.16666666666666666, 'gini = 0.0\\nsamples = 1\\nvalue = [0, 1]'),\n",
       " Text(0.3106032682147684, 0.2037037037037037, 'gini = 0.0\\nsamples = 1\\nvalue = [1, 0]'),\n",
       " Text(0.30667158127534094, 0.3888888888888889, 'gini = 0.0\\nsamples = 1\\nvalue = [1, 0]'),\n",
       " Text(0.3076545030101978, 0.6481481481481481, 'X[0] <= 0.5\\ngini = 0.311\\nsamples = 26\\nvalue = [5, 21]'),\n",
       " Text(0.30667158127534094, 0.6111111111111112, 'X[5] <= 83.975\\ngini = 0.388\\nsamples = 19\\nvalue = [5, 14]'),\n",
       " Text(0.3056886595404841, 0.5740740740740741, 'X[5] <= 74.5\\ngini = 0.346\\nsamples = 18\\nvalue = [4, 14]'),\n",
       " Text(0.3047057378056272, 0.5370370370370371, 'gini = 0.0\\nsamples = 5\\nvalue = [0, 5]'),\n",
       " Text(0.30667158127534094, 0.5370370370370371, 'X[5] <= 74.675\\ngini = 0.426\\nsamples = 13\\nvalue = [4, 9]'),\n",
       " Text(0.3056886595404841, 0.5, 'gini = 0.0\\nsamples = 1\\nvalue = [1, 0]'),\n",
       " Text(0.3076545030101978, 0.5, 'X[2] <= 3.5\\ngini = 0.375\\nsamples = 12\\nvalue = [3, 9]'),\n",
       " Text(0.30667158127534094, 0.46296296296296297, 'gini = 0.0\\nsamples = 6\\nvalue = [0, 6]'),\n",
       " Text(0.3086374247450547, 0.46296296296296297, 'X[4] <= 0.5\\ngini = 0.5\\nsamples = 6\\nvalue = [3, 3]'),\n",
       " Text(0.3076545030101978, 0.42592592592592593, 'gini = 0.0\\nsamples = 1\\nvalue = [0, 1]'),\n",
       " Text(0.30962034647991155, 0.42592592592592593, 'X[5] <= 80.925\\ngini = 0.48\\nsamples = 5\\nvalue = [3, 2]'),\n",
       " Text(0.3086374247450547, 0.3888888888888889, 'gini = 0.0\\nsamples = 2\\nvalue = [2, 0]'),\n",
       " Text(0.3106032682147684, 0.3888888888888889, 'X[2] <= 4.5\\ngini = 0.444\\nsamples = 3\\nvalue = [1, 2]'),\n",
       " Text(0.30962034647991155, 0.35185185185185186, 'gini = 0.0\\nsamples = 1\\nvalue = [1, 0]'),\n",
       " Text(0.3115861899496253, 0.35185185185185186, 'gini = 0.0\\nsamples = 2\\nvalue = [0, 2]'),\n",
       " Text(0.3076545030101978, 0.5740740740740741, 'gini = 0.0\\nsamples = 1\\nvalue = [1, 0]'),\n",
       " Text(0.3086374247450547, 0.6111111111111112, 'gini = 0.0\\nsamples = 7\\nvalue = [0, 7]'),\n",
       " Text(0.3106032682147684, 0.6851851851851852, 'X[5] <= 89.825\\ngini = 0.165\\nsamples = 22\\nvalue = [2, 20]'),\n",
       " Text(0.30962034647991155, 0.6481481481481481, 'gini = 0.0\\nsamples = 18\\nvalue = [0, 18]'),\n",
       " Text(0.3115861899496253, 0.6481481481481481, 'X[5] <= 89.925\\ngini = 0.5\\nsamples = 4\\nvalue = [2, 2]'),\n",
       " Text(0.3106032682147684, 0.6111111111111112, 'gini = 0.0\\nsamples = 2\\nvalue = [2, 0]'),\n",
       " Text(0.31256911168448215, 0.6111111111111112, 'gini = 0.0\\nsamples = 2\\nvalue = [0, 2]'),\n",
       " Text(0.342056763730188, 0.7222222222222222, 'X[5] <= 80.025\\ngini = 0.492\\nsamples = 163\\nvalue = [71, 92]'),\n",
       " Text(0.3235041159847647, 0.6851851851851852, 'X[5] <= 74.8\\ngini = 0.497\\nsamples = 74\\nvalue = [40, 34]'),\n",
       " Text(0.31650079862390956, 0.6481481481481481, 'X[5] <= 74.375\\ngini = 0.426\\nsamples = 26\\nvalue = [8, 18]'),\n",
       " Text(0.3145349551541958, 0.6111111111111112, 'X[2] <= 6.5\\ngini = 0.492\\nsamples = 16\\nvalue = [7, 9]'),\n",
       " Text(0.31355203341933896, 0.5740740740740741, 'gini = 0.0\\nsamples = 2\\nvalue = [2, 0]'),\n",
       " Text(0.3155178768890527, 0.5740740740740741, 'X[5] <= 72.875\\ngini = 0.459\\nsamples = 14\\nvalue = [5, 9]'),\n",
       " Text(0.3145349551541958, 0.5370370370370371, 'gini = 0.0\\nsamples = 2\\nvalue = [0, 2]'),\n",
       " Text(0.31650079862390956, 0.5370370370370371, 'X[5] <= 73.4\\ngini = 0.486\\nsamples = 12\\nvalue = [5, 7]'),\n",
       " Text(0.3145349551541958, 0.5, 'X[2] <= 10.0\\ngini = 0.444\\nsamples = 3\\nvalue = [2, 1]'),\n",
       " Text(0.31355203341933896, 0.46296296296296297, 'gini = 0.0\\nsamples = 1\\nvalue = [0, 1]'),\n",
       " Text(0.3155178768890527, 0.46296296296296297, 'gini = 0.0\\nsamples = 2\\nvalue = [2, 0]'),\n",
       " Text(0.3184666420936233, 0.5, 'X[2] <= 9.5\\ngini = 0.444\\nsamples = 9\\nvalue = [3, 6]'),\n",
       " Text(0.31748372035876643, 0.46296296296296297, 'X[5] <= 73.9\\ngini = 0.48\\nsamples = 5\\nvalue = [3, 2]'),\n",
       " Text(0.31650079862390956, 0.42592592592592593, 'gini = 0.0\\nsamples = 2\\nvalue = [0, 2]'),\n",
       " Text(0.3184666420936233, 0.42592592592592593, 'gini = 0.0\\nsamples = 3\\nvalue = [3, 0]'),\n",
       " Text(0.31944956382848017, 0.46296296296296297, 'gini = 0.0\\nsamples = 4\\nvalue = [0, 4]'),\n",
       " Text(0.3184666420936233, 0.6111111111111112, 'X[2] <= 11.5\\ngini = 0.18\\nsamples = 10\\nvalue = [1, 9]'),\n",
       " Text(0.31748372035876643, 0.5740740740740741, 'gini = 0.0\\nsamples = 9\\nvalue = [0, 9]'),\n",
       " Text(0.31944956382848017, 0.5740740740740741, 'gini = 0.0\\nsamples = 1\\nvalue = [1, 0]'),\n",
       " Text(0.3305074333456198, 0.6481481481481481, 'X[1] <= 0.5\\ngini = 0.444\\nsamples = 48\\nvalue = [32, 16]'),\n",
       " Text(0.3248556333701929, 0.6111111111111112, 'X[5] <= 76.2\\ngini = 0.366\\nsamples = 29\\nvalue = [22, 7]'),\n",
       " Text(0.32387271163533604, 0.5740740740740741, 'gini = 0.0\\nsamples = 10\\nvalue = [10, 0]'),\n",
       " Text(0.3258385551050498, 0.5740740740740741, 'X[5] <= 78.4\\ngini = 0.465\\nsamples = 19\\nvalue = [12, 7]'),\n",
       " Text(0.3233812507679076, 0.5370370370370371, 'X[5] <= 77.125\\ngini = 0.32\\nsamples = 5\\nvalue = [1, 4]'),\n",
       " Text(0.32239832903305077, 0.5, 'X[5] <= 76.55\\ngini = 0.5\\nsamples = 2\\nvalue = [1, 1]'),\n",
       " Text(0.3214154072981939, 0.46296296296296297, 'gini = 0.0\\nsamples = 1\\nvalue = [0, 1]'),\n",
       " Text(0.3233812507679076, 0.46296296296296297, 'gini = 0.0\\nsamples = 1\\nvalue = [1, 0]'),\n",
       " Text(0.32436417250276445, 0.5, 'gini = 0.0\\nsamples = 3\\nvalue = [0, 3]'),\n",
       " Text(0.3282958594421919, 0.5370370370370371, 'X[2] <= 10.5\\ngini = 0.337\\nsamples = 14\\nvalue = [11, 3]'),\n",
       " Text(0.32731293770733505, 0.5, 'X[2] <= 8.5\\ngini = 0.444\\nsamples = 9\\nvalue = [6, 3]'),\n",
       " Text(0.3253470942376213, 0.46296296296296297, 'X[5] <= 79.325\\ngini = 0.278\\nsamples = 6\\nvalue = [5, 1]'),\n",
       " Text(0.32436417250276445, 0.42592592592592593, 'gini = 0.0\\nsamples = 3\\nvalue = [3, 0]'),\n",
       " Text(0.3263300159724782, 0.42592592592592593, 'X[2] <= 6.5\\ngini = 0.444\\nsamples = 3\\nvalue = [2, 1]'),\n",
       " Text(0.3253470942376213, 0.3888888888888889, 'gini = 0.0\\nsamples = 1\\nvalue = [1, 0]'),\n",
       " Text(0.32731293770733505, 0.3888888888888889, 'X[5] <= 79.85\\ngini = 0.5\\nsamples = 2\\nvalue = [1, 1]'),\n",
       " Text(0.3263300159724782, 0.35185185185185186, 'gini = 0.0\\nsamples = 1\\nvalue = [0, 1]'),\n",
       " Text(0.3282958594421919, 0.35185185185185186, 'gini = 0.0\\nsamples = 1\\nvalue = [1, 0]'),\n",
       " Text(0.3292787811770488, 0.46296296296296297, 'X[5] <= 79.7\\ngini = 0.444\\nsamples = 3\\nvalue = [1, 2]'),\n",
       " Text(0.3282958594421919, 0.42592592592592593, 'gini = 0.0\\nsamples = 2\\nvalue = [0, 2]'),\n",
       " Text(0.33026170291190565, 0.42592592592592593, 'gini = 0.0\\nsamples = 1\\nvalue = [1, 0]'),\n",
       " Text(0.3292787811770488, 0.5, 'gini = 0.0\\nsamples = 5\\nvalue = [5, 0]'),\n",
       " Text(0.3361592333210468, 0.6111111111111112, 'X[5] <= 79.275\\ngini = 0.499\\nsamples = 19\\nvalue = [10, 9]'),\n",
       " Text(0.33419338985133307, 0.5740740740740741, 'X[5] <= 75.8\\ngini = 0.459\\nsamples = 14\\nvalue = [9, 5]'),\n",
       " Text(0.3332104681164762, 0.5370370370370371, 'X[2] <= 8.5\\ngini = 0.494\\nsamples = 9\\nvalue = [4, 5]'),\n",
       " Text(0.3322275463816194, 0.5, 'X[2] <= 6.5\\ngini = 0.49\\nsamples = 7\\nvalue = [4, 3]'),\n",
       " Text(0.3312446246467625, 0.46296296296296297, 'gini = 0.0\\nsamples = 1\\nvalue = [0, 1]'),\n",
       " Text(0.3332104681164762, 0.46296296296296297, 'X[4] <= 0.5\\ngini = 0.444\\nsamples = 6\\nvalue = [4, 2]'),\n",
       " Text(0.3322275463816194, 0.42592592592592593, 'gini = 0.0\\nsamples = 1\\nvalue = [0, 1]'),\n",
       " Text(0.33419338985133307, 0.42592592592592593, 'X[0] <= 0.5\\ngini = 0.32\\nsamples = 5\\nvalue = [4, 1]'),\n",
       " Text(0.3332104681164762, 0.3888888888888889, 'X[5] <= 75.425\\ngini = 0.5\\nsamples = 2\\nvalue = [1, 1]'),\n",
       " Text(0.3322275463816194, 0.35185185185185186, 'gini = 0.0\\nsamples = 1\\nvalue = [0, 1]'),\n",
       " Text(0.33419338985133307, 0.35185185185185186, 'gini = 0.0\\nsamples = 1\\nvalue = [1, 0]'),\n",
       " Text(0.33517631158618993, 0.3888888888888889, 'gini = 0.0\\nsamples = 3\\nvalue = [3, 0]'),\n",
       " Text(0.33419338985133307, 0.5, 'gini = 0.0\\nsamples = 2\\nvalue = [0, 2]'),\n",
       " Text(0.33517631158618993, 0.5370370370370371, 'gini = 0.0\\nsamples = 5\\nvalue = [5, 0]'),\n",
       " Text(0.33812507679076054, 0.5740740740740741, 'X[0] <= 0.5\\ngini = 0.32\\nsamples = 5\\nvalue = [1, 4]'),\n",
       " Text(0.33714215505590367, 0.5370370370370371, 'gini = 0.0\\nsamples = 1\\nvalue = [1, 0]'),\n",
       " Text(0.3391079985256174, 0.5370370370370371, 'gini = 0.0\\nsamples = 4\\nvalue = [0, 4]'),\n",
       " Text(0.36060941147561126, 0.6851851851851852, 'X[5] <= 85.625\\ngini = 0.454\\nsamples = 89\\nvalue = [31, 58]'),\n",
       " Text(0.35262317237989926, 0.6481481481481481, 'X[2] <= 10.5\\ngini = 0.366\\nsamples = 58\\nvalue = [14, 44]'),\n",
       " Text(0.3464799115370439, 0.6111111111111112, 'X[4] <= 0.5\\ngini = 0.292\\nsamples = 45\\nvalue = [8, 37]'),\n",
       " Text(0.342056763730188, 0.5740740740740741, 'X[5] <= 82.575\\ngini = 0.49\\nsamples = 7\\nvalue = [3, 4]'),\n",
       " Text(0.34107384199533114, 0.5370370370370371, 'gini = 0.0\\nsamples = 2\\nvalue = [2, 0]'),\n",
       " Text(0.3430396854650448, 0.5370370370370371, 'X[5] <= 85.075\\ngini = 0.32\\nsamples = 5\\nvalue = [1, 4]'),\n",
       " Text(0.342056763730188, 0.5, 'gini = 0.0\\nsamples = 3\\nvalue = [0, 3]'),\n",
       " Text(0.3440226071999017, 0.5, 'X[2] <= 9.0\\ngini = 0.5\\nsamples = 2\\nvalue = [1, 1]'),\n",
       " Text(0.3430396854650448, 0.46296296296296297, 'gini = 0.0\\nsamples = 1\\nvalue = [1, 0]'),\n",
       " Text(0.34500552893475855, 0.46296296296296297, 'gini = 0.0\\nsamples = 1\\nvalue = [0, 1]'),\n",
       " Text(0.35090305934389976, 0.5740740740740741, 'X[5] <= 85.275\\ngini = 0.229\\nsamples = 38\\nvalue = [5, 33]'),\n",
       " Text(0.348937215874186, 0.5370370370370371, 'X[1] <= 0.5\\ngini = 0.165\\nsamples = 33\\nvalue = [3, 30]'),\n",
       " Text(0.34795429413932916, 0.5, 'X[5] <= 84.375\\ngini = 0.255\\nsamples = 20\\nvalue = [3, 17]'),\n",
       " Text(0.3469713724044723, 0.46296296296296297, 'X[5] <= 84.1\\ngini = 0.337\\nsamples = 14\\nvalue = [3, 11]'),\n",
       " Text(0.3459884506696154, 0.42592592592592593, 'X[0] <= 0.5\\ngini = 0.26\\nsamples = 13\\nvalue = [2, 11]'),\n",
       " Text(0.34500552893475855, 0.3888888888888889, 'gini = 0.0\\nsamples = 7\\nvalue = [0, 7]'),\n",
       " Text(0.3469713724044723, 0.3888888888888889, 'X[5] <= 80.375\\ngini = 0.444\\nsamples = 6\\nvalue = [2, 4]'),\n",
       " Text(0.3459884506696154, 0.35185185185185186, 'gini = 0.0\\nsamples = 1\\nvalue = [1, 0]'),\n",
       " Text(0.34795429413932916, 0.35185185185185186, 'X[5] <= 80.975\\ngini = 0.32\\nsamples = 5\\nvalue = [1, 4]'),\n",
       " Text(0.3469713724044723, 0.3148148148148148, 'gini = 0.0\\nsamples = 2\\nvalue = [0, 2]'),\n",
       " Text(0.348937215874186, 0.3148148148148148, 'X[5] <= 81.2\\ngini = 0.444\\nsamples = 3\\nvalue = [1, 2]'),\n",
       " Text(0.34795429413932916, 0.2777777777777778, 'gini = 0.0\\nsamples = 1\\nvalue = [1, 0]'),\n",
       " Text(0.3499201376090429, 0.2777777777777778, 'gini = 0.0\\nsamples = 2\\nvalue = [0, 2]'),\n",
       " Text(0.34795429413932916, 0.42592592592592593, 'gini = 0.0\\nsamples = 1\\nvalue = [1, 0]'),\n",
       " Text(0.348937215874186, 0.46296296296296297, 'gini = 0.0\\nsamples = 6\\nvalue = [0, 6]'),\n",
       " Text(0.3499201376090429, 0.5, 'gini = 0.0\\nsamples = 13\\nvalue = [0, 13]'),\n",
       " Text(0.35286890281361344, 0.5370370370370371, 'X[0] <= 0.5\\ngini = 0.48\\nsamples = 5\\nvalue = [2, 3]'),\n",
       " Text(0.3518859810787566, 0.5, 'gini = 0.0\\nsamples = 1\\nvalue = [1, 0]'),\n",
       " Text(0.3538518245484703, 0.5, 'X[5] <= 85.425\\ngini = 0.375\\nsamples = 4\\nvalue = [1, 3]'),\n",
       " Text(0.35286890281361344, 0.46296296296296297, 'gini = 0.0\\nsamples = 2\\nvalue = [0, 2]'),\n",
       " Text(0.3548347462833272, 0.46296296296296297, 'X[2] <= 9.5\\ngini = 0.5\\nsamples = 2\\nvalue = [1, 1]'),\n",
       " Text(0.3538518245484703, 0.42592592592592593, 'gini = 0.0\\nsamples = 1\\nvalue = [1, 0]'),\n",
       " Text(0.35581766801818404, 0.42592592592592593, 'gini = 0.0\\nsamples = 1\\nvalue = [0, 1]'),\n",
       " Text(0.35876643322275464, 0.6111111111111112, 'X[5] <= 84.55\\ngini = 0.497\\nsamples = 13\\nvalue = [6, 7]'),\n",
       " Text(0.35581766801818404, 0.5740740740740741, 'X[5] <= 81.15\\ngini = 0.375\\nsamples = 8\\nvalue = [2, 6]'),\n",
       " Text(0.3548347462833272, 0.5370370370370371, 'gini = 0.0\\nsamples = 3\\nvalue = [0, 3]'),\n",
       " Text(0.3568005897530409, 0.5370370370370371, 'X[5] <= 83.35\\ngini = 0.48\\nsamples = 5\\nvalue = [2, 3]'),\n",
       " Text(0.35581766801818404, 0.5, 'gini = 0.0\\nsamples = 2\\nvalue = [2, 0]'),\n",
       " Text(0.3577835114878978, 0.5, 'gini = 0.0\\nsamples = 3\\nvalue = [0, 3]'),\n",
       " Text(0.36171519842732525, 0.5740740740740741, 'X[2] <= 11.5\\ngini = 0.32\\nsamples = 5\\nvalue = [4, 1]'),\n",
       " Text(0.3607322766924684, 0.5370370370370371, 'X[0] <= 0.5\\ngini = 0.5\\nsamples = 2\\nvalue = [1, 1]'),\n",
       " Text(0.3597493549576115, 0.5, 'gini = 0.0\\nsamples = 1\\nvalue = [0, 1]'),\n",
       " Text(0.36171519842732525, 0.5, 'gini = 0.0\\nsamples = 1\\nvalue = [1, 0]'),\n",
       " Text(0.3626981201621821, 0.5370370370370371, 'gini = 0.0\\nsamples = 3\\nvalue = [3, 0]'),\n",
       " Text(0.36859565057132326, 0.6481481481481481, 'X[5] <= 89.275\\ngini = 0.495\\nsamples = 31\\nvalue = [17, 14]'),\n",
       " Text(0.36662980710160953, 0.6111111111111112, 'X[5] <= 87.075\\ngini = 0.408\\nsamples = 21\\nvalue = [15, 6]'),\n",
       " Text(0.36564688536675266, 0.5740740740740741, 'X[5] <= 86.35\\ngini = 0.496\\nsamples = 11\\nvalue = [5, 6]'),\n",
       " Text(0.3646639636318958, 0.5370370370370371, 'X[2] <= 7.5\\ngini = 0.278\\nsamples = 6\\nvalue = [5, 1]'),\n",
       " Text(0.3636810418970389, 0.5, 'X[2] <= 6.5\\ngini = 0.5\\nsamples = 2\\nvalue = [1, 1]'),\n",
       " Text(0.3626981201621821, 0.46296296296296297, 'gini = 0.0\\nsamples = 1\\nvalue = [1, 0]'),\n",
       " Text(0.3646639636318958, 0.46296296296296297, 'gini = 0.0\\nsamples = 1\\nvalue = [0, 1]'),\n",
       " Text(0.36564688536675266, 0.5, 'gini = 0.0\\nsamples = 4\\nvalue = [4, 0]'),\n",
       " Text(0.36662980710160953, 0.5370370370370371, 'gini = 0.0\\nsamples = 5\\nvalue = [0, 5]'),\n",
       " Text(0.3676127288364664, 0.5740740740740741, 'gini = 0.0\\nsamples = 10\\nvalue = [10, 0]'),\n",
       " Text(0.370561494041037, 0.6111111111111112, 'X[5] <= 89.625\\ngini = 0.32\\nsamples = 10\\nvalue = [2, 8]'),\n",
       " Text(0.36957857230618013, 0.5740740740740741, 'gini = 0.0\\nsamples = 6\\nvalue = [0, 6]'),\n",
       " Text(0.37154441577589387, 0.5740740740740741, 'X[2] <= 10.0\\ngini = 0.5\\nsamples = 4\\nvalue = [2, 2]'),\n",
       " Text(0.370561494041037, 0.5370370370370371, 'X[5] <= 89.925\\ngini = 0.444\\nsamples = 3\\nvalue = [2, 1]'),\n",
       " Text(0.36957857230618013, 0.5, 'gini = 0.0\\nsamples = 1\\nvalue = [1, 0]'),\n",
       " Text(0.37154441577589387, 0.5, 'X[2] <= 7.5\\ngini = 0.5\\nsamples = 2\\nvalue = [1, 1]'),\n",
       " Text(0.370561494041037, 0.46296296296296297, 'gini = 0.0\\nsamples = 1\\nvalue = [0, 1]'),\n",
       " Text(0.37252733751075073, 0.46296296296296297, 'gini = 0.0\\nsamples = 1\\nvalue = [1, 0]'),\n",
       " Text(0.37252733751075073, 0.5370370370370371, 'gini = 0.0\\nsamples = 1\\nvalue = [0, 1]'),\n",
       " Text(0.3744931809804644, 0.7592592592592593, 'X[5] <= 90.775\\ngini = 0.455\\nsamples = 20\\nvalue = [13, 7]'),\n",
       " Text(0.37351025924560755, 0.7222222222222222, 'gini = 0.0\\nsamples = 9\\nvalue = [9, 0]'),\n",
       " Text(0.3754761027153213, 0.7222222222222222, 'X[1] <= 0.5\\ngini = 0.463\\nsamples = 11\\nvalue = [4, 7]'),\n",
       " Text(0.3744931809804644, 0.6851851851851852, 'X[5] <= 91.125\\ngini = 0.49\\nsamples = 7\\nvalue = [4, 3]'),\n",
       " Text(0.37351025924560755, 0.6481481481481481, 'X[2] <= 9.5\\ngini = 0.375\\nsamples = 4\\nvalue = [1, 3]'),\n",
       " Text(0.37252733751075073, 0.6111111111111112, 'gini = 0.0\\nsamples = 3\\nvalue = [0, 3]'),\n",
       " Text(0.3744931809804644, 0.6111111111111112, 'gini = 0.0\\nsamples = 1\\nvalue = [1, 0]'),\n",
       " Text(0.3754761027153213, 0.6481481481481481, 'gini = 0.0\\nsamples = 3\\nvalue = [3, 0]'),\n",
       " Text(0.37645902445017815, 0.6851851851851852, 'gini = 0.0\\nsamples = 4\\nvalue = [0, 4]'),\n",
       " Text(0.39498095589138715, 0.8333333333333334, 'X[5] <= 107.325\\ngini = 0.324\\nsamples = 113\\nvalue = [23, 90]'),\n",
       " Text(0.38696400049146085, 0.7962962962962963, 'X[4] <= 0.5\\ngini = 0.302\\nsamples = 108\\nvalue = [20, 88]'),\n",
       " Text(0.3813736331244625, 0.7592592592592593, 'X[2] <= 4.0\\ngini = 0.459\\nsamples = 14\\nvalue = [5, 9]'),\n",
       " Text(0.37940778965474875, 0.7222222222222222, 'X[5] <= 95.175\\ngini = 0.32\\nsamples = 5\\nvalue = [4, 1]'),\n",
       " Text(0.3784248679198919, 0.6851851851851852, 'X[1] <= 0.5\\ngini = 0.5\\nsamples = 2\\nvalue = [1, 1]'),\n",
       " Text(0.377441946185035, 0.6481481481481481, 'gini = 0.0\\nsamples = 1\\nvalue = [0, 1]'),\n",
       " Text(0.37940778965474875, 0.6481481481481481, 'gini = 0.0\\nsamples = 1\\nvalue = [1, 0]'),\n",
       " Text(0.3803907113896056, 0.6851851851851852, 'gini = 0.0\\nsamples = 3\\nvalue = [3, 0]'),\n",
       " Text(0.38333947659417617, 0.7222222222222222, 'X[2] <= 11.0\\ngini = 0.198\\nsamples = 9\\nvalue = [1, 8]'),\n",
       " Text(0.38235655485931935, 0.6851851851851852, 'gini = 0.0\\nsamples = 8\\nvalue = [0, 8]'),\n",
       " Text(0.38432239832903303, 0.6851851851851852, 'gini = 0.0\\nsamples = 1\\nvalue = [1, 0]'),\n",
       " Text(0.39255436785845926, 0.7592592592592593, 'X[2] <= 5.5\\ngini = 0.268\\nsamples = 94\\nvalue = [15, 79]'),\n",
       " Text(0.38727116353360364, 0.7222222222222222, 'X[5] <= 94.975\\ngini = 0.117\\nsamples = 32\\nvalue = [2, 30]'),\n",
       " Text(0.38628824179874677, 0.6851851851851852, 'X[5] <= 94.675\\ngini = 0.278\\nsamples = 12\\nvalue = [2, 10]'),\n",
       " Text(0.3853053200638899, 0.6481481481481481, 'gini = 0.0\\nsamples = 9\\nvalue = [0, 9]'),\n",
       " Text(0.38727116353360364, 0.6481481481481481, 'X[2] <= 4.5\\ngini = 0.444\\nsamples = 3\\nvalue = [2, 1]'),\n",
       " Text(0.38628824179874677, 0.6111111111111112, 'gini = 0.0\\nsamples = 2\\nvalue = [2, 0]'),\n",
       " Text(0.3882540852684605, 0.6111111111111112, 'gini = 0.0\\nsamples = 1\\nvalue = [0, 1]'),\n",
       " Text(0.3882540852684605, 0.6851851851851852, 'gini = 0.0\\nsamples = 20\\nvalue = [0, 20]'),\n",
       " Text(0.3978375721833149, 0.7222222222222222, 'X[2] <= 9.5\\ngini = 0.331\\nsamples = 62\\nvalue = [13, 49]'),\n",
       " Text(0.39366015481017325, 0.6851851851851852, 'X[2] <= 8.5\\ngini = 0.43\\nsamples = 32\\nvalue = [10, 22]'),\n",
       " Text(0.3912028504730311, 0.6481481481481481, 'X[5] <= 100.5\\ngini = 0.34\\nsamples = 23\\nvalue = [5, 18]'),\n",
       " Text(0.39021992873817424, 0.6111111111111112, 'X[5] <= 100.05\\ngini = 0.401\\nsamples = 18\\nvalue = [5, 13]'),\n",
       " Text(0.38923700700331737, 0.5740740740740741, 'X[5] <= 95.05\\ngini = 0.305\\nsamples = 16\\nvalue = [3, 13]'),\n",
       " Text(0.3882540852684605, 0.5370370370370371, 'X[1] <= 0.5\\ngini = 0.444\\nsamples = 9\\nvalue = [3, 6]'),\n",
       " Text(0.38628824179874677, 0.5, 'X[0] <= 0.5\\ngini = 0.278\\nsamples = 6\\nvalue = [1, 5]'),\n",
       " Text(0.3853053200638899, 0.46296296296296297, 'X[2] <= 6.5\\ngini = 0.444\\nsamples = 3\\nvalue = [1, 2]'),\n",
       " Text(0.38432239832903303, 0.42592592592592593, 'gini = 0.0\\nsamples = 1\\nvalue = [0, 1]'),\n",
       " Text(0.38628824179874677, 0.42592592592592593, 'X[5] <= 94.25\\ngini = 0.5\\nsamples = 2\\nvalue = [1, 1]'),\n",
       " Text(0.3853053200638899, 0.3888888888888889, 'gini = 0.0\\nsamples = 1\\nvalue = [1, 0]'),\n",
       " Text(0.38727116353360364, 0.3888888888888889, 'gini = 0.0\\nsamples = 1\\nvalue = [0, 1]'),\n",
       " Text(0.38727116353360364, 0.46296296296296297, 'gini = 0.0\\nsamples = 3\\nvalue = [0, 3]'),\n",
       " Text(0.39021992873817424, 0.5, 'X[0] <= 0.5\\ngini = 0.444\\nsamples = 3\\nvalue = [2, 1]'),\n",
       " Text(0.38923700700331737, 0.46296296296296297, 'gini = 0.0\\nsamples = 1\\nvalue = [1, 0]'),\n",
       " Text(0.3912028504730311, 0.46296296296296297, 'X[5] <= 94.725\\ngini = 0.5\\nsamples = 2\\nvalue = [1, 1]'),\n",
       " Text(0.39021992873817424, 0.42592592592592593, 'gini = 0.0\\nsamples = 1\\nvalue = [0, 1]'),\n",
       " Text(0.392185772207888, 0.42592592592592593, 'gini = 0.0\\nsamples = 1\\nvalue = [1, 0]'),\n",
       " Text(0.39021992873817424, 0.5370370370370371, 'gini = 0.0\\nsamples = 7\\nvalue = [0, 7]'),\n",
       " Text(0.3912028504730311, 0.5740740740740741, 'gini = 0.0\\nsamples = 2\\nvalue = [2, 0]'),\n",
       " Text(0.392185772207888, 0.6111111111111112, 'gini = 0.0\\nsamples = 5\\nvalue = [0, 5]'),\n",
       " Text(0.3961174591473154, 0.6481481481481481, 'X[5] <= 101.0\\ngini = 0.494\\nsamples = 9\\nvalue = [5, 4]'),\n",
       " Text(0.3951345374124585, 0.6111111111111112, 'X[5] <= 99.375\\ngini = 0.49\\nsamples = 7\\nvalue = [3, 4]'),\n",
       " Text(0.39415161567760165, 0.5740740740740741, 'X[5] <= 95.375\\ngini = 0.48\\nsamples = 5\\nvalue = [3, 2]'),\n",
       " Text(0.3931686939427448, 0.5370370370370371, 'X[5] <= 94.4\\ngini = 0.444\\nsamples = 3\\nvalue = [1, 2]'),\n",
       " Text(0.392185772207888, 0.5, 'gini = 0.0\\nsamples = 1\\nvalue = [1, 0]'),\n",
       " Text(0.39415161567760165, 0.5, 'gini = 0.0\\nsamples = 2\\nvalue = [0, 2]'),\n",
       " Text(0.3951345374124585, 0.5370370370370371, 'gini = 0.0\\nsamples = 2\\nvalue = [2, 0]'),\n",
       " Text(0.3961174591473154, 0.5740740740740741, 'gini = 0.0\\nsamples = 2\\nvalue = [0, 2]'),\n",
       " Text(0.39710038088217225, 0.6111111111111112, 'gini = 0.0\\nsamples = 2\\nvalue = [2, 0]'),\n",
       " ...]"
      ]
     },
     "execution_count": 19,
     "metadata": {},
     "output_type": "execute_result"
    },
    {
     "data": {
      "image/png": "[encoded data removed]",
      "text/plain": [
       "<Figure size 864x576 with 1 Axes>"
      ]
     },
     "metadata": {
      "needs_background": "light"
     },
     "output_type": "display_data"
    }
   ],
   "source": [
    "#Cek Decision Tree yang dibuat\n",
    "plt.figure(figsize=(12,8))\n",
    "\n",
    "from sklearn import tree\n",
    "\n",
    "tree.plot_tree(clf.fit(X_train, y_train)) "
   ]
  },
  {
   "cell_type": "markdown",
   "metadata": {
    "id": "mDRQ-zHIlEum"
   },
   "source": [
    "Terlihat bahwa bagan dari Decision Treenya banyak, akan dicoba untuk dilakukan pruning dengan membatasi jumlah kedalaman dari Tree"
   ]
  },
  {
   "cell_type": "code",
   "execution_count": 20,
   "metadata": {
    "colab": {
     "base_uri": "https://localhost:8080/"
    },
    "executionInfo": {
     "elapsed": 372,
     "status": "ok",
     "timestamp": 1672752136069,
     "user": {
      "displayName": "Muklis Adi Wicaksono",
      "userId": "18432726686680524570"
     },
     "user_tz": -420
    },
    "id": "frTcS44akf5_",
    "outputId": "7fdd294b-a5f1-4624-9304-a22df9cab649"
   },
   "outputs": [
    {
     "name": "stdout",
     "output_type": "stream",
     "text": [
      "Training set score: 0.9947\n",
      "Test set score: 0.7175\n"
     ]
    }
   ],
   "source": [
    "# print the scores on training and test set\n",
    "\n",
    "print('Training set score: {:.4f}'.format(clf.score(X_train, y_train)))\n",
    "\n",
    "print('Test set score: {:.4f}'.format(clf.score(X_test, y_test)))"
   ]
  },
  {
   "cell_type": "code",
   "execution_count": 21,
   "metadata": {
    "colab": {
     "base_uri": "https://localhost:8080/"
    },
    "executionInfo": {
     "elapsed": 467,
     "status": "ok",
     "timestamp": 1672752144176,
     "user": {
      "displayName": "Muklis Adi Wicaksono",
      "userId": "18432726686680524570"
     },
     "user_tz": -420
    },
    "id": "_fbc4-P8lHjJ",
    "outputId": "e5ed4921-8d8c-491f-815b-ede007eff91f"
   },
   "outputs": [
    {
     "name": "stdout",
     "output_type": "stream",
     "text": [
      "Accuracy Score of Decision Tree is : 0.718409843823947\n",
      "Confusion Matrix : \n",
      "[[1235  304]\n",
      " [ 291  283]]\n",
      "Classification Report : \n",
      "              precision    recall  f1-score   support\n",
      "\n",
      "           0       0.81      0.80      0.81      1539\n",
      "           1       0.48      0.49      0.49       574\n",
      "\n",
      "    accuracy                           0.72      2113\n",
      "   macro avg       0.65      0.65      0.65      2113\n",
      "weighted avg       0.72      0.72      0.72      2113\n",
      "\n"
     ]
    }
   ],
   "source": [
    "acc_dtc = accuracy_score(y_test, y_pred)\n",
    "conf = confusion_matrix(y_test, y_pred)\n",
    "clf_report = classification_report(y_test, y_pred)\n",
    "\n",
    "print(f\"Accuracy Score of Decision Tree is : {acc_dtc}\")\n",
    "print(f\"Confusion Matrix : \\n{conf}\")\n",
    "print(f\"Classification Report : \\n{clf_report}\")"
   ]
  },
  {
   "cell_type": "markdown",
   "metadata": {
    "id": "yeNBtbI6lOoO"
   },
   "source": [
    "Sangat terlihat bahwa nilai dari training set score bernilai 1 dimana hal tersebut menandakan model dari Decision Tree mengalami overfitting"
   ]
  },
  {
   "cell_type": "code",
   "execution_count": 22,
   "metadata": {
    "colab": {
     "base_uri": "https://localhost:8080/"
    },
    "executionInfo": {
     "elapsed": 401,
     "status": "ok",
     "timestamp": 1672752153635,
     "user": {
      "displayName": "Muklis Adi Wicaksono",
      "userId": "18432726686680524570"
     },
     "user_tz": -420
    },
    "id": "gMytNKHclLQK",
    "outputId": "d9c08976-cfe6-4853-ef39-dd63cbcb4f74"
   },
   "outputs": [
    {
     "data": {
      "text/plain": [
       "DecisionTreeClassifier(max_depth=5)"
      ]
     },
     "execution_count": 22,
     "metadata": {},
     "output_type": "execute_result"
    }
   ],
   "source": [
    "clf_gini = DecisionTreeClassifier(criterion='gini', max_depth=5)\n",
    "clf_gini.fit(X_train, y_train)"
   ]
  },
  {
   "cell_type": "code",
   "execution_count": 23,
   "metadata": {
    "executionInfo": {
     "elapsed": 386,
     "status": "ok",
     "timestamp": 1672752159383,
     "user": {
      "displayName": "Muklis Adi Wicaksono",
      "userId": "18432726686680524570"
     },
     "user_tz": -420
    },
    "id": "McFALcGplRba"
   },
   "outputs": [],
   "source": [
    "y_pred_gini = clf_gini.predict(X_test)"
   ]
  },
  {
   "cell_type": "code",
   "execution_count": 24,
   "metadata": {},
   "outputs": [
    {
     "name": "stdout",
     "output_type": "stream",
     "text": [
      "Requirement already satisfied: pydotplus in c:\\users\\asus\\anaconda3\\lib\\site-packages (2.0.2)\n",
      "Requirement already satisfied: pyparsing>=2.0.1 in c:\\users\\asus\\anaconda3\\lib\\site-packages (from pydotplus) (3.0.4)\n"
     ]
    }
   ],
   "source": [
    "!pip install pydotplus"
   ]
  },
  {
   "cell_type": "code",
   "execution_count": 25,
   "metadata": {},
   "outputs": [
    {
     "name": "stdout",
     "output_type": "stream",
     "text": [
      "Requirement already satisfied: graphviz in c:\\users\\asus\\anaconda3\\lib\\site-packages (0.20.1)\n"
     ]
    }
   ],
   "source": [
    "!pip install graphviz"
   ]
  },
  {
   "cell_type": "code",
   "execution_count": 26,
   "metadata": {},
   "outputs": [
    {
     "name": "stdout",
     "output_type": "stream",
     "text": [
      "^C\n",
      "\n",
      "Note: you may need to restart the kernel to use updated packages.\n"
     ]
    }
   ],
   "source": [
    "#conda install graphviz \n",
    "##jika terjadi kesalahan install \"conda install graphviz\" ## kemudian restart kernel"
   ]
  },
  {
   "cell_type": "code",
   "execution_count": 26,
   "metadata": {},
   "outputs": [],
   "source": [
    "import graphviz \n",
    "import pydotplus"
   ]
  },
  {
   "cell_type": "code",
   "execution_count": 27,
   "metadata": {},
   "outputs": [],
   "source": [
    "from graphviz import Source\n",
    "from sklearn import tree\n",
    "from subprocess import call"
   ]
  },
  {
   "cell_type": "code",
   "execution_count": 29,
   "metadata": {
    "colab": {
     "base_uri": "https://localhost:8080/",
     "height": 816
    },
    "executionInfo": {
     "elapsed": 874,
     "status": "ok",
     "timestamp": 1672752163090,
     "user": {
      "displayName": "Muklis Adi Wicaksono",
      "userId": "18432726686680524570"
     },
     "user_tz": -420
    },
    "id": "BNfttwtSlTlY",
    "outputId": "4d192fc9-5c4e-4ecd-a7c6-479eb98e151a"
   },
   "outputs": [
    {
     "data": {
      "image/svg+xml": [
       "<?xml version=\"1.0\" encoding=\"UTF-8\" standalone=\"no\"?>\n",
       "<!DOCTYPE svg PUBLIC \"-//W3C//DTD SVG 1.1//EN\"\n",
       " \"http://www.w3.org/Graphics/SVG/1.1/DTD/svg11.dtd\">\n",
       "<!-- Generated by graphviz version 2.50.0 (0)\n",
       " -->\n",
       "<!-- Title: Tree Pages: 1 -->\n",
       "<svg width=\"3852pt\" height=\"581pt\"\n",
       " viewBox=\"0.00 0.00 3851.50 581.00\" xmlns=\"http://www.w3.org/2000/svg\" xmlns:xlink=\"http://www.w3.org/1999/xlink\">\n",
       "<g id=\"graph0\" class=\"graph\" transform=\"scale(1 1) rotate(0) translate(4 577)\">\n",
       "<title>Tree</title>\n",
       "<polygon fill=\"white\" stroke=\"transparent\" points=\"-4,4 -4,-577 3847.5,-577 3847.5,4 -4,4\"/>\n",
       "<!-- 0 -->\n",
       "<g id=\"node1\" class=\"node\">\n",
       "<title>0</title>\n",
       "<path fill=\"#eeae80\" stroke=\"black\" d=\"M1967,-573C1967,-573 1851,-573 1851,-573 1845,-573 1839,-567 1839,-561 1839,-561 1839,-517 1839,-517 1839,-511 1845,-505 1851,-505 1851,-505 1967,-505 1967,-505 1973,-505 1979,-511 1979,-517 1979,-517 1979,-561 1979,-561 1979,-567 1973,-573 1967,-573\"/>\n",
       "<text text-anchor=\"start\" x=\"1869\" y=\"-557.8\" font-family=\"Helvetica,sans-Serif\" font-size=\"14.00\">tenure ≤ 12.5</text>\n",
       "<text text-anchor=\"start\" x=\"1873.5\" y=\"-542.8\" font-family=\"Helvetica,sans-Serif\" font-size=\"14.00\">gini = 0.387</text>\n",
       "<text text-anchor=\"start\" x=\"1860.5\" y=\"-527.8\" font-family=\"Helvetica,sans-Serif\" font-size=\"14.00\">samples = 4930</text>\n",
       "<text text-anchor=\"start\" x=\"1847\" y=\"-512.8\" font-family=\"Helvetica,sans-Serif\" font-size=\"14.00\">value = [3635, 1295]</text>\n",
       "</g>\n",
       "<!-- 1 -->\n",
       "<g id=\"node2\" class=\"node\">\n",
       "<title>1</title>\n",
       "<path fill=\"#fcf3ec\" stroke=\"black\" d=\"M1359.5,-469C1359.5,-469 1226.5,-469 1226.5,-469 1220.5,-469 1214.5,-463 1214.5,-457 1214.5,-457 1214.5,-413 1214.5,-413 1214.5,-407 1220.5,-401 1226.5,-401 1226.5,-401 1359.5,-401 1359.5,-401 1365.5,-401 1371.5,-407 1371.5,-413 1371.5,-413 1371.5,-457 1371.5,-457 1371.5,-463 1365.5,-469 1359.5,-469\"/>\n",
       "<text text-anchor=\"start\" x=\"1222.5\" y=\"-453.8\" font-family=\"Helvetica,sans-Serif\" font-size=\"14.00\">MonthlyCharges ≤ 66.3</text>\n",
       "<text text-anchor=\"start\" x=\"1257.5\" y=\"-438.8\" font-family=\"Helvetica,sans-Serif\" font-size=\"14.00\">gini = 0.499</text>\n",
       "<text text-anchor=\"start\" x=\"1244.5\" y=\"-423.8\" font-family=\"Helvetica,sans-Serif\" font-size=\"14.00\">samples = 1529</text>\n",
       "<text text-anchor=\"start\" x=\"1238.5\" y=\"-408.8\" font-family=\"Helvetica,sans-Serif\" font-size=\"14.00\">value = [804, 725]</text>\n",
       "</g>\n",
       "<!-- 0&#45;&gt;1 -->\n",
       "<g id=\"edge1\" class=\"edge\">\n",
       "<title>0&#45;&gt;1</title>\n",
       "<path fill=\"none\" stroke=\"black\" d=\"M1838.94,-526.4C1726.37,-507.76 1505.4,-471.17 1381.89,-450.72\"/>\n",
       "<polygon fill=\"black\" stroke=\"black\" points=\"1382.15,-447.21 1371.71,-449.03 1381.01,-454.12 1382.15,-447.21\"/>\n",
       "<text text-anchor=\"middle\" x=\"1386.26\" y=\"-465.66\" font-family=\"Helvetica,sans-Serif\" font-size=\"14.00\">True</text>\n",
       "</g>\n",
       "<!-- 30 -->\n",
       "<g id=\"node31\" class=\"node\">\n",
       "<title>30</title>\n",
       "<path fill=\"#ea9a61\" stroke=\"black\" d=\"M2276,-469C2276,-469 2128,-469 2128,-469 2122,-469 2116,-463 2116,-457 2116,-457 2116,-413 2116,-413 2116,-407 2122,-401 2128,-401 2128,-401 2276,-401 2276,-401 2282,-401 2288,-407 2288,-413 2288,-413 2288,-457 2288,-457 2288,-463 2282,-469 2276,-469\"/>\n",
       "<text text-anchor=\"start\" x=\"2124\" y=\"-453.8\" font-family=\"Helvetica,sans-Serif\" font-size=\"14.00\">MonthlyCharges ≤ 69.975</text>\n",
       "<text text-anchor=\"start\" x=\"2166.5\" y=\"-438.8\" font-family=\"Helvetica,sans-Serif\" font-size=\"14.00\">gini = 0.279</text>\n",
       "<text text-anchor=\"start\" x=\"2153.5\" y=\"-423.8\" font-family=\"Helvetica,sans-Serif\" font-size=\"14.00\">samples = 3401</text>\n",
       "<text text-anchor=\"start\" x=\"2144\" y=\"-408.8\" font-family=\"Helvetica,sans-Serif\" font-size=\"14.00\">value = [2831, 570]</text>\n",
       "</g>\n",
       "<!-- 0&#45;&gt;30 -->\n",
       "<g id=\"edge30\" class=\"edge\">\n",
       "<title>0&#45;&gt;30</title>\n",
       "<path fill=\"none\" stroke=\"black\" d=\"M1979.18,-513.57C2017.27,-500.31 2064.91,-483.73 2106.35,-469.3\"/>\n",
       "<polygon fill=\"black\" stroke=\"black\" points=\"2107.62,-472.56 2115.91,-465.97 2105.32,-465.95 2107.62,-472.56\"/>\n",
       "<text text-anchor=\"middle\" x=\"2105.03\" y=\"-484.78\" font-family=\"Helvetica,sans-Serif\" font-size=\"14.00\">False</text>\n",
       "</g>\n",
       "<!-- 2 -->\n",
       "<g id=\"node3\" class=\"node\">\n",
       "<title>2</title>\n",
       "<path fill=\"#f1ba92\" stroke=\"black\" d=\"M795.5,-365C795.5,-365 694.5,-365 694.5,-365 688.5,-365 682.5,-359 682.5,-353 682.5,-353 682.5,-309 682.5,-309 682.5,-303 688.5,-297 694.5,-297 694.5,-297 795.5,-297 795.5,-297 801.5,-297 807.5,-303 807.5,-309 807.5,-309 807.5,-353 807.5,-353 807.5,-359 801.5,-365 795.5,-365\"/>\n",
       "<text text-anchor=\"start\" x=\"708.5\" y=\"-349.8\" font-family=\"Helvetica,sans-Serif\" font-size=\"14.00\">tenure ≤ 3.5</text>\n",
       "<text text-anchor=\"start\" x=\"709.5\" y=\"-334.8\" font-family=\"Helvetica,sans-Serif\" font-size=\"14.00\">gini = 0.428</text>\n",
       "<text text-anchor=\"start\" x=\"700\" y=\"-319.8\" font-family=\"Helvetica,sans-Serif\" font-size=\"14.00\">samples = 845</text>\n",
       "<text text-anchor=\"start\" x=\"690.5\" y=\"-304.8\" font-family=\"Helvetica,sans-Serif\" font-size=\"14.00\">value = [583, 262]</text>\n",
       "</g>\n",
       "<!-- 1&#45;&gt;2 -->\n",
       "<g id=\"edge2\" class=\"edge\">\n",
       "<title>1&#45;&gt;2</title>\n",
       "<path fill=\"none\" stroke=\"black\" d=\"M1214.48,-419.39C1108.37,-399.63 920.63,-364.69 817.63,-345.52\"/>\n",
       "<polygon fill=\"black\" stroke=\"black\" points=\"818.1,-342.05 807.63,-343.66 816.82,-348.93 818.1,-342.05\"/>\n",
       "</g>\n",
       "<!-- 17 -->\n",
       "<g id=\"node18\" class=\"node\">\n",
       "<title>17</title>\n",
       "<path fill=\"#98ccf1\" stroke=\"black\" d=\"M1343.5,-365C1343.5,-365 1242.5,-365 1242.5,-365 1236.5,-365 1230.5,-359 1230.5,-353 1230.5,-353 1230.5,-309 1230.5,-309 1230.5,-303 1236.5,-297 1242.5,-297 1242.5,-297 1343.5,-297 1343.5,-297 1349.5,-297 1355.5,-303 1355.5,-309 1355.5,-309 1355.5,-353 1355.5,-353 1355.5,-359 1349.5,-365 1343.5,-365\"/>\n",
       "<text text-anchor=\"start\" x=\"1256.5\" y=\"-349.8\" font-family=\"Helvetica,sans-Serif\" font-size=\"14.00\">tenure ≤ 1.5</text>\n",
       "<text text-anchor=\"start\" x=\"1257.5\" y=\"-334.8\" font-family=\"Helvetica,sans-Serif\" font-size=\"14.00\">gini = 0.437</text>\n",
       "<text text-anchor=\"start\" x=\"1248\" y=\"-319.8\" font-family=\"Helvetica,sans-Serif\" font-size=\"14.00\">samples = 684</text>\n",
       "<text text-anchor=\"start\" x=\"1238.5\" y=\"-304.8\" font-family=\"Helvetica,sans-Serif\" font-size=\"14.00\">value = [221, 463]</text>\n",
       "</g>\n",
       "<!-- 1&#45;&gt;17 -->\n",
       "<g id=\"edge17\" class=\"edge\">\n",
       "<title>1&#45;&gt;17</title>\n",
       "<path fill=\"none\" stroke=\"black\" d=\"M1293,-400.88C1293,-392.78 1293,-383.98 1293,-375.47\"/>\n",
       "<polygon fill=\"black\" stroke=\"black\" points=\"1296.5,-375.3 1293,-365.3 1289.5,-375.3 1296.5,-375.3\"/>\n",
       "</g>\n",
       "<!-- 3 -->\n",
       "<g id=\"node4\" class=\"node\">\n",
       "<title>3</title>\n",
       "<path fill=\"#f8decc\" stroke=\"black\" d=\"M453,-261C453,-261 305,-261 305,-261 299,-261 293,-255 293,-249 293,-249 293,-205 293,-205 293,-199 299,-193 305,-193 305,-193 453,-193 453,-193 459,-193 465,-199 465,-205 465,-205 465,-249 465,-249 465,-255 459,-261 453,-261\"/>\n",
       "<text text-anchor=\"start\" x=\"301\" y=\"-245.8\" font-family=\"Helvetica,sans-Serif\" font-size=\"14.00\">MonthlyCharges ≤ 20.875</text>\n",
       "<text text-anchor=\"start\" x=\"343.5\" y=\"-230.8\" font-family=\"Helvetica,sans-Serif\" font-size=\"14.00\">gini = 0.489</text>\n",
       "<text text-anchor=\"start\" x=\"334\" y=\"-215.8\" font-family=\"Helvetica,sans-Serif\" font-size=\"14.00\">samples = 416</text>\n",
       "<text text-anchor=\"start\" x=\"324.5\" y=\"-200.8\" font-family=\"Helvetica,sans-Serif\" font-size=\"14.00\">value = [239, 177]</text>\n",
       "</g>\n",
       "<!-- 2&#45;&gt;3 -->\n",
       "<g id=\"edge3\" class=\"edge\">\n",
       "<title>2&#45;&gt;3</title>\n",
       "<path fill=\"none\" stroke=\"black\" d=\"M682.5,-312.58C625.6,-296.72 540.72,-273.07 475.18,-254.8\"/>\n",
       "<polygon fill=\"black\" stroke=\"black\" points=\"475.82,-251.35 465.25,-252.04 473.94,-258.09 475.82,-251.35\"/>\n",
       "</g>\n",
       "<!-- 10 -->\n",
       "<g id=\"node11\" class=\"node\">\n",
       "<title>10</title>\n",
       "<path fill=\"#eba06a\" stroke=\"black\" d=\"M811.5,-261C811.5,-261 678.5,-261 678.5,-261 672.5,-261 666.5,-255 666.5,-249 666.5,-249 666.5,-205 666.5,-205 666.5,-199 672.5,-193 678.5,-193 678.5,-193 811.5,-193 811.5,-193 817.5,-193 823.5,-199 823.5,-205 823.5,-205 823.5,-249 823.5,-249 823.5,-255 817.5,-261 811.5,-261\"/>\n",
       "<text text-anchor=\"start\" x=\"674.5\" y=\"-245.8\" font-family=\"Helvetica,sans-Serif\" font-size=\"14.00\">MonthlyCharges ≤ 20.9</text>\n",
       "<text text-anchor=\"start\" x=\"709.5\" y=\"-230.8\" font-family=\"Helvetica,sans-Serif\" font-size=\"14.00\">gini = 0.318</text>\n",
       "<text text-anchor=\"start\" x=\"700\" y=\"-215.8\" font-family=\"Helvetica,sans-Serif\" font-size=\"14.00\">samples = 429</text>\n",
       "<text text-anchor=\"start\" x=\"694.5\" y=\"-200.8\" font-family=\"Helvetica,sans-Serif\" font-size=\"14.00\">value = [344, 85]</text>\n",
       "</g>\n",
       "<!-- 2&#45;&gt;10 -->\n",
       "<g id=\"edge10\" class=\"edge\">\n",
       "<title>2&#45;&gt;10</title>\n",
       "<path fill=\"none\" stroke=\"black\" d=\"M745,-296.88C745,-288.78 745,-279.98 745,-271.47\"/>\n",
       "<polygon fill=\"black\" stroke=\"black\" points=\"748.5,-271.3 745,-261.3 741.5,-271.3 748.5,-271.3\"/>\n",
       "</g>\n",
       "<!-- 4 -->\n",
       "<g id=\"node5\" class=\"node\">\n",
       "<title>4</title>\n",
       "<path fill=\"#efb083\" stroke=\"black\" d=\"M225,-157C225,-157 133,-157 133,-157 127,-157 121,-151 121,-145 121,-145 121,-101 121,-101 121,-95 127,-89 133,-89 133,-89 225,-89 225,-89 231,-89 237,-95 237,-101 237,-101 237,-145 237,-145 237,-151 231,-157 225,-157\"/>\n",
       "<text text-anchor=\"start\" x=\"142.5\" y=\"-141.8\" font-family=\"Helvetica,sans-Serif\" font-size=\"14.00\">tenure ≤ 1.5</text>\n",
       "<text text-anchor=\"start\" x=\"143.5\" y=\"-126.8\" font-family=\"Helvetica,sans-Serif\" font-size=\"14.00\">gini = 0.396</text>\n",
       "<text text-anchor=\"start\" x=\"134\" y=\"-111.8\" font-family=\"Helvetica,sans-Serif\" font-size=\"14.00\">samples = 158</text>\n",
       "<text text-anchor=\"start\" x=\"129\" y=\"-96.8\" font-family=\"Helvetica,sans-Serif\" font-size=\"14.00\">value = [115, 43]</text>\n",
       "</g>\n",
       "<!-- 3&#45;&gt;4 -->\n",
       "<g id=\"edge4\" class=\"edge\">\n",
       "<title>3&#45;&gt;4</title>\n",
       "<path fill=\"none\" stroke=\"black\" d=\"M314.07,-192.88C292.31,-181.79 268.02,-169.4 246.11,-158.22\"/>\n",
       "<polygon fill=\"black\" stroke=\"black\" points=\"247.69,-155.11 237.2,-153.68 244.51,-161.34 247.69,-155.11\"/>\n",
       "</g>\n",
       "<!-- 7 -->\n",
       "<g id=\"node8\" class=\"node\">\n",
       "<title>7</title>\n",
       "<path fill=\"#f0f8fd\" stroke=\"black\" d=\"M440,-157C440,-157 318,-157 318,-157 312,-157 306,-151 306,-145 306,-145 306,-101 306,-101 306,-95 312,-89 318,-89 318,-89 440,-89 440,-89 446,-89 452,-95 452,-101 452,-101 452,-145 452,-145 452,-151 446,-157 440,-157\"/>\n",
       "<text text-anchor=\"start\" x=\"314\" y=\"-141.8\" font-family=\"Helvetica,sans-Serif\" font-size=\"14.00\">PaperlessBilling ≤ 0.5</text>\n",
       "<text text-anchor=\"start\" x=\"343.5\" y=\"-126.8\" font-family=\"Helvetica,sans-Serif\" font-size=\"14.00\">gini = 0.499</text>\n",
       "<text text-anchor=\"start\" x=\"334\" y=\"-111.8\" font-family=\"Helvetica,sans-Serif\" font-size=\"14.00\">samples = 258</text>\n",
       "<text text-anchor=\"start\" x=\"324.5\" y=\"-96.8\" font-family=\"Helvetica,sans-Serif\" font-size=\"14.00\">value = [124, 134]</text>\n",
       "</g>\n",
       "<!-- 3&#45;&gt;7 -->\n",
       "<g id=\"edge7\" class=\"edge\">\n",
       "<title>3&#45;&gt;7</title>\n",
       "<path fill=\"none\" stroke=\"black\" d=\"M379,-192.88C379,-184.78 379,-175.98 379,-167.47\"/>\n",
       "<polygon fill=\"black\" stroke=\"black\" points=\"382.5,-167.3 379,-157.3 375.5,-167.3 382.5,-167.3\"/>\n",
       "</g>\n",
       "<!-- 5 -->\n",
       "<g id=\"node6\" class=\"node\">\n",
       "<title>5</title>\n",
       "<path fill=\"#f2c29f\" stroke=\"black\" d=\"M98,-53C98,-53 12,-53 12,-53 6,-53 0,-47 0,-41 0,-41 0,-12 0,-12 0,-6 6,0 12,0 12,0 98,0 98,0 104,0 110,-6 110,-12 110,-12 110,-41 110,-41 110,-47 104,-53 98,-53\"/>\n",
       "<text text-anchor=\"start\" x=\"19.5\" y=\"-37.8\" font-family=\"Helvetica,sans-Serif\" font-size=\"14.00\">gini = 0.449</text>\n",
       "<text text-anchor=\"start\" x=\"10\" y=\"-22.8\" font-family=\"Helvetica,sans-Serif\" font-size=\"14.00\">samples = 106</text>\n",
       "<text text-anchor=\"start\" x=\"8\" y=\"-7.8\" font-family=\"Helvetica,sans-Serif\" font-size=\"14.00\">value = [70, 36]</text>\n",
       "</g>\n",
       "<!-- 4&#45;&gt;5 -->\n",
       "<g id=\"edge5\" class=\"edge\">\n",
       "<title>4&#45;&gt;5</title>\n",
       "<path fill=\"none\" stroke=\"black\" d=\"M135.63,-88.95C123.03,-79.34 109.29,-68.87 96.79,-59.34\"/>\n",
       "<polygon fill=\"black\" stroke=\"black\" points=\"98.85,-56.51 88.77,-53.24 94.6,-62.08 98.85,-56.51\"/>\n",
       "</g>\n",
       "<!-- 6 -->\n",
       "<g id=\"node7\" class=\"node\">\n",
       "<title>6</title>\n",
       "<path fill=\"#e99558\" stroke=\"black\" d=\"M218,-53C218,-53 140,-53 140,-53 134,-53 128,-47 128,-41 128,-41 128,-12 128,-12 128,-6 134,0 140,0 140,0 218,0 218,0 224,0 230,-6 230,-12 230,-12 230,-41 230,-41 230,-47 224,-53 218,-53\"/>\n",
       "<text text-anchor=\"start\" x=\"143.5\" y=\"-37.8\" font-family=\"Helvetica,sans-Serif\" font-size=\"14.00\">gini = 0.233</text>\n",
       "<text text-anchor=\"start\" x=\"138\" y=\"-22.8\" font-family=\"Helvetica,sans-Serif\" font-size=\"14.00\">samples = 52</text>\n",
       "<text text-anchor=\"start\" x=\"136\" y=\"-7.8\" font-family=\"Helvetica,sans-Serif\" font-size=\"14.00\">value = [45, 7]</text>\n",
       "</g>\n",
       "<!-- 4&#45;&gt;6 -->\n",
       "<g id=\"edge6\" class=\"edge\">\n",
       "<title>4&#45;&gt;6</title>\n",
       "<path fill=\"none\" stroke=\"black\" d=\"M179,-88.95C179,-80.72 179,-71.85 179,-63.48\"/>\n",
       "<polygon fill=\"black\" stroke=\"black\" points=\"182.5,-63.24 179,-53.24 175.5,-63.24 182.5,-63.24\"/>\n",
       "</g>\n",
       "<!-- 8 -->\n",
       "<g id=\"node9\" class=\"node\">\n",
       "<title>8</title>\n",
       "<path fill=\"#f9e0cf\" stroke=\"black\" d=\"M346,-53C346,-53 260,-53 260,-53 254,-53 248,-47 248,-41 248,-41 248,-12 248,-12 248,-6 254,0 260,0 260,0 346,0 346,0 352,0 358,-6 358,-12 358,-12 358,-41 358,-41 358,-47 352,-53 346,-53\"/>\n",
       "<text text-anchor=\"start\" x=\"271\" y=\"-37.8\" font-family=\"Helvetica,sans-Serif\" font-size=\"14.00\">gini = 0.49</text>\n",
       "<text text-anchor=\"start\" x=\"258\" y=\"-22.8\" font-family=\"Helvetica,sans-Serif\" font-size=\"14.00\">samples = 123</text>\n",
       "<text text-anchor=\"start\" x=\"256\" y=\"-7.8\" font-family=\"Helvetica,sans-Serif\" font-size=\"14.00\">value = [70, 53]</text>\n",
       "</g>\n",
       "<!-- 7&#45;&gt;8 -->\n",
       "<g id=\"edge8\" class=\"edge\">\n",
       "<title>7&#45;&gt;8</title>\n",
       "<path fill=\"none\" stroke=\"black\" d=\"M352.42,-88.95C345.21,-79.98 337.39,-70.27 330.15,-61.26\"/>\n",
       "<polygon fill=\"black\" stroke=\"black\" points=\"332.69,-58.84 323.7,-53.24 327.24,-63.22 332.69,-58.84\"/>\n",
       "</g>\n",
       "<!-- 9 -->\n",
       "<g id=\"node10\" class=\"node\">\n",
       "<title>9</title>\n",
       "<path fill=\"#bddef6\" stroke=\"black\" d=\"M474,-53C474,-53 388,-53 388,-53 382,-53 376,-47 376,-41 376,-41 376,-12 376,-12 376,-6 382,0 388,0 388,0 474,0 474,0 480,0 486,-6 486,-12 486,-12 486,-41 486,-41 486,-47 480,-53 474,-53\"/>\n",
       "<text text-anchor=\"start\" x=\"399\" y=\"-37.8\" font-family=\"Helvetica,sans-Serif\" font-size=\"14.00\">gini = 0.48</text>\n",
       "<text text-anchor=\"start\" x=\"386\" y=\"-22.8\" font-family=\"Helvetica,sans-Serif\" font-size=\"14.00\">samples = 135</text>\n",
       "<text text-anchor=\"start\" x=\"384\" y=\"-7.8\" font-family=\"Helvetica,sans-Serif\" font-size=\"14.00\">value = [54, 81]</text>\n",
       "</g>\n",
       "<!-- 7&#45;&gt;9 -->\n",
       "<g id=\"edge9\" class=\"edge\">\n",
       "<title>7&#45;&gt;9</title>\n",
       "<path fill=\"none\" stroke=\"black\" d=\"M397.19,-88.95C401.97,-80.26 407.14,-70.86 411.97,-62.09\"/>\n",
       "<polygon fill=\"black\" stroke=\"black\" points=\"415.08,-63.69 416.84,-53.24 408.95,-60.31 415.08,-63.69\"/>\n",
       "</g>\n",
       "<!-- 11 -->\n",
       "<g id=\"node12\" class=\"node\">\n",
       "<title>11</title>\n",
       "<path fill=\"#e78c49\" stroke=\"black\" d=\"M724,-157C724,-157 576,-157 576,-157 570,-157 564,-151 564,-145 564,-145 564,-101 564,-101 564,-95 570,-89 576,-89 576,-89 724,-89 724,-89 730,-89 736,-95 736,-101 736,-101 736,-145 736,-145 736,-151 730,-157 724,-157\"/>\n",
       "<text text-anchor=\"start\" x=\"572\" y=\"-141.8\" font-family=\"Helvetica,sans-Serif\" font-size=\"14.00\">MonthlyCharges ≤ 19.275</text>\n",
       "<text text-anchor=\"start\" x=\"614.5\" y=\"-126.8\" font-family=\"Helvetica,sans-Serif\" font-size=\"14.00\">gini = 0.142</text>\n",
       "<text text-anchor=\"start\" x=\"605\" y=\"-111.8\" font-family=\"Helvetica,sans-Serif\" font-size=\"14.00\">samples = 156</text>\n",
       "<text text-anchor=\"start\" x=\"599.5\" y=\"-96.8\" font-family=\"Helvetica,sans-Serif\" font-size=\"14.00\">value = [144, 12]</text>\n",
       "</g>\n",
       "<!-- 10&#45;&gt;11 -->\n",
       "<g id=\"edge11\" class=\"edge\">\n",
       "<title>10&#45;&gt;11</title>\n",
       "<path fill=\"none\" stroke=\"black\" d=\"M714.16,-192.88C705.78,-183.89 696.61,-174.04 687.89,-164.68\"/>\n",
       "<polygon fill=\"black\" stroke=\"black\" points=\"690.39,-162.23 681.01,-157.3 685.27,-167 690.39,-162.23\"/>\n",
       "</g>\n",
       "<!-- 14 -->\n",
       "<g id=\"node15\" class=\"node\">\n",
       "<title>14</title>\n",
       "<path fill=\"#eeaf81\" stroke=\"black\" d=\"M914,-157C914,-157 766,-157 766,-157 760,-157 754,-151 754,-145 754,-145 754,-101 754,-101 754,-95 760,-89 766,-89 766,-89 914,-89 914,-89 920,-89 926,-95 926,-101 926,-101 926,-145 926,-145 926,-151 920,-157 914,-157\"/>\n",
       "<text text-anchor=\"start\" x=\"762\" y=\"-141.8\" font-family=\"Helvetica,sans-Serif\" font-size=\"14.00\">MonthlyCharges ≤ 51.125</text>\n",
       "<text text-anchor=\"start\" x=\"804.5\" y=\"-126.8\" font-family=\"Helvetica,sans-Serif\" font-size=\"14.00\">gini = 0.392</text>\n",
       "<text text-anchor=\"start\" x=\"795\" y=\"-111.8\" font-family=\"Helvetica,sans-Serif\" font-size=\"14.00\">samples = 273</text>\n",
       "<text text-anchor=\"start\" x=\"789.5\" y=\"-96.8\" font-family=\"Helvetica,sans-Serif\" font-size=\"14.00\">value = [200, 73]</text>\n",
       "</g>\n",
       "<!-- 10&#45;&gt;14 -->\n",
       "<g id=\"edge14\" class=\"edge\">\n",
       "<title>10&#45;&gt;14</title>\n",
       "<path fill=\"none\" stroke=\"black\" d=\"M775.84,-192.88C784.22,-183.89 793.39,-174.04 802.11,-164.68\"/>\n",
       "<polygon fill=\"black\" stroke=\"black\" points=\"804.73,-167 808.99,-157.3 799.61,-162.23 804.73,-167\"/>\n",
       "</g>\n",
       "<!-- 12 -->\n",
       "<g id=\"node13\" class=\"node\">\n",
       "<title>12</title>\n",
       "<path fill=\"#eeaf81\" stroke=\"black\" d=\"M593.5,-53C593.5,-53 516.5,-53 516.5,-53 510.5,-53 504.5,-47 504.5,-41 504.5,-41 504.5,-12 504.5,-12 504.5,-6 510.5,0 516.5,0 516.5,0 593.5,0 593.5,0 599.5,0 605.5,-6 605.5,-12 605.5,-12 605.5,-41 605.5,-41 605.5,-47 599.5,-53 593.5,-53\"/>\n",
       "<text text-anchor=\"start\" x=\"519.5\" y=\"-37.8\" font-family=\"Helvetica,sans-Serif\" font-size=\"14.00\">gini = 0.391</text>\n",
       "<text text-anchor=\"start\" x=\"514\" y=\"-22.8\" font-family=\"Helvetica,sans-Serif\" font-size=\"14.00\">samples = 15</text>\n",
       "<text text-anchor=\"start\" x=\"512.5\" y=\"-7.8\" font-family=\"Helvetica,sans-Serif\" font-size=\"14.00\">value = [11, 4]</text>\n",
       "</g>\n",
       "<!-- 11&#45;&gt;12 -->\n",
       "<g id=\"edge12\" class=\"edge\">\n",
       "<title>11&#45;&gt;12</title>\n",
       "<path fill=\"none\" stroke=\"black\" d=\"M616.77,-88.95C607.49,-79.71 597.39,-69.67 588.11,-60.44\"/>\n",
       "<polygon fill=\"black\" stroke=\"black\" points=\"590.43,-57.81 580.87,-53.24 585.49,-62.77 590.43,-57.81\"/>\n",
       "</g>\n",
       "<!-- 13 -->\n",
       "<g id=\"node14\" class=\"node\">\n",
       "<title>13</title>\n",
       "<path fill=\"#e78945\" stroke=\"black\" d=\"M722,-53C722,-53 636,-53 636,-53 630,-53 624,-47 624,-41 624,-41 624,-12 624,-12 624,-6 630,0 636,0 636,0 722,0 722,0 728,0 734,-6 734,-12 734,-12 734,-41 734,-41 734,-47 728,-53 722,-53\"/>\n",
       "<text text-anchor=\"start\" x=\"643.5\" y=\"-37.8\" font-family=\"Helvetica,sans-Serif\" font-size=\"14.00\">gini = 0.107</text>\n",
       "<text text-anchor=\"start\" x=\"634\" y=\"-22.8\" font-family=\"Helvetica,sans-Serif\" font-size=\"14.00\">samples = 141</text>\n",
       "<text text-anchor=\"start\" x=\"632\" y=\"-7.8\" font-family=\"Helvetica,sans-Serif\" font-size=\"14.00\">value = [133, 8]</text>\n",
       "</g>\n",
       "<!-- 11&#45;&gt;13 -->\n",
       "<g id=\"edge13\" class=\"edge\">\n",
       "<title>11&#45;&gt;13</title>\n",
       "<path fill=\"none\" stroke=\"black\" d=\"M660.14,-88.95C662.73,-80.53 665.51,-71.45 668.13,-62.92\"/>\n",
       "<polygon fill=\"black\" stroke=\"black\" points=\"671.51,-63.82 671.1,-53.24 664.82,-61.77 671.51,-63.82\"/>\n",
       "</g>\n",
       "<!-- 15 -->\n",
       "<g id=\"node16\" class=\"node\">\n",
       "<title>15</title>\n",
       "<path fill=\"#f2c29f\" stroke=\"black\" d=\"M857.5,-53C857.5,-53 764.5,-53 764.5,-53 758.5,-53 752.5,-47 752.5,-41 752.5,-41 752.5,-12 752.5,-12 752.5,-6 758.5,0 764.5,0 764.5,0 857.5,0 857.5,0 863.5,0 869.5,-6 869.5,-12 869.5,-12 869.5,-41 869.5,-41 869.5,-47 863.5,-53 857.5,-53\"/>\n",
       "<text text-anchor=\"start\" x=\"775.5\" y=\"-37.8\" font-family=\"Helvetica,sans-Serif\" font-size=\"14.00\">gini = 0.449</text>\n",
       "<text text-anchor=\"start\" x=\"766\" y=\"-22.8\" font-family=\"Helvetica,sans-Serif\" font-size=\"14.00\">samples = 182</text>\n",
       "<text text-anchor=\"start\" x=\"760.5\" y=\"-7.8\" font-family=\"Helvetica,sans-Serif\" font-size=\"14.00\">value = [120, 62]</text>\n",
       "</g>\n",
       "<!-- 14&#45;&gt;15 -->\n",
       "<g id=\"edge15\" class=\"edge\">\n",
       "<title>14&#45;&gt;15</title>\n",
       "<path fill=\"none\" stroke=\"black\" d=\"M829.86,-88.95C827.27,-80.53 824.49,-71.45 821.87,-62.92\"/>\n",
       "<polygon fill=\"black\" stroke=\"black\" points=\"825.18,-61.77 818.9,-53.24 818.49,-63.82 825.18,-61.77\"/>\n",
       "</g>\n",
       "<!-- 16 -->\n",
       "<g id=\"node17\" class=\"node\">\n",
       "<title>16</title>\n",
       "<path fill=\"#e99254\" stroke=\"black\" d=\"M984.5,-53C984.5,-53 899.5,-53 899.5,-53 893.5,-53 887.5,-47 887.5,-41 887.5,-41 887.5,-12 887.5,-12 887.5,-6 893.5,0 899.5,0 899.5,0 984.5,0 984.5,0 990.5,0 996.5,-6 996.5,-12 996.5,-12 996.5,-41 996.5,-41 996.5,-47 990.5,-53 984.5,-53\"/>\n",
       "<text text-anchor=\"start\" x=\"906.5\" y=\"-37.8\" font-family=\"Helvetica,sans-Serif\" font-size=\"14.00\">gini = 0.213</text>\n",
       "<text text-anchor=\"start\" x=\"901\" y=\"-22.8\" font-family=\"Helvetica,sans-Serif\" font-size=\"14.00\">samples = 91</text>\n",
       "<text text-anchor=\"start\" x=\"895.5\" y=\"-7.8\" font-family=\"Helvetica,sans-Serif\" font-size=\"14.00\">value = [80, 11]</text>\n",
       "</g>\n",
       "<!-- 14&#45;&gt;16 -->\n",
       "<g id=\"edge16\" class=\"edge\">\n",
       "<title>14&#45;&gt;16</title>\n",
       "<path fill=\"none\" stroke=\"black\" d=\"M875.67,-88.95C885.75,-79.62 896.7,-69.47 906.74,-60.16\"/>\n",
       "<polygon fill=\"black\" stroke=\"black\" points=\"909.26,-62.6 914.22,-53.24 904.51,-57.47 909.26,-62.6\"/>\n",
       "</g>\n",
       "<!-- 18 -->\n",
       "<g id=\"node19\" class=\"node\">\n",
       "<title>18</title>\n",
       "<path fill=\"#5fb0ea\" stroke=\"black\" d=\"M1268,-261C1268,-261 1120,-261 1120,-261 1114,-261 1108,-255 1108,-249 1108,-249 1108,-205 1108,-205 1108,-199 1114,-193 1120,-193 1120,-193 1268,-193 1268,-193 1274,-193 1280,-199 1280,-205 1280,-205 1280,-249 1280,-249 1280,-255 1274,-261 1268,-261\"/>\n",
       "<text text-anchor=\"start\" x=\"1116\" y=\"-245.8\" font-family=\"Helvetica,sans-Serif\" font-size=\"14.00\">MonthlyCharges ≤ 69.875</text>\n",
       "<text text-anchor=\"start\" x=\"1158.5\" y=\"-230.8\" font-family=\"Helvetica,sans-Serif\" font-size=\"14.00\">gini = 0.268</text>\n",
       "<text text-anchor=\"start\" x=\"1149\" y=\"-215.8\" font-family=\"Helvetica,sans-Serif\" font-size=\"14.00\">samples = 163</text>\n",
       "<text text-anchor=\"start\" x=\"1143.5\" y=\"-200.8\" font-family=\"Helvetica,sans-Serif\" font-size=\"14.00\">value = [26, 137]</text>\n",
       "</g>\n",
       "<!-- 17&#45;&gt;18 -->\n",
       "<g id=\"edge18\" class=\"edge\">\n",
       "<title>17&#45;&gt;18</title>\n",
       "<path fill=\"none\" stroke=\"black\" d=\"M1260.86,-296.88C1252.13,-287.89 1242.57,-278.04 1233.48,-268.68\"/>\n",
       "<polygon fill=\"black\" stroke=\"black\" points=\"1235.8,-266.04 1226.32,-261.3 1230.77,-270.91 1235.8,-266.04\"/>\n",
       "</g>\n",
       "<!-- 23 -->\n",
       "<g id=\"node24\" class=\"node\">\n",
       "<title>23</title>\n",
       "<path fill=\"#afd8f5\" stroke=\"black\" d=\"M1462,-261C1462,-261 1322,-261 1322,-261 1316,-261 1310,-255 1310,-249 1310,-249 1310,-205 1310,-205 1310,-199 1316,-193 1322,-193 1322,-193 1462,-193 1462,-193 1468,-193 1474,-199 1474,-205 1474,-205 1474,-249 1474,-249 1474,-255 1468,-261 1462,-261\"/>\n",
       "<text text-anchor=\"start\" x=\"1318\" y=\"-245.8\" font-family=\"Helvetica,sans-Serif\" font-size=\"14.00\">MonthlyCharges ≤ 93.25</text>\n",
       "<text text-anchor=\"start\" x=\"1356.5\" y=\"-230.8\" font-family=\"Helvetica,sans-Serif\" font-size=\"14.00\">gini = 0.468</text>\n",
       "<text text-anchor=\"start\" x=\"1347\" y=\"-215.8\" font-family=\"Helvetica,sans-Serif\" font-size=\"14.00\">samples = 521</text>\n",
       "<text text-anchor=\"start\" x=\"1337.5\" y=\"-200.8\" font-family=\"Helvetica,sans-Serif\" font-size=\"14.00\">value = [195, 326]</text>\n",
       "</g>\n",
       "<!-- 17&#45;&gt;23 -->\n",
       "<g id=\"edge23\" class=\"edge\">\n",
       "<title>17&#45;&gt;23</title>\n",
       "<path fill=\"none\" stroke=\"black\" d=\"M1325.14,-296.88C1333.87,-287.89 1343.43,-278.04 1352.52,-268.68\"/>\n",
       "<polygon fill=\"black\" stroke=\"black\" points=\"1355.23,-270.91 1359.68,-261.3 1350.2,-266.04 1355.23,-270.91\"/>\n",
       "</g>\n",
       "<!-- 19 -->\n",
       "<g id=\"node20\" class=\"node\">\n",
       "<title>19</title>\n",
       "<path fill=\"#399de5\" stroke=\"black\" d=\"M1078,-149.5C1078,-149.5 1000,-149.5 1000,-149.5 994,-149.5 988,-143.5 988,-137.5 988,-137.5 988,-108.5 988,-108.5 988,-102.5 994,-96.5 1000,-96.5 1000,-96.5 1078,-96.5 1078,-96.5 1084,-96.5 1090,-102.5 1090,-108.5 1090,-108.5 1090,-137.5 1090,-137.5 1090,-143.5 1084,-149.5 1078,-149.5\"/>\n",
       "<text text-anchor=\"start\" x=\"1011\" y=\"-134.3\" font-family=\"Helvetica,sans-Serif\" font-size=\"14.00\">gini = 0.0</text>\n",
       "<text text-anchor=\"start\" x=\"998\" y=\"-119.3\" font-family=\"Helvetica,sans-Serif\" font-size=\"14.00\">samples = 25</text>\n",
       "<text text-anchor=\"start\" x=\"996\" y=\"-104.3\" font-family=\"Helvetica,sans-Serif\" font-size=\"14.00\">value = [0, 25]</text>\n",
       "</g>\n",
       "<!-- 18&#45;&gt;19 -->\n",
       "<g id=\"edge19\" class=\"edge\">\n",
       "<title>18&#45;&gt;19</title>\n",
       "<path fill=\"none\" stroke=\"black\" d=\"M1143.68,-192.88C1125.29,-180.79 1104.57,-167.15 1086.45,-155.22\"/>\n",
       "<polygon fill=\"black\" stroke=\"black\" points=\"1088.06,-152.09 1077.78,-149.52 1084.21,-157.94 1088.06,-152.09\"/>\n",
       "</g>\n",
       "<!-- 20 -->\n",
       "<g id=\"node21\" class=\"node\">\n",
       "<title>20</title>\n",
       "<path fill=\"#67b4eb\" stroke=\"black\" d=\"M1268,-157C1268,-157 1120,-157 1120,-157 1114,-157 1108,-151 1108,-145 1108,-145 1108,-101 1108,-101 1108,-95 1114,-89 1120,-89 1120,-89 1268,-89 1268,-89 1274,-89 1280,-95 1280,-101 1280,-101 1280,-145 1280,-145 1280,-151 1274,-157 1268,-157\"/>\n",
       "<text text-anchor=\"start\" x=\"1116\" y=\"-141.8\" font-family=\"Helvetica,sans-Serif\" font-size=\"14.00\">MonthlyCharges ≤ 75.625</text>\n",
       "<text text-anchor=\"start\" x=\"1158.5\" y=\"-126.8\" font-family=\"Helvetica,sans-Serif\" font-size=\"14.00\">gini = 0.306</text>\n",
       "<text text-anchor=\"start\" x=\"1149\" y=\"-111.8\" font-family=\"Helvetica,sans-Serif\" font-size=\"14.00\">samples = 138</text>\n",
       "<text text-anchor=\"start\" x=\"1144\" y=\"-96.8\" font-family=\"Helvetica,sans-Serif\" font-size=\"14.00\">value = [26, 112]</text>\n",
       "</g>\n",
       "<!-- 18&#45;&gt;20 -->\n",
       "<g id=\"edge20\" class=\"edge\">\n",
       "<title>18&#45;&gt;20</title>\n",
       "<path fill=\"none\" stroke=\"black\" d=\"M1194,-192.88C1194,-184.78 1194,-175.98 1194,-167.47\"/>\n",
       "<polygon fill=\"black\" stroke=\"black\" points=\"1197.5,-167.3 1194,-157.3 1190.5,-167.3 1197.5,-167.3\"/>\n",
       "</g>\n",
       "<!-- 21 -->\n",
       "<g id=\"node22\" class=\"node\">\n",
       "<title>21</title>\n",
       "<path fill=\"#8bc5f0\" stroke=\"black\" d=\"M1113,-53C1113,-53 1027,-53 1027,-53 1021,-53 1015,-47 1015,-41 1015,-41 1015,-12 1015,-12 1015,-6 1021,0 1027,0 1027,0 1113,0 1113,0 1119,0 1125,-6 1125,-12 1125,-12 1125,-41 1125,-41 1125,-47 1119,-53 1113,-53\"/>\n",
       "<text text-anchor=\"start\" x=\"1034.5\" y=\"-37.8\" font-family=\"Helvetica,sans-Serif\" font-size=\"14.00\">gini = 0.414</text>\n",
       "<text text-anchor=\"start\" x=\"1029\" y=\"-22.8\" font-family=\"Helvetica,sans-Serif\" font-size=\"14.00\">samples = 65</text>\n",
       "<text text-anchor=\"start\" x=\"1023\" y=\"-7.8\" font-family=\"Helvetica,sans-Serif\" font-size=\"14.00\">value = [19, 46]</text>\n",
       "</g>\n",
       "<!-- 20&#45;&gt;21 -->\n",
       "<g id=\"edge21\" class=\"edge\">\n",
       "<title>20&#45;&gt;21</title>\n",
       "<path fill=\"none\" stroke=\"black\" d=\"M1150.63,-88.95C1138.03,-79.34 1124.29,-68.87 1111.79,-59.34\"/>\n",
       "<polygon fill=\"black\" stroke=\"black\" points=\"1113.85,-56.51 1103.77,-53.24 1109.6,-62.08 1113.85,-56.51\"/>\n",
       "</g>\n",
       "<!-- 22 -->\n",
       "<g id=\"node23\" class=\"node\">\n",
       "<title>22</title>\n",
       "<path fill=\"#4ea7e8\" stroke=\"black\" d=\"M1233,-53C1233,-53 1155,-53 1155,-53 1149,-53 1143,-47 1143,-41 1143,-41 1143,-12 1143,-12 1143,-6 1149,0 1155,0 1155,0 1233,0 1233,0 1239,0 1245,-6 1245,-12 1245,-12 1245,-41 1245,-41 1245,-47 1239,-53 1233,-53\"/>\n",
       "<text text-anchor=\"start\" x=\"1158.5\" y=\"-37.8\" font-family=\"Helvetica,sans-Serif\" font-size=\"14.00\">gini = 0.173</text>\n",
       "<text text-anchor=\"start\" x=\"1153\" y=\"-22.8\" font-family=\"Helvetica,sans-Serif\" font-size=\"14.00\">samples = 73</text>\n",
       "<text text-anchor=\"start\" x=\"1151\" y=\"-7.8\" font-family=\"Helvetica,sans-Serif\" font-size=\"14.00\">value = [7, 66]</text>\n",
       "</g>\n",
       "<!-- 20&#45;&gt;22 -->\n",
       "<g id=\"edge22\" class=\"edge\">\n",
       "<title>20&#45;&gt;22</title>\n",
       "<path fill=\"none\" stroke=\"black\" d=\"M1194,-88.95C1194,-80.72 1194,-71.85 1194,-63.48\"/>\n",
       "<polygon fill=\"black\" stroke=\"black\" points=\"1197.5,-63.24 1194,-53.24 1190.5,-63.24 1197.5,-63.24\"/>\n",
       "</g>\n",
       "<!-- 24 -->\n",
       "<g id=\"node25\" class=\"node\">\n",
       "<title>24</title>\n",
       "<path fill=\"#c9e4f8\" stroke=\"black\" d=\"M1458.5,-157C1458.5,-157 1325.5,-157 1325.5,-157 1319.5,-157 1313.5,-151 1313.5,-145 1313.5,-145 1313.5,-101 1313.5,-101 1313.5,-95 1319.5,-89 1325.5,-89 1325.5,-89 1458.5,-89 1458.5,-89 1464.5,-89 1470.5,-95 1470.5,-101 1470.5,-101 1470.5,-145 1470.5,-145 1470.5,-151 1464.5,-157 1458.5,-157\"/>\n",
       "<text text-anchor=\"start\" x=\"1321.5\" y=\"-141.8\" font-family=\"Helvetica,sans-Serif\" font-size=\"14.00\">MonthlyCharges ≤ 71.9</text>\n",
       "<text text-anchor=\"start\" x=\"1356.5\" y=\"-126.8\" font-family=\"Helvetica,sans-Serif\" font-size=\"14.00\">gini = 0.488</text>\n",
       "<text text-anchor=\"start\" x=\"1347\" y=\"-111.8\" font-family=\"Helvetica,sans-Serif\" font-size=\"14.00\">samples = 408</text>\n",
       "<text text-anchor=\"start\" x=\"1337.5\" y=\"-96.8\" font-family=\"Helvetica,sans-Serif\" font-size=\"14.00\">value = [172, 236]</text>\n",
       "</g>\n",
       "<!-- 23&#45;&gt;24 -->\n",
       "<g id=\"edge24\" class=\"edge\">\n",
       "<title>23&#45;&gt;24</title>\n",
       "<path fill=\"none\" stroke=\"black\" d=\"M1392,-192.88C1392,-184.78 1392,-175.98 1392,-167.47\"/>\n",
       "<polygon fill=\"black\" stroke=\"black\" points=\"1395.5,-167.3 1392,-157.3 1388.5,-167.3 1395.5,-167.3\"/>\n",
       "</g>\n",
       "<!-- 27 -->\n",
       "<g id=\"node28\" class=\"node\">\n",
       "<title>27</title>\n",
       "<path fill=\"#6cb6ec\" stroke=\"black\" d=\"M1667.5,-157C1667.5,-157 1512.5,-157 1512.5,-157 1506.5,-157 1500.5,-151 1500.5,-145 1500.5,-145 1500.5,-101 1500.5,-101 1500.5,-95 1506.5,-89 1512.5,-89 1512.5,-89 1667.5,-89 1667.5,-89 1673.5,-89 1679.5,-95 1679.5,-101 1679.5,-101 1679.5,-145 1679.5,-145 1679.5,-151 1673.5,-157 1667.5,-157\"/>\n",
       "<text text-anchor=\"start\" x=\"1508.5\" y=\"-141.8\" font-family=\"Helvetica,sans-Serif\" font-size=\"14.00\">MonthlyCharges ≤ 107.325</text>\n",
       "<text text-anchor=\"start\" x=\"1554.5\" y=\"-126.8\" font-family=\"Helvetica,sans-Serif\" font-size=\"14.00\">gini = 0.324</text>\n",
       "<text text-anchor=\"start\" x=\"1545.5\" y=\"-111.8\" font-family=\"Helvetica,sans-Serif\" font-size=\"14.00\">samples = 113</text>\n",
       "<text text-anchor=\"start\" x=\"1543\" y=\"-96.8\" font-family=\"Helvetica,sans-Serif\" font-size=\"14.00\">value = [23, 90]</text>\n",
       "</g>\n",
       "<!-- 23&#45;&gt;27 -->\n",
       "<g id=\"edge27\" class=\"edge\">\n",
       "<title>23&#45;&gt;27</title>\n",
       "<path fill=\"none\" stroke=\"black\" d=\"M1456.28,-192.88C1475.58,-182.95 1496.88,-171.97 1516.71,-161.76\"/>\n",
       "<polygon fill=\"black\" stroke=\"black\" points=\"1518.41,-164.82 1525.7,-157.12 1515.21,-158.59 1518.41,-164.82\"/>\n",
       "</g>\n",
       "<!-- 25 -->\n",
       "<g id=\"node26\" class=\"node\">\n",
       "<title>25</title>\n",
       "<path fill=\"#fae7d9\" stroke=\"black\" d=\"M1361,-53C1361,-53 1275,-53 1275,-53 1269,-53 1263,-47 1263,-41 1263,-41 1263,-12 1263,-12 1263,-6 1269,0 1275,0 1275,0 1361,0 1361,0 1367,0 1373,-6 1373,-12 1373,-12 1373,-41 1373,-41 1373,-47 1367,-53 1361,-53\"/>\n",
       "<text text-anchor=\"start\" x=\"1282.5\" y=\"-37.8\" font-family=\"Helvetica,sans-Serif\" font-size=\"14.00\">gini = 0.494</text>\n",
       "<text text-anchor=\"start\" x=\"1277\" y=\"-22.8\" font-family=\"Helvetica,sans-Serif\" font-size=\"14.00\">samples = 85</text>\n",
       "<text text-anchor=\"start\" x=\"1271\" y=\"-7.8\" font-family=\"Helvetica,sans-Serif\" font-size=\"14.00\">value = [47, 38]</text>\n",
       "</g>\n",
       "<!-- 24&#45;&gt;25 -->\n",
       "<g id=\"edge25\" class=\"edge\">\n",
       "<title>24&#45;&gt;25</title>\n",
       "<path fill=\"none\" stroke=\"black\" d=\"M1366.12,-88.95C1359.1,-79.98 1351.49,-70.27 1344.44,-61.26\"/>\n",
       "<polygon fill=\"black\" stroke=\"black\" points=\"1347.07,-58.95 1338.15,-53.24 1341.56,-63.27 1347.07,-58.95\"/>\n",
       "</g>\n",
       "<!-- 26 -->\n",
       "<g id=\"node27\" class=\"node\">\n",
       "<title>26</title>\n",
       "<path fill=\"#b6dbf5\" stroke=\"black\" d=\"M1504.5,-53C1504.5,-53 1403.5,-53 1403.5,-53 1397.5,-53 1391.5,-47 1391.5,-41 1391.5,-41 1391.5,-12 1391.5,-12 1391.5,-6 1397.5,0 1403.5,0 1403.5,0 1504.5,0 1504.5,0 1510.5,0 1516.5,-6 1516.5,-12 1516.5,-12 1516.5,-41 1516.5,-41 1516.5,-47 1510.5,-53 1504.5,-53\"/>\n",
       "<text text-anchor=\"start\" x=\"1418.5\" y=\"-37.8\" font-family=\"Helvetica,sans-Serif\" font-size=\"14.00\">gini = 0.474</text>\n",
       "<text text-anchor=\"start\" x=\"1409\" y=\"-22.8\" font-family=\"Helvetica,sans-Serif\" font-size=\"14.00\">samples = 323</text>\n",
       "<text text-anchor=\"start\" x=\"1399.5\" y=\"-7.8\" font-family=\"Helvetica,sans-Serif\" font-size=\"14.00\">value = [125, 198]</text>\n",
       "</g>\n",
       "<!-- 24&#45;&gt;26 -->\n",
       "<g id=\"edge26\" class=\"edge\">\n",
       "<title>24&#45;&gt;26</title>\n",
       "<path fill=\"none\" stroke=\"black\" d=\"M1413.68,-88.95C1419.45,-80.17 1425.68,-70.66 1431.49,-61.82\"/>\n",
       "<polygon fill=\"black\" stroke=\"black\" points=\"1434.56,-63.52 1437.11,-53.24 1428.7,-59.68 1434.56,-63.52\"/>\n",
       "</g>\n",
       "<!-- 28 -->\n",
       "<g id=\"node29\" class=\"node\">\n",
       "<title>28</title>\n",
       "<path fill=\"#66b3eb\" stroke=\"black\" d=\"M1633,-53C1633,-53 1547,-53 1547,-53 1541,-53 1535,-47 1535,-41 1535,-41 1535,-12 1535,-12 1535,-6 1541,0 1547,0 1547,0 1633,0 1633,0 1639,0 1645,-6 1645,-12 1645,-12 1645,-41 1645,-41 1645,-47 1639,-53 1633,-53\"/>\n",
       "<text text-anchor=\"start\" x=\"1554.5\" y=\"-37.8\" font-family=\"Helvetica,sans-Serif\" font-size=\"14.00\">gini = 0.302</text>\n",
       "<text text-anchor=\"start\" x=\"1545\" y=\"-22.8\" font-family=\"Helvetica,sans-Serif\" font-size=\"14.00\">samples = 108</text>\n",
       "<text text-anchor=\"start\" x=\"1543\" y=\"-7.8\" font-family=\"Helvetica,sans-Serif\" font-size=\"14.00\">value = [20, 88]</text>\n",
       "</g>\n",
       "<!-- 27&#45;&gt;28 -->\n",
       "<g id=\"edge28\" class=\"edge\">\n",
       "<title>27&#45;&gt;28</title>\n",
       "<path fill=\"none\" stroke=\"black\" d=\"M1590,-88.95C1590,-80.72 1590,-71.85 1590,-63.48\"/>\n",
       "<polygon fill=\"black\" stroke=\"black\" points=\"1593.5,-63.24 1590,-53.24 1586.5,-63.24 1593.5,-63.24\"/>\n",
       "</g>\n",
       "<!-- 29 -->\n",
       "<g id=\"node30\" class=\"node\">\n",
       "<title>29</title>\n",
       "<path fill=\"#f6d5bd\" stroke=\"black\" d=\"M1746.5,-53C1746.5,-53 1675.5,-53 1675.5,-53 1669.5,-53 1663.5,-47 1663.5,-41 1663.5,-41 1663.5,-12 1663.5,-12 1663.5,-6 1669.5,0 1675.5,0 1675.5,0 1746.5,0 1746.5,0 1752.5,0 1758.5,-6 1758.5,-12 1758.5,-12 1758.5,-41 1758.5,-41 1758.5,-47 1752.5,-53 1746.5,-53\"/>\n",
       "<text text-anchor=\"start\" x=\"1679\" y=\"-37.8\" font-family=\"Helvetica,sans-Serif\" font-size=\"14.00\">gini = 0.48</text>\n",
       "<text text-anchor=\"start\" x=\"1673.5\" y=\"-22.8\" font-family=\"Helvetica,sans-Serif\" font-size=\"14.00\">samples = 5</text>\n",
       "<text text-anchor=\"start\" x=\"1671.5\" y=\"-7.8\" font-family=\"Helvetica,sans-Serif\" font-size=\"14.00\">value = [3, 2]</text>\n",
       "</g>\n",
       "<!-- 27&#45;&gt;29 -->\n",
       "<g id=\"edge29\" class=\"edge\">\n",
       "<title>27&#45;&gt;29</title>\n",
       "<path fill=\"none\" stroke=\"black\" d=\"M1632.32,-88.95C1644.5,-79.43 1657.77,-69.07 1669.88,-59.62\"/>\n",
       "<polygon fill=\"black\" stroke=\"black\" points=\"1672.32,-62.15 1678.05,-53.24 1668.01,-56.63 1672.32,-62.15\"/>\n",
       "</g>\n",
       "<!-- 31 -->\n",
       "<g id=\"node32\" class=\"node\">\n",
       "<title>31</title>\n",
       "<path fill=\"#e78b49\" stroke=\"black\" d=\"M2272,-365C2272,-365 2132,-365 2132,-365 2126,-365 2120,-359 2120,-353 2120,-353 2120,-309 2120,-309 2120,-303 2126,-297 2132,-297 2132,-297 2272,-297 2272,-297 2278,-297 2284,-303 2284,-309 2284,-309 2284,-353 2284,-353 2284,-359 2278,-365 2272,-365\"/>\n",
       "<text text-anchor=\"start\" x=\"2128\" y=\"-349.8\" font-family=\"Helvetica,sans-Serif\" font-size=\"14.00\">MonthlyCharges ≤ 27.75</text>\n",
       "<text text-anchor=\"start\" x=\"2166.5\" y=\"-334.8\" font-family=\"Helvetica,sans-Serif\" font-size=\"14.00\">gini = 0.137</text>\n",
       "<text text-anchor=\"start\" x=\"2153.5\" y=\"-319.8\" font-family=\"Helvetica,sans-Serif\" font-size=\"14.00\">samples = 1487</text>\n",
       "<text text-anchor=\"start\" x=\"2144.5\" y=\"-304.8\" font-family=\"Helvetica,sans-Serif\" font-size=\"14.00\">value = [1377, 110]</text>\n",
       "</g>\n",
       "<!-- 30&#45;&gt;31 -->\n",
       "<g id=\"edge31\" class=\"edge\">\n",
       "<title>30&#45;&gt;31</title>\n",
       "<path fill=\"none\" stroke=\"black\" d=\"M2202,-400.88C2202,-392.78 2202,-383.98 2202,-375.47\"/>\n",
       "<polygon fill=\"black\" stroke=\"black\" points=\"2205.5,-375.3 2202,-365.3 2198.5,-375.3 2205.5,-375.3\"/>\n",
       "</g>\n",
       "<!-- 46 -->\n",
       "<g id=\"node47\" class=\"node\">\n",
       "<title>46</title>\n",
       "<path fill=\"#eda978\" stroke=\"black\" d=\"M3111,-365C3111,-365 3003,-365 3003,-365 2997,-365 2991,-359 2991,-353 2991,-353 2991,-309 2991,-309 2991,-303 2997,-297 3003,-297 3003,-297 3111,-297 3111,-297 3117,-297 3123,-303 3123,-309 3123,-309 3123,-353 3123,-353 3123,-359 3117,-365 3111,-365\"/>\n",
       "<text text-anchor=\"start\" x=\"3017\" y=\"-349.8\" font-family=\"Helvetica,sans-Serif\" font-size=\"14.00\">tenure ≤ 54.5</text>\n",
       "<text text-anchor=\"start\" x=\"3021.5\" y=\"-334.8\" font-family=\"Helvetica,sans-Serif\" font-size=\"14.00\">gini = 0.365</text>\n",
       "<text text-anchor=\"start\" x=\"3008.5\" y=\"-319.8\" font-family=\"Helvetica,sans-Serif\" font-size=\"14.00\">samples = 1914</text>\n",
       "<text text-anchor=\"start\" x=\"2999\" y=\"-304.8\" font-family=\"Helvetica,sans-Serif\" font-size=\"14.00\">value = [1454, 460]</text>\n",
       "</g>\n",
       "<!-- 30&#45;&gt;46 -->\n",
       "<g id=\"edge46\" class=\"edge\">\n",
       "<title>30&#45;&gt;46</title>\n",
       "<path fill=\"none\" stroke=\"black\" d=\"M2288.29,-423.71C2455.6,-403.75 2821.59,-360.08 2980.66,-341.11\"/>\n",
       "<polygon fill=\"black\" stroke=\"black\" points=\"2981.32,-344.55 2990.83,-339.89 2980.49,-337.6 2981.32,-344.55\"/>\n",
       "</g>\n",
       "<!-- 32 -->\n",
       "<g id=\"node33\" class=\"node\">\n",
       "<title>32</title>\n",
       "<path fill=\"#e6853f\" stroke=\"black\" d=\"M2190,-261C2190,-261 2080,-261 2080,-261 2074,-261 2068,-255 2068,-249 2068,-249 2068,-205 2068,-205 2068,-199 2074,-193 2080,-193 2080,-193 2190,-193 2190,-193 2196,-193 2202,-199 2202,-205 2202,-205 2202,-249 2202,-249 2202,-255 2196,-261 2190,-261\"/>\n",
       "<text text-anchor=\"start\" x=\"2076\" y=\"-245.8\" font-family=\"Helvetica,sans-Serif\" font-size=\"14.00\">PhoneService ≤ 0.5</text>\n",
       "<text text-anchor=\"start\" x=\"2099.5\" y=\"-230.8\" font-family=\"Helvetica,sans-Serif\" font-size=\"14.00\">gini = 0.056</text>\n",
       "<text text-anchor=\"start\" x=\"2090\" y=\"-215.8\" font-family=\"Helvetica,sans-Serif\" font-size=\"14.00\">samples = 731</text>\n",
       "<text text-anchor=\"start\" x=\"2084.5\" y=\"-200.8\" font-family=\"Helvetica,sans-Serif\" font-size=\"14.00\">value = [710, 21]</text>\n",
       "</g>\n",
       "<!-- 31&#45;&gt;32 -->\n",
       "<g id=\"edge32\" class=\"edge\">\n",
       "<title>31&#45;&gt;32</title>\n",
       "<path fill=\"none\" stroke=\"black\" d=\"M2180.25,-296.88C2174.57,-288.24 2168.38,-278.82 2162.45,-269.79\"/>\n",
       "<polygon fill=\"black\" stroke=\"black\" points=\"2165.29,-267.74 2156.87,-261.3 2159.44,-271.58 2165.29,-267.74\"/>\n",
       "</g>\n",
       "<!-- 39 -->\n",
       "<g id=\"node40\" class=\"node\">\n",
       "<title>39</title>\n",
       "<path fill=\"#e89253\" stroke=\"black\" d=\"M2426.5,-261C2426.5,-261 2333.5,-261 2333.5,-261 2327.5,-261 2321.5,-255 2321.5,-249 2321.5,-249 2321.5,-205 2321.5,-205 2321.5,-199 2327.5,-193 2333.5,-193 2333.5,-193 2426.5,-193 2426.5,-193 2432.5,-193 2438.5,-199 2438.5,-205 2438.5,-205 2438.5,-249 2438.5,-249 2438.5,-255 2432.5,-261 2426.5,-261\"/>\n",
       "<text text-anchor=\"start\" x=\"2340\" y=\"-245.8\" font-family=\"Helvetica,sans-Serif\" font-size=\"14.00\">tenure ≤ 55.5</text>\n",
       "<text text-anchor=\"start\" x=\"2344.5\" y=\"-230.8\" font-family=\"Helvetica,sans-Serif\" font-size=\"14.00\">gini = 0.208</text>\n",
       "<text text-anchor=\"start\" x=\"2335\" y=\"-215.8\" font-family=\"Helvetica,sans-Serif\" font-size=\"14.00\">samples = 756</text>\n",
       "<text text-anchor=\"start\" x=\"2329.5\" y=\"-200.8\" font-family=\"Helvetica,sans-Serif\" font-size=\"14.00\">value = [667, 89]</text>\n",
       "</g>\n",
       "<!-- 31&#45;&gt;39 -->\n",
       "<g id=\"edge39\" class=\"edge\">\n",
       "<title>31&#45;&gt;39</title>\n",
       "<path fill=\"none\" stroke=\"black\" d=\"M2259.79,-296.88C2276.82,-287.12 2295.6,-276.37 2313.14,-266.31\"/>\n",
       "<polygon fill=\"black\" stroke=\"black\" points=\"2315.26,-269.13 2322.19,-261.12 2311.78,-263.06 2315.26,-269.13\"/>\n",
       "</g>\n",
       "<!-- 33 -->\n",
       "<g id=\"node34\" class=\"node\">\n",
       "<title>33</title>\n",
       "<path fill=\"#ea9a61\" stroke=\"black\" d=\"M1980,-157C1980,-157 1902,-157 1902,-157 1896,-157 1890,-151 1890,-145 1890,-145 1890,-101 1890,-101 1890,-95 1896,-89 1902,-89 1902,-89 1980,-89 1980,-89 1986,-89 1992,-95 1992,-101 1992,-101 1992,-145 1992,-145 1992,-151 1986,-157 1980,-157\"/>\n",
       "<text text-anchor=\"start\" x=\"1903\" y=\"-141.8\" font-family=\"Helvetica,sans-Serif\" font-size=\"14.00\">gender ≤ 0.5</text>\n",
       "<text text-anchor=\"start\" x=\"1905.5\" y=\"-126.8\" font-family=\"Helvetica,sans-Serif\" font-size=\"14.00\">gini = 0.278</text>\n",
       "<text text-anchor=\"start\" x=\"1900\" y=\"-111.8\" font-family=\"Helvetica,sans-Serif\" font-size=\"14.00\">samples = 18</text>\n",
       "<text text-anchor=\"start\" x=\"1898\" y=\"-96.8\" font-family=\"Helvetica,sans-Serif\" font-size=\"14.00\">value = [15, 3]</text>\n",
       "</g>\n",
       "<!-- 32&#45;&gt;33 -->\n",
       "<g id=\"edge33\" class=\"edge\">\n",
       "<title>32&#45;&gt;33</title>\n",
       "<path fill=\"none\" stroke=\"black\" d=\"M2072.01,-192.88C2049.26,-180.92 2023.65,-167.45 2001.14,-155.62\"/>\n",
       "<polygon fill=\"black\" stroke=\"black\" points=\"2002.51,-152.39 1992.03,-150.83 1999.25,-158.58 2002.51,-152.39\"/>\n",
       "</g>\n",
       "<!-- 36 -->\n",
       "<g id=\"node37\" class=\"node\">\n",
       "<title>36</title>\n",
       "<path fill=\"#e6843e\" stroke=\"black\" d=\"M2181.5,-157C2181.5,-157 2088.5,-157 2088.5,-157 2082.5,-157 2076.5,-151 2076.5,-145 2076.5,-145 2076.5,-101 2076.5,-101 2076.5,-95 2082.5,-89 2088.5,-89 2088.5,-89 2181.5,-89 2181.5,-89 2187.5,-89 2193.5,-95 2193.5,-101 2193.5,-101 2193.5,-145 2193.5,-145 2193.5,-151 2187.5,-157 2181.5,-157\"/>\n",
       "<text text-anchor=\"start\" x=\"2095\" y=\"-141.8\" font-family=\"Helvetica,sans-Serif\" font-size=\"14.00\">tenure ≤ 33.5</text>\n",
       "<text text-anchor=\"start\" x=\"2099.5\" y=\"-126.8\" font-family=\"Helvetica,sans-Serif\" font-size=\"14.00\">gini = 0.049</text>\n",
       "<text text-anchor=\"start\" x=\"2090\" y=\"-111.8\" font-family=\"Helvetica,sans-Serif\" font-size=\"14.00\">samples = 713</text>\n",
       "<text text-anchor=\"start\" x=\"2084.5\" y=\"-96.8\" font-family=\"Helvetica,sans-Serif\" font-size=\"14.00\">value = [695, 18]</text>\n",
       "</g>\n",
       "<!-- 32&#45;&gt;36 -->\n",
       "<g id=\"edge36\" class=\"edge\">\n",
       "<title>32&#45;&gt;36</title>\n",
       "<path fill=\"none\" stroke=\"black\" d=\"M2135,-192.88C2135,-184.78 2135,-175.98 2135,-167.47\"/>\n",
       "<polygon fill=\"black\" stroke=\"black\" points=\"2138.5,-167.3 2135,-157.3 2131.5,-167.3 2138.5,-167.3\"/>\n",
       "</g>\n",
       "<!-- 34 -->\n",
       "<g id=\"node35\" class=\"node\">\n",
       "<title>34</title>\n",
       "<path fill=\"#bddef6\" stroke=\"black\" d=\"M1859.5,-53C1859.5,-53 1788.5,-53 1788.5,-53 1782.5,-53 1776.5,-47 1776.5,-41 1776.5,-41 1776.5,-12 1776.5,-12 1776.5,-6 1782.5,0 1788.5,0 1788.5,0 1859.5,0 1859.5,0 1865.5,0 1871.5,-6 1871.5,-12 1871.5,-12 1871.5,-41 1871.5,-41 1871.5,-47 1865.5,-53 1859.5,-53\"/>\n",
       "<text text-anchor=\"start\" x=\"1792\" y=\"-37.8\" font-family=\"Helvetica,sans-Serif\" font-size=\"14.00\">gini = 0.48</text>\n",
       "<text text-anchor=\"start\" x=\"1786.5\" y=\"-22.8\" font-family=\"Helvetica,sans-Serif\" font-size=\"14.00\">samples = 5</text>\n",
       "<text text-anchor=\"start\" x=\"1784.5\" y=\"-7.8\" font-family=\"Helvetica,sans-Serif\" font-size=\"14.00\">value = [2, 3]</text>\n",
       "</g>\n",
       "<!-- 33&#45;&gt;34 -->\n",
       "<g id=\"edge34\" class=\"edge\">\n",
       "<title>33&#45;&gt;34</title>\n",
       "<path fill=\"none\" stroke=\"black\" d=\"M1900.08,-88.95C1888.3,-79.43 1875.47,-69.07 1863.76,-59.62\"/>\n",
       "<polygon fill=\"black\" stroke=\"black\" points=\"1865.84,-56.8 1855.86,-53.24 1861.44,-62.24 1865.84,-56.8\"/>\n",
       "</g>\n",
       "<!-- 35 -->\n",
       "<g id=\"node36\" class=\"node\">\n",
       "<title>35</title>\n",
       "<path fill=\"#e58139\" stroke=\"black\" d=\"M1980,-53C1980,-53 1902,-53 1902,-53 1896,-53 1890,-47 1890,-41 1890,-41 1890,-12 1890,-12 1890,-6 1896,0 1902,0 1902,0 1980,0 1980,0 1986,0 1992,-6 1992,-12 1992,-12 1992,-41 1992,-41 1992,-47 1986,-53 1980,-53\"/>\n",
       "<text text-anchor=\"start\" x=\"1913\" y=\"-37.8\" font-family=\"Helvetica,sans-Serif\" font-size=\"14.00\">gini = 0.0</text>\n",
       "<text text-anchor=\"start\" x=\"1900\" y=\"-22.8\" font-family=\"Helvetica,sans-Serif\" font-size=\"14.00\">samples = 13</text>\n",
       "<text text-anchor=\"start\" x=\"1898\" y=\"-7.8\" font-family=\"Helvetica,sans-Serif\" font-size=\"14.00\">value = [13, 0]</text>\n",
       "</g>\n",
       "<!-- 33&#45;&gt;35 -->\n",
       "<g id=\"edge35\" class=\"edge\">\n",
       "<title>33&#45;&gt;35</title>\n",
       "<path fill=\"none\" stroke=\"black\" d=\"M1941,-88.95C1941,-80.72 1941,-71.85 1941,-63.48\"/>\n",
       "<polygon fill=\"black\" stroke=\"black\" points=\"1944.5,-63.24 1941,-53.24 1937.5,-63.24 1944.5,-63.24\"/>\n",
       "</g>\n",
       "<!-- 37 -->\n",
       "<g id=\"node38\" class=\"node\">\n",
       "<title>37</title>\n",
       "<path fill=\"#e68742\" stroke=\"black\" d=\"M2115.5,-53C2115.5,-53 2022.5,-53 2022.5,-53 2016.5,-53 2010.5,-47 2010.5,-41 2010.5,-41 2010.5,-12 2010.5,-12 2010.5,-6 2016.5,0 2022.5,0 2022.5,0 2115.5,0 2115.5,0 2121.5,0 2127.5,-6 2127.5,-12 2127.5,-12 2127.5,-41 2127.5,-41 2127.5,-47 2121.5,-53 2115.5,-53\"/>\n",
       "<text text-anchor=\"start\" x=\"2033.5\" y=\"-37.8\" font-family=\"Helvetica,sans-Serif\" font-size=\"14.00\">gini = 0.087</text>\n",
       "<text text-anchor=\"start\" x=\"2024\" y=\"-22.8\" font-family=\"Helvetica,sans-Serif\" font-size=\"14.00\">samples = 264</text>\n",
       "<text text-anchor=\"start\" x=\"2018.5\" y=\"-7.8\" font-family=\"Helvetica,sans-Serif\" font-size=\"14.00\">value = [252, 12]</text>\n",
       "</g>\n",
       "<!-- 36&#45;&gt;37 -->\n",
       "<g id=\"edge37\" class=\"edge\">\n",
       "<title>36&#45;&gt;37</title>\n",
       "<path fill=\"none\" stroke=\"black\" d=\"M2111.92,-88.95C2105.72,-80.07 2099.01,-70.46 2092.77,-61.54\"/>\n",
       "<polygon fill=\"black\" stroke=\"black\" points=\"2095.57,-59.43 2086.97,-53.24 2089.83,-63.44 2095.57,-59.43\"/>\n",
       "</g>\n",
       "<!-- 38 -->\n",
       "<g id=\"node39\" class=\"node\">\n",
       "<title>38</title>\n",
       "<path fill=\"#e5833c\" stroke=\"black\" d=\"M2244,-53C2244,-53 2158,-53 2158,-53 2152,-53 2146,-47 2146,-41 2146,-41 2146,-12 2146,-12 2146,-6 2152,0 2158,0 2158,0 2244,0 2244,0 2250,0 2256,-6 2256,-12 2256,-12 2256,-41 2256,-41 2256,-47 2250,-53 2244,-53\"/>\n",
       "<text text-anchor=\"start\" x=\"2165.5\" y=\"-37.8\" font-family=\"Helvetica,sans-Serif\" font-size=\"14.00\">gini = 0.026</text>\n",
       "<text text-anchor=\"start\" x=\"2156\" y=\"-22.8\" font-family=\"Helvetica,sans-Serif\" font-size=\"14.00\">samples = 449</text>\n",
       "<text text-anchor=\"start\" x=\"2154\" y=\"-7.8\" font-family=\"Helvetica,sans-Serif\" font-size=\"14.00\">value = [443, 6]</text>\n",
       "</g>\n",
       "<!-- 36&#45;&gt;38 -->\n",
       "<g id=\"edge38\" class=\"edge\">\n",
       "<title>36&#45;&gt;38</title>\n",
       "<path fill=\"none\" stroke=\"black\" d=\"M2158.08,-88.95C2164.28,-80.07 2170.99,-70.46 2177.23,-61.54\"/>\n",
       "<polygon fill=\"black\" stroke=\"black\" points=\"2180.17,-63.44 2183.03,-53.24 2174.43,-59.43 2180.17,-63.44\"/>\n",
       "</g>\n",
       "<!-- 40 -->\n",
       "<g id=\"node41\" class=\"node\">\n",
       "<title>40</title>\n",
       "<path fill=\"#e9975b\" stroke=\"black\" d=\"M2441,-157C2441,-157 2319,-157 2319,-157 2313,-157 2307,-151 2307,-145 2307,-145 2307,-101 2307,-101 2307,-95 2313,-89 2319,-89 2319,-89 2441,-89 2441,-89 2447,-89 2453,-95 2453,-101 2453,-101 2453,-145 2453,-145 2453,-151 2447,-157 2441,-157\"/>\n",
       "<text text-anchor=\"start\" x=\"2315\" y=\"-141.8\" font-family=\"Helvetica,sans-Serif\" font-size=\"14.00\">PaperlessBilling ≤ 0.5</text>\n",
       "<text text-anchor=\"start\" x=\"2344.5\" y=\"-126.8\" font-family=\"Helvetica,sans-Serif\" font-size=\"14.00\">gini = 0.251</text>\n",
       "<text text-anchor=\"start\" x=\"2335\" y=\"-111.8\" font-family=\"Helvetica,sans-Serif\" font-size=\"14.00\">samples = 556</text>\n",
       "<text text-anchor=\"start\" x=\"2329.5\" y=\"-96.8\" font-family=\"Helvetica,sans-Serif\" font-size=\"14.00\">value = [474, 82]</text>\n",
       "</g>\n",
       "<!-- 39&#45;&gt;40 -->\n",
       "<g id=\"edge40\" class=\"edge\">\n",
       "<title>39&#45;&gt;40</title>\n",
       "<path fill=\"none\" stroke=\"black\" d=\"M2380,-192.88C2380,-184.78 2380,-175.98 2380,-167.47\"/>\n",
       "<polygon fill=\"black\" stroke=\"black\" points=\"2383.5,-167.3 2380,-157.3 2376.5,-167.3 2383.5,-167.3\"/>\n",
       "</g>\n",
       "<!-- 43 -->\n",
       "<g id=\"node44\" class=\"node\">\n",
       "<title>43</title>\n",
       "<path fill=\"#e68640\" stroke=\"black\" d=\"M2662.5,-157C2662.5,-157 2529.5,-157 2529.5,-157 2523.5,-157 2517.5,-151 2517.5,-145 2517.5,-145 2517.5,-101 2517.5,-101 2517.5,-95 2523.5,-89 2529.5,-89 2529.5,-89 2662.5,-89 2662.5,-89 2668.5,-89 2674.5,-95 2674.5,-101 2674.5,-101 2674.5,-145 2674.5,-145 2674.5,-151 2668.5,-157 2662.5,-157\"/>\n",
       "<text text-anchor=\"start\" x=\"2525.5\" y=\"-141.8\" font-family=\"Helvetica,sans-Serif\" font-size=\"14.00\">MonthlyCharges ≤ 45.3</text>\n",
       "<text text-anchor=\"start\" x=\"2560.5\" y=\"-126.8\" font-family=\"Helvetica,sans-Serif\" font-size=\"14.00\">gini = 0.068</text>\n",
       "<text text-anchor=\"start\" x=\"2551\" y=\"-111.8\" font-family=\"Helvetica,sans-Serif\" font-size=\"14.00\">samples = 200</text>\n",
       "<text text-anchor=\"start\" x=\"2549\" y=\"-96.8\" font-family=\"Helvetica,sans-Serif\" font-size=\"14.00\">value = [193, 7]</text>\n",
       "</g>\n",
       "<!-- 39&#45;&gt;43 -->\n",
       "<g id=\"edge43\" class=\"edge\">\n",
       "<title>39&#45;&gt;43</title>\n",
       "<path fill=\"none\" stroke=\"black\" d=\"M2438.74,-198.26C2462.66,-186.97 2490.68,-173.73 2516.4,-161.59\"/>\n",
       "<polygon fill=\"black\" stroke=\"black\" points=\"2518.21,-164.61 2525.75,-157.17 2515.22,-158.28 2518.21,-164.61\"/>\n",
       "</g>\n",
       "<!-- 41 -->\n",
       "<g id=\"node42\" class=\"node\">\n",
       "<title>41</title>\n",
       "<path fill=\"#e89050\" stroke=\"black\" d=\"M2379.5,-53C2379.5,-53 2286.5,-53 2286.5,-53 2280.5,-53 2274.5,-47 2274.5,-41 2274.5,-41 2274.5,-12 2274.5,-12 2274.5,-6 2280.5,0 2286.5,0 2286.5,0 2379.5,0 2379.5,0 2385.5,0 2391.5,-6 2391.5,-12 2391.5,-12 2391.5,-41 2391.5,-41 2391.5,-47 2385.5,-53 2379.5,-53\"/>\n",
       "<text text-anchor=\"start\" x=\"2297.5\" y=\"-37.8\" font-family=\"Helvetica,sans-Serif\" font-size=\"14.00\">gini = 0.186</text>\n",
       "<text text-anchor=\"start\" x=\"2288\" y=\"-22.8\" font-family=\"Helvetica,sans-Serif\" font-size=\"14.00\">samples = 260</text>\n",
       "<text text-anchor=\"start\" x=\"2282.5\" y=\"-7.8\" font-family=\"Helvetica,sans-Serif\" font-size=\"14.00\">value = [233, 27]</text>\n",
       "</g>\n",
       "<!-- 40&#45;&gt;41 -->\n",
       "<g id=\"edge41\" class=\"edge\">\n",
       "<title>40&#45;&gt;41</title>\n",
       "<path fill=\"none\" stroke=\"black\" d=\"M2363.56,-88.95C2359.28,-80.35 2354.66,-71.06 2350.34,-62.37\"/>\n",
       "<polygon fill=\"black\" stroke=\"black\" points=\"2353.39,-60.63 2345.8,-53.24 2347.12,-63.75 2353.39,-60.63\"/>\n",
       "</g>\n",
       "<!-- 42 -->\n",
       "<g id=\"node43\" class=\"node\">\n",
       "<title>42</title>\n",
       "<path fill=\"#eb9e66\" stroke=\"black\" d=\"M2514.5,-53C2514.5,-53 2421.5,-53 2421.5,-53 2415.5,-53 2409.5,-47 2409.5,-41 2409.5,-41 2409.5,-12 2409.5,-12 2409.5,-6 2415.5,0 2421.5,0 2421.5,0 2514.5,0 2514.5,0 2520.5,0 2526.5,-6 2526.5,-12 2526.5,-12 2526.5,-41 2526.5,-41 2526.5,-47 2520.5,-53 2514.5,-53\"/>\n",
       "<text text-anchor=\"start\" x=\"2432.5\" y=\"-37.8\" font-family=\"Helvetica,sans-Serif\" font-size=\"14.00\">gini = 0.303</text>\n",
       "<text text-anchor=\"start\" x=\"2423\" y=\"-22.8\" font-family=\"Helvetica,sans-Serif\" font-size=\"14.00\">samples = 296</text>\n",
       "<text text-anchor=\"start\" x=\"2417.5\" y=\"-7.8\" font-family=\"Helvetica,sans-Serif\" font-size=\"14.00\">value = [241, 55]</text>\n",
       "</g>\n",
       "<!-- 40&#45;&gt;42 -->\n",
       "<g id=\"edge42\" class=\"edge\">\n",
       "<title>40&#45;&gt;42</title>\n",
       "<path fill=\"none\" stroke=\"black\" d=\"M2410.78,-88.95C2419.3,-79.8 2428.54,-69.87 2437.07,-60.71\"/>\n",
       "<polygon fill=\"black\" stroke=\"black\" points=\"2439.78,-62.94 2444.03,-53.24 2434.66,-58.17 2439.78,-62.94\"/>\n",
       "</g>\n",
       "<!-- 44 -->\n",
       "<g id=\"node45\" class=\"node\">\n",
       "<title>44</title>\n",
       "<path fill=\"#e88e4e\" stroke=\"black\" d=\"M2635,-53C2635,-53 2557,-53 2557,-53 2551,-53 2545,-47 2545,-41 2545,-41 2545,-12 2545,-12 2545,-6 2551,0 2557,0 2557,0 2635,0 2635,0 2641,0 2647,-6 2647,-12 2647,-12 2647,-41 2647,-41 2647,-47 2641,-53 2635,-53\"/>\n",
       "<text text-anchor=\"start\" x=\"2560.5\" y=\"-37.8\" font-family=\"Helvetica,sans-Serif\" font-size=\"14.00\">gini = 0.175</text>\n",
       "<text text-anchor=\"start\" x=\"2555\" y=\"-22.8\" font-family=\"Helvetica,sans-Serif\" font-size=\"14.00\">samples = 31</text>\n",
       "<text text-anchor=\"start\" x=\"2553\" y=\"-7.8\" font-family=\"Helvetica,sans-Serif\" font-size=\"14.00\">value = [28, 3]</text>\n",
       "</g>\n",
       "<!-- 43&#45;&gt;44 -->\n",
       "<g id=\"edge44\" class=\"edge\">\n",
       "<title>43&#45;&gt;44</title>\n",
       "<path fill=\"none\" stroke=\"black\" d=\"M2596,-88.95C2596,-80.72 2596,-71.85 2596,-63.48\"/>\n",
       "<polygon fill=\"black\" stroke=\"black\" points=\"2599.5,-63.24 2596,-53.24 2592.5,-63.24 2599.5,-63.24\"/>\n",
       "</g>\n",
       "<!-- 45 -->\n",
       "<g id=\"node46\" class=\"node\">\n",
       "<title>45</title>\n",
       "<path fill=\"#e6843e\" stroke=\"black\" d=\"M2763,-53C2763,-53 2677,-53 2677,-53 2671,-53 2665,-47 2665,-41 2665,-41 2665,-12 2665,-12 2665,-6 2671,0 2677,0 2677,0 2763,0 2763,0 2769,0 2775,-6 2775,-12 2775,-12 2775,-41 2775,-41 2775,-47 2769,-53 2763,-53\"/>\n",
       "<text text-anchor=\"start\" x=\"2684.5\" y=\"-37.8\" font-family=\"Helvetica,sans-Serif\" font-size=\"14.00\">gini = 0.046</text>\n",
       "<text text-anchor=\"start\" x=\"2675\" y=\"-22.8\" font-family=\"Helvetica,sans-Serif\" font-size=\"14.00\">samples = 169</text>\n",
       "<text text-anchor=\"start\" x=\"2673\" y=\"-7.8\" font-family=\"Helvetica,sans-Serif\" font-size=\"14.00\">value = [165, 4]</text>\n",
       "</g>\n",
       "<!-- 43&#45;&gt;45 -->\n",
       "<g id=\"edge45\" class=\"edge\">\n",
       "<title>43&#45;&gt;45</title>\n",
       "<path fill=\"none\" stroke=\"black\" d=\"M2639.37,-88.95C2651.97,-79.34 2665.71,-68.87 2678.21,-59.34\"/>\n",
       "<polygon fill=\"black\" stroke=\"black\" points=\"2680.4,-62.08 2686.23,-53.24 2676.15,-56.51 2680.4,-62.08\"/>\n",
       "</g>\n",
       "<!-- 47 -->\n",
       "<g id=\"node48\" class=\"node\">\n",
       "<title>47</title>\n",
       "<path fill=\"#f2c19e\" stroke=\"black\" d=\"M3118,-261C3118,-261 2996,-261 2996,-261 2990,-261 2984,-255 2984,-249 2984,-249 2984,-205 2984,-205 2984,-199 2990,-193 2996,-193 2996,-193 3118,-193 3118,-193 3124,-193 3130,-199 3130,-205 3130,-205 3130,-249 3130,-249 3130,-255 3124,-261 3118,-261\"/>\n",
       "<text text-anchor=\"start\" x=\"2992\" y=\"-245.8\" font-family=\"Helvetica,sans-Serif\" font-size=\"14.00\">PaperlessBilling ≤ 0.5</text>\n",
       "<text text-anchor=\"start\" x=\"3021.5\" y=\"-230.8\" font-family=\"Helvetica,sans-Serif\" font-size=\"14.00\">gini = 0.447</text>\n",
       "<text text-anchor=\"start\" x=\"3008.5\" y=\"-215.8\" font-family=\"Helvetica,sans-Serif\" font-size=\"14.00\">samples = 1101</text>\n",
       "<text text-anchor=\"start\" x=\"3002.5\" y=\"-200.8\" font-family=\"Helvetica,sans-Serif\" font-size=\"14.00\">value = [729, 372]</text>\n",
       "</g>\n",
       "<!-- 46&#45;&gt;47 -->\n",
       "<g id=\"edge47\" class=\"edge\">\n",
       "<title>46&#45;&gt;47</title>\n",
       "<path fill=\"none\" stroke=\"black\" d=\"M3057,-296.88C3057,-288.78 3057,-279.98 3057,-271.47\"/>\n",
       "<polygon fill=\"black\" stroke=\"black\" points=\"3060.5,-271.3 3057,-261.3 3053.5,-271.3 3060.5,-271.3\"/>\n",
       "</g>\n",
       "<!-- 54 -->\n",
       "<g id=\"node55\" class=\"node\">\n",
       "<title>54</title>\n",
       "<path fill=\"#e89051\" stroke=\"black\" d=\"M3494.5,-261C3494.5,-261 3401.5,-261 3401.5,-261 3395.5,-261 3389.5,-255 3389.5,-249 3389.5,-249 3389.5,-205 3389.5,-205 3389.5,-199 3395.5,-193 3401.5,-193 3401.5,-193 3494.5,-193 3494.5,-193 3500.5,-193 3506.5,-199 3506.5,-205 3506.5,-205 3506.5,-249 3506.5,-249 3506.5,-255 3500.5,-261 3494.5,-261\"/>\n",
       "<text text-anchor=\"start\" x=\"3408\" y=\"-245.8\" font-family=\"Helvetica,sans-Serif\" font-size=\"14.00\">tenure ≤ 70.5</text>\n",
       "<text text-anchor=\"start\" x=\"3412.5\" y=\"-230.8\" font-family=\"Helvetica,sans-Serif\" font-size=\"14.00\">gini = 0.193</text>\n",
       "<text text-anchor=\"start\" x=\"3403\" y=\"-215.8\" font-family=\"Helvetica,sans-Serif\" font-size=\"14.00\">samples = 813</text>\n",
       "<text text-anchor=\"start\" x=\"3397.5\" y=\"-200.8\" font-family=\"Helvetica,sans-Serif\" font-size=\"14.00\">value = [725, 88]</text>\n",
       "</g>\n",
       "<!-- 46&#45;&gt;54 -->\n",
       "<g id=\"edge54\" class=\"edge\">\n",
       "<title>46&#45;&gt;54</title>\n",
       "<path fill=\"none\" stroke=\"black\" d=\"M3123.33,-312.7C3194.6,-294.1 3307.33,-264.7 3379.45,-245.88\"/>\n",
       "<polygon fill=\"black\" stroke=\"black\" points=\"3380.55,-249.21 3389.35,-243.3 3378.79,-242.44 3380.55,-249.21\"/>\n",
       "</g>\n",
       "<!-- 48 -->\n",
       "<g id=\"node49\" class=\"node\">\n",
       "<title>48</title>\n",
       "<path fill=\"#eda673\" stroke=\"black\" d=\"M3045,-157C3045,-157 2905,-157 2905,-157 2899,-157 2893,-151 2893,-145 2893,-145 2893,-101 2893,-101 2893,-95 2899,-89 2905,-89 2905,-89 3045,-89 3045,-89 3051,-89 3057,-95 3057,-101 3057,-101 3057,-145 3057,-145 3057,-151 3051,-157 3045,-157\"/>\n",
       "<text text-anchor=\"start\" x=\"2901\" y=\"-141.8\" font-family=\"Helvetica,sans-Serif\" font-size=\"14.00\">MonthlyCharges ≤ 82.25</text>\n",
       "<text text-anchor=\"start\" x=\"2939.5\" y=\"-126.8\" font-family=\"Helvetica,sans-Serif\" font-size=\"14.00\">gini = 0.349</text>\n",
       "<text text-anchor=\"start\" x=\"2930\" y=\"-111.8\" font-family=\"Helvetica,sans-Serif\" font-size=\"14.00\">samples = 297</text>\n",
       "<text text-anchor=\"start\" x=\"2924.5\" y=\"-96.8\" font-family=\"Helvetica,sans-Serif\" font-size=\"14.00\">value = [230, 67]</text>\n",
       "</g>\n",
       "<!-- 47&#45;&gt;48 -->\n",
       "<g id=\"edge48\" class=\"edge\">\n",
       "<title>47&#45;&gt;48</title>\n",
       "<path fill=\"none\" stroke=\"black\" d=\"M3030.38,-192.88C3023.29,-184.07 3015.54,-174.43 3008.15,-165.24\"/>\n",
       "<polygon fill=\"black\" stroke=\"black\" points=\"3010.76,-162.9 3001.77,-157.3 3005.31,-167.29 3010.76,-162.9\"/>\n",
       "</g>\n",
       "<!-- 51 -->\n",
       "<g id=\"node52\" class=\"node\">\n",
       "<title>51</title>\n",
       "<path fill=\"#f5ceb2\" stroke=\"black\" d=\"M3188.5,-157C3188.5,-157 3087.5,-157 3087.5,-157 3081.5,-157 3075.5,-151 3075.5,-145 3075.5,-145 3075.5,-101 3075.5,-101 3075.5,-95 3081.5,-89 3087.5,-89 3087.5,-89 3188.5,-89 3188.5,-89 3194.5,-89 3200.5,-95 3200.5,-101 3200.5,-101 3200.5,-145 3200.5,-145 3200.5,-151 3194.5,-157 3188.5,-157\"/>\n",
       "<text text-anchor=\"start\" x=\"3098\" y=\"-141.8\" font-family=\"Helvetica,sans-Serif\" font-size=\"14.00\">tenure ≤ 33.5</text>\n",
       "<text text-anchor=\"start\" x=\"3102.5\" y=\"-126.8\" font-family=\"Helvetica,sans-Serif\" font-size=\"14.00\">gini = 0.471</text>\n",
       "<text text-anchor=\"start\" x=\"3093\" y=\"-111.8\" font-family=\"Helvetica,sans-Serif\" font-size=\"14.00\">samples = 804</text>\n",
       "<text text-anchor=\"start\" x=\"3083.5\" y=\"-96.8\" font-family=\"Helvetica,sans-Serif\" font-size=\"14.00\">value = [499, 305]</text>\n",
       "</g>\n",
       "<!-- 47&#45;&gt;51 -->\n",
       "<g id=\"edge51\" class=\"edge\">\n",
       "<title>47&#45;&gt;51</title>\n",
       "<path fill=\"none\" stroke=\"black\" d=\"M3083.3,-192.88C3090.3,-184.07 3097.95,-174.43 3105.25,-165.24\"/>\n",
       "<polygon fill=\"black\" stroke=\"black\" points=\"3108.08,-167.31 3111.56,-157.3 3102.6,-162.95 3108.08,-167.31\"/>\n",
       "</g>\n",
       "<!-- 49 -->\n",
       "<g id=\"node50\" class=\"node\">\n",
       "<title>49</title>\n",
       "<path fill=\"#e99457\" stroke=\"black\" d=\"M2898.5,-53C2898.5,-53 2805.5,-53 2805.5,-53 2799.5,-53 2793.5,-47 2793.5,-41 2793.5,-41 2793.5,-12 2793.5,-12 2793.5,-6 2799.5,0 2805.5,0 2805.5,0 2898.5,0 2898.5,0 2904.5,0 2910.5,-6 2910.5,-12 2910.5,-12 2910.5,-41 2910.5,-41 2910.5,-47 2904.5,-53 2898.5,-53\"/>\n",
       "<text text-anchor=\"start\" x=\"2816.5\" y=\"-37.8\" font-family=\"Helvetica,sans-Serif\" font-size=\"14.00\">gini = 0.228</text>\n",
       "<text text-anchor=\"start\" x=\"2807\" y=\"-22.8\" font-family=\"Helvetica,sans-Serif\" font-size=\"14.00\">samples = 122</text>\n",
       "<text text-anchor=\"start\" x=\"2801.5\" y=\"-7.8\" font-family=\"Helvetica,sans-Serif\" font-size=\"14.00\">value = [106, 16]</text>\n",
       "</g>\n",
       "<!-- 48&#45;&gt;49 -->\n",
       "<g id=\"edge49\" class=\"edge\">\n",
       "<title>48&#45;&gt;49</title>\n",
       "<path fill=\"none\" stroke=\"black\" d=\"M2931.98,-88.95C2919.48,-79.34 2905.85,-68.87 2893.45,-59.34\"/>\n",
       "<polygon fill=\"black\" stroke=\"black\" points=\"2895.56,-56.55 2885.5,-53.24 2891.3,-62.1 2895.56,-56.55\"/>\n",
       "</g>\n",
       "<!-- 50 -->\n",
       "<g id=\"node51\" class=\"node\">\n",
       "<title>50</title>\n",
       "<path fill=\"#f0b58a\" stroke=\"black\" d=\"M3033.5,-53C3033.5,-53 2940.5,-53 2940.5,-53 2934.5,-53 2928.5,-47 2928.5,-41 2928.5,-41 2928.5,-12 2928.5,-12 2928.5,-6 2934.5,0 2940.5,0 2940.5,0 3033.5,0 3033.5,0 3039.5,0 3045.5,-6 3045.5,-12 3045.5,-12 3045.5,-41 3045.5,-41 3045.5,-47 3039.5,-53 3033.5,-53\"/>\n",
       "<text text-anchor=\"start\" x=\"2951.5\" y=\"-37.8\" font-family=\"Helvetica,sans-Serif\" font-size=\"14.00\">gini = 0.413</text>\n",
       "<text text-anchor=\"start\" x=\"2942\" y=\"-22.8\" font-family=\"Helvetica,sans-Serif\" font-size=\"14.00\">samples = 175</text>\n",
       "<text text-anchor=\"start\" x=\"2936.5\" y=\"-7.8\" font-family=\"Helvetica,sans-Serif\" font-size=\"14.00\">value = [124, 51]</text>\n",
       "</g>\n",
       "<!-- 48&#45;&gt;50 -->\n",
       "<g id=\"edge50\" class=\"edge\">\n",
       "<title>48&#45;&gt;50</title>\n",
       "<path fill=\"none\" stroke=\"black\" d=\"M2979.2,-88.95C2980.25,-80.62 2981.39,-71.65 2982.47,-63.2\"/>\n",
       "<polygon fill=\"black\" stroke=\"black\" points=\"2985.94,-63.6 2983.73,-53.24 2979,-62.72 2985.94,-63.6\"/>\n",
       "</g>\n",
       "<!-- 52 -->\n",
       "<g id=\"node53\" class=\"node\">\n",
       "<title>52</title>\n",
       "<path fill=\"#fae9dd\" stroke=\"black\" d=\"M3176.5,-53C3176.5,-53 3075.5,-53 3075.5,-53 3069.5,-53 3063.5,-47 3063.5,-41 3063.5,-41 3063.5,-12 3063.5,-12 3063.5,-6 3069.5,0 3075.5,0 3075.5,0 3176.5,0 3176.5,0 3182.5,0 3188.5,-6 3188.5,-12 3188.5,-12 3188.5,-41 3188.5,-41 3188.5,-47 3182.5,-53 3176.5,-53\"/>\n",
       "<text text-anchor=\"start\" x=\"3090.5\" y=\"-37.8\" font-family=\"Helvetica,sans-Serif\" font-size=\"14.00\">gini = 0.495</text>\n",
       "<text text-anchor=\"start\" x=\"3081\" y=\"-22.8\" font-family=\"Helvetica,sans-Serif\" font-size=\"14.00\">samples = 420</text>\n",
       "<text text-anchor=\"start\" x=\"3071.5\" y=\"-7.8\" font-family=\"Helvetica,sans-Serif\" font-size=\"14.00\">value = [230, 190]</text>\n",
       "</g>\n",
       "<!-- 51&#45;&gt;52 -->\n",
       "<g id=\"edge52\" class=\"edge\">\n",
       "<title>51&#45;&gt;52</title>\n",
       "<path fill=\"none\" stroke=\"black\" d=\"M3133.8,-88.95C3132.75,-80.62 3131.61,-71.65 3130.53,-63.2\"/>\n",
       "<polygon fill=\"black\" stroke=\"black\" points=\"3134,-62.72 3129.27,-53.24 3127.06,-63.6 3134,-62.72\"/>\n",
       "</g>\n",
       "<!-- 53 -->\n",
       "<g id=\"node54\" class=\"node\">\n",
       "<title>53</title>\n",
       "<path fill=\"#f0b78e\" stroke=\"black\" d=\"M3319,-53C3319,-53 3219,-53 3219,-53 3213,-53 3207,-47 3207,-41 3207,-41 3207,-12 3207,-12 3207,-6 3213,0 3219,0 3219,0 3319,0 3319,0 3325,0 3331,-6 3331,-12 3331,-12 3331,-41 3331,-41 3331,-47 3325,-53 3319,-53\"/>\n",
       "<text text-anchor=\"start\" x=\"3237\" y=\"-37.8\" font-family=\"Helvetica,sans-Serif\" font-size=\"14.00\">gini = 0.42</text>\n",
       "<text text-anchor=\"start\" x=\"3224\" y=\"-22.8\" font-family=\"Helvetica,sans-Serif\" font-size=\"14.00\">samples = 384</text>\n",
       "<text text-anchor=\"start\" x=\"3215\" y=\"-7.8\" font-family=\"Helvetica,sans-Serif\" font-size=\"14.00\">value = [269, 115]</text>\n",
       "</g>\n",
       "<!-- 51&#45;&gt;53 -->\n",
       "<g id=\"edge53\" class=\"edge\">\n",
       "<title>51&#45;&gt;53</title>\n",
       "<path fill=\"none\" stroke=\"black\" d=\"M3183.82,-88.95C3197.13,-79.34 3211.64,-68.87 3224.86,-59.34\"/>\n",
       "<polygon fill=\"black\" stroke=\"black\" points=\"3227.26,-61.93 3233.32,-53.24 3223.16,-56.25 3227.26,-61.93\"/>\n",
       "</g>\n",
       "<!-- 55 -->\n",
       "<g id=\"node56\" class=\"node\">\n",
       "<title>55</title>\n",
       "<path fill=\"#e9975b\" stroke=\"black\" d=\"M3522,-157C3522,-157 3374,-157 3374,-157 3368,-157 3362,-151 3362,-145 3362,-145 3362,-101 3362,-101 3362,-95 3368,-89 3374,-89 3374,-89 3522,-89 3522,-89 3528,-89 3534,-95 3534,-101 3534,-101 3534,-145 3534,-145 3534,-151 3528,-157 3522,-157\"/>\n",
       "<text text-anchor=\"start\" x=\"3370\" y=\"-141.8\" font-family=\"Helvetica,sans-Serif\" font-size=\"14.00\">MonthlyCharges ≤ 93.375</text>\n",
       "<text text-anchor=\"start\" x=\"3416\" y=\"-126.8\" font-family=\"Helvetica,sans-Serif\" font-size=\"14.00\">gini = 0.25</text>\n",
       "<text text-anchor=\"start\" x=\"3403\" y=\"-111.8\" font-family=\"Helvetica,sans-Serif\" font-size=\"14.00\">samples = 552</text>\n",
       "<text text-anchor=\"start\" x=\"3397.5\" y=\"-96.8\" font-family=\"Helvetica,sans-Serif\" font-size=\"14.00\">value = [471, 81]</text>\n",
       "</g>\n",
       "<!-- 54&#45;&gt;55 -->\n",
       "<g id=\"edge55\" class=\"edge\">\n",
       "<title>54&#45;&gt;55</title>\n",
       "<path fill=\"none\" stroke=\"black\" d=\"M3448,-192.88C3448,-184.78 3448,-175.98 3448,-167.47\"/>\n",
       "<polygon fill=\"black\" stroke=\"black\" points=\"3451.5,-167.3 3448,-157.3 3444.5,-167.3 3451.5,-167.3\"/>\n",
       "</g>\n",
       "<!-- 58 -->\n",
       "<g id=\"node59\" class=\"node\">\n",
       "<title>58</title>\n",
       "<path fill=\"#e6843e\" stroke=\"black\" d=\"M3745,-157C3745,-157 3605,-157 3605,-157 3599,-157 3593,-151 3593,-145 3593,-145 3593,-101 3593,-101 3593,-95 3599,-89 3605,-89 3605,-89 3745,-89 3745,-89 3751,-89 3757,-95 3757,-101 3757,-101 3757,-145 3757,-145 3757,-151 3751,-157 3745,-157\"/>\n",
       "<text text-anchor=\"start\" x=\"3601\" y=\"-141.8\" font-family=\"Helvetica,sans-Serif\" font-size=\"14.00\">MonthlyCharges ≤ 117.7</text>\n",
       "<text text-anchor=\"start\" x=\"3639.5\" y=\"-126.8\" font-family=\"Helvetica,sans-Serif\" font-size=\"14.00\">gini = 0.052</text>\n",
       "<text text-anchor=\"start\" x=\"3630\" y=\"-111.8\" font-family=\"Helvetica,sans-Serif\" font-size=\"14.00\">samples = 261</text>\n",
       "<text text-anchor=\"start\" x=\"3628\" y=\"-96.8\" font-family=\"Helvetica,sans-Serif\" font-size=\"14.00\">value = [254, 7]</text>\n",
       "</g>\n",
       "<!-- 54&#45;&gt;58 -->\n",
       "<g id=\"edge58\" class=\"edge\">\n",
       "<title>54&#45;&gt;58</title>\n",
       "<path fill=\"none\" stroke=\"black\" d=\"M3506.75,-199.6C3532.72,-187.93 3563.71,-174.01 3591.98,-161.3\"/>\n",
       "<polygon fill=\"black\" stroke=\"black\" points=\"3593.76,-164.34 3601.45,-157.05 3590.89,-157.96 3593.76,-164.34\"/>\n",
       "</g>\n",
       "<!-- 56 -->\n",
       "<g id=\"node57\" class=\"node\">\n",
       "<title>56</title>\n",
       "<path fill=\"#e78a47\" stroke=\"black\" d=\"M3454.5,-53C3454.5,-53 3361.5,-53 3361.5,-53 3355.5,-53 3349.5,-47 3349.5,-41 3349.5,-41 3349.5,-12 3349.5,-12 3349.5,-6 3355.5,0 3361.5,0 3361.5,0 3454.5,0 3454.5,0 3460.5,0 3466.5,-6 3466.5,-12 3466.5,-12 3466.5,-41 3466.5,-41 3466.5,-47 3460.5,-53 3454.5,-53\"/>\n",
       "<text text-anchor=\"start\" x=\"3372.5\" y=\"-37.8\" font-family=\"Helvetica,sans-Serif\" font-size=\"14.00\">gini = 0.122</text>\n",
       "<text text-anchor=\"start\" x=\"3363\" y=\"-22.8\" font-family=\"Helvetica,sans-Serif\" font-size=\"14.00\">samples = 246</text>\n",
       "<text text-anchor=\"start\" x=\"3357.5\" y=\"-7.8\" font-family=\"Helvetica,sans-Serif\" font-size=\"14.00\">value = [230, 16]</text>\n",
       "</g>\n",
       "<!-- 55&#45;&gt;56 -->\n",
       "<g id=\"edge56\" class=\"edge\">\n",
       "<title>55&#45;&gt;56</title>\n",
       "<path fill=\"none\" stroke=\"black\" d=\"M3434.01,-88.95C3430.41,-80.44 3426.52,-71.26 3422.88,-62.65\"/>\n",
       "<polygon fill=\"black\" stroke=\"black\" points=\"3426.02,-61.08 3418.89,-53.24 3419.57,-63.81 3426.02,-61.08\"/>\n",
       "</g>\n",
       "<!-- 57 -->\n",
       "<g id=\"node58\" class=\"node\">\n",
       "<title>57</title>\n",
       "<path fill=\"#eca36e\" stroke=\"black\" d=\"M3589.5,-53C3589.5,-53 3496.5,-53 3496.5,-53 3490.5,-53 3484.5,-47 3484.5,-41 3484.5,-41 3484.5,-12 3484.5,-12 3484.5,-6 3490.5,0 3496.5,0 3496.5,0 3589.5,0 3589.5,0 3595.5,0 3601.5,-6 3601.5,-12 3601.5,-12 3601.5,-41 3601.5,-41 3601.5,-47 3595.5,-53 3589.5,-53\"/>\n",
       "<text text-anchor=\"start\" x=\"3507.5\" y=\"-37.8\" font-family=\"Helvetica,sans-Serif\" font-size=\"14.00\">gini = 0.335</text>\n",
       "<text text-anchor=\"start\" x=\"3498\" y=\"-22.8\" font-family=\"Helvetica,sans-Serif\" font-size=\"14.00\">samples = 306</text>\n",
       "<text text-anchor=\"start\" x=\"3492.5\" y=\"-7.8\" font-family=\"Helvetica,sans-Serif\" font-size=\"14.00\">value = [241, 65]</text>\n",
       "</g>\n",
       "<!-- 55&#45;&gt;57 -->\n",
       "<g id=\"edge57\" class=\"edge\">\n",
       "<title>55&#45;&gt;57</title>\n",
       "<path fill=\"none\" stroke=\"black\" d=\"M3481.23,-88.95C3490.51,-79.71 3500.61,-69.67 3509.89,-60.44\"/>\n",
       "<polygon fill=\"black\" stroke=\"black\" points=\"3512.51,-62.77 3517.13,-53.24 3507.57,-57.81 3512.51,-62.77\"/>\n",
       "</g>\n",
       "<!-- 59 -->\n",
       "<g id=\"node60\" class=\"node\">\n",
       "<title>59</title>\n",
       "<path fill=\"#e6843e\" stroke=\"black\" d=\"M3718,-53C3718,-53 3632,-53 3632,-53 3626,-53 3620,-47 3620,-41 3620,-41 3620,-12 3620,-12 3620,-6 3626,0 3632,0 3632,0 3718,0 3718,0 3724,0 3730,-6 3730,-12 3730,-12 3730,-41 3730,-41 3730,-47 3724,-53 3718,-53\"/>\n",
       "<text text-anchor=\"start\" x=\"3639.5\" y=\"-37.8\" font-family=\"Helvetica,sans-Serif\" font-size=\"14.00\">gini = 0.045</text>\n",
       "<text text-anchor=\"start\" x=\"3630\" y=\"-22.8\" font-family=\"Helvetica,sans-Serif\" font-size=\"14.00\">samples = 259</text>\n",
       "<text text-anchor=\"start\" x=\"3628\" y=\"-7.8\" font-family=\"Helvetica,sans-Serif\" font-size=\"14.00\">value = [253, 6]</text>\n",
       "</g>\n",
       "<!-- 58&#45;&gt;59 -->\n",
       "<g id=\"edge59\" class=\"edge\">\n",
       "<title>58&#45;&gt;59</title>\n",
       "<path fill=\"none\" stroke=\"black\" d=\"M3675,-88.95C3675,-80.72 3675,-71.85 3675,-63.48\"/>\n",
       "<polygon fill=\"black\" stroke=\"black\" points=\"3678.5,-63.24 3675,-53.24 3671.5,-63.24 3678.5,-63.24\"/>\n",
       "</g>\n",
       "<!-- 60 -->\n",
       "<g id=\"node61\" class=\"node\">\n",
       "<title>60</title>\n",
       "<path fill=\"#ffffff\" stroke=\"black\" d=\"M3831.5,-53C3831.5,-53 3760.5,-53 3760.5,-53 3754.5,-53 3748.5,-47 3748.5,-41 3748.5,-41 3748.5,-12 3748.5,-12 3748.5,-6 3754.5,0 3760.5,0 3760.5,0 3831.5,0 3831.5,0 3837.5,0 3843.5,-6 3843.5,-12 3843.5,-12 3843.5,-41 3843.5,-41 3843.5,-47 3837.5,-53 3831.5,-53\"/>\n",
       "<text text-anchor=\"start\" x=\"3768\" y=\"-37.8\" font-family=\"Helvetica,sans-Serif\" font-size=\"14.00\">gini = 0.5</text>\n",
       "<text text-anchor=\"start\" x=\"3758.5\" y=\"-22.8\" font-family=\"Helvetica,sans-Serif\" font-size=\"14.00\">samples = 2</text>\n",
       "<text text-anchor=\"start\" x=\"3756.5\" y=\"-7.8\" font-family=\"Helvetica,sans-Serif\" font-size=\"14.00\">value = [1, 1]</text>\n",
       "</g>\n",
       "<!-- 58&#45;&gt;60 -->\n",
       "<g id=\"edge60\" class=\"edge\">\n",
       "<title>58&#45;&gt;60</title>\n",
       "<path fill=\"none\" stroke=\"black\" d=\"M3717.32,-88.95C3729.5,-79.43 3742.77,-69.07 3754.88,-59.62\"/>\n",
       "<polygon fill=\"black\" stroke=\"black\" points=\"3757.32,-62.15 3763.05,-53.24 3753.01,-56.63 3757.32,-62.15\"/>\n",
       "</g>\n",
       "</g>\n",
       "</svg>\n"
      ],
      "text/plain": [
       "<graphviz.sources.Source at 0x14ca18066d0>"
      ]
     },
     "execution_count": 29,
     "metadata": {},
     "output_type": "execute_result"
    }
   ],
   "source": [
    "dot_data = tree.export_graphviz(clf_gini, out_file=None, \n",
    "                              feature_names=X_train.columns,   \n",
    "                              filled=True, rounded=True,  \n",
    "                              special_characters=True)\n",
    "\n",
    "graph = graphviz.Source(dot_data) \n",
    "\n",
    "graph"
   ]
  },
  {
   "cell_type": "code",
   "execution_count": 30,
   "metadata": {
    "colab": {
     "base_uri": "https://localhost:8080/"
    },
    "executionInfo": {
     "elapsed": 380,
     "status": "ok",
     "timestamp": 1672752416019,
     "user": {
      "displayName": "Muklis Adi Wicaksono",
      "userId": "18432726686680524570"
     },
     "user_tz": -420
    },
    "id": "GsB3icAvlVEY",
    "outputId": "8c6a5a15-85e0-45ee-de5d-4a22aefdd538"
   },
   "outputs": [
    {
     "name": "stdout",
     "output_type": "stream",
     "text": [
      "Accuracy Score of Decision Tree is : 0.783719829626124\n",
      "Confusion Matrix : \n",
      "[[1432  107]\n",
      " [ 350  224]]\n",
      "Classification Report : \n",
      "              precision    recall  f1-score   support\n",
      "\n",
      "           0       0.80      0.93      0.86      1539\n",
      "           1       0.68      0.39      0.50       574\n",
      "\n",
      "    accuracy                           0.78      2113\n",
      "   macro avg       0.74      0.66      0.68      2113\n",
      "weighted avg       0.77      0.78      0.76      2113\n",
      "\n"
     ]
    }
   ],
   "source": [
    "acc_dtc = accuracy_score(y_test, y_pred_gini)\n",
    "conf = confusion_matrix(y_test, y_pred_gini)\n",
    "clf_report = classification_report(y_test, y_pred_gini)\n",
    "\n",
    "print(f\"Accuracy Score of Decision Tree is : {acc_dtc}\")\n",
    "print(f\"Confusion Matrix : \\n{conf}\")\n",
    "print(f\"Classification Report : \\n{clf_report}\")"
   ]
  },
  {
   "cell_type": "code",
   "execution_count": 31,
   "metadata": {
    "colab": {
     "base_uri": "https://localhost:8080/"
    },
    "executionInfo": {
     "elapsed": 428,
     "status": "ok",
     "timestamp": 1672752432306,
     "user": {
      "displayName": "Muklis Adi Wicaksono",
      "userId": "18432726686680524570"
     },
     "user_tz": -420
    },
    "id": "f2-DQ0ODlaZ4",
    "outputId": "38384973-883a-4785-e6fe-4f8bc2e64e61"
   },
   "outputs": [
    {
     "name": "stdout",
     "output_type": "stream",
     "text": [
      "Training set score: 0.7941\n",
      "Test set score: 0.7837\n"
     ]
    }
   ],
   "source": [
    "# print the scores on training and test set\n",
    "\n",
    "print('Training set score: {:.4f}'.format(clf_gini.score(X_train, y_train)))\n",
    "\n",
    "print('Test set score: {:.4f}'.format(clf_gini.score(X_test, y_test)))"
   ]
  },
  {
   "cell_type": "code",
   "execution_count": 32,
   "metadata": {
    "colab": {
     "base_uri": "https://localhost:8080/"
    },
    "executionInfo": {
     "elapsed": 868,
     "status": "ok",
     "timestamp": 1672752451267,
     "user": {
      "displayName": "Muklis Adi Wicaksono",
      "userId": "18432726686680524570"
     },
     "user_tz": -420
    },
    "id": "kmuzIahElcgn",
    "outputId": "636b6d92-5088-4269-d00b-cd7553638360"
   },
   "outputs": [
    {
     "name": "stdout",
     "output_type": "stream",
     "text": [
      "Accuracy Score of Decision Tree is : 0.783719829626124\n",
      "Confusion Matrix : \n",
      "[[1432  107]\n",
      " [ 350  224]]\n",
      "Classification Report : \n",
      "              precision    recall  f1-score   support\n",
      "\n",
      "           0       0.80      0.93      0.86      1539\n",
      "           1       0.68      0.39      0.50       574\n",
      "\n",
      "    accuracy                           0.78      2113\n",
      "   macro avg       0.74      0.66      0.68      2113\n",
      "weighted avg       0.77      0.78      0.76      2113\n",
      "\n"
     ]
    }
   ],
   "source": [
    "acc_dtc = accuracy_score(y_test, y_pred_gini)\n",
    "conf = confusion_matrix(y_test, y_pred_gini)\n",
    "clf_report = classification_report(y_test, y_pred_gini)\n",
    "\n",
    "print(f\"Accuracy Score of Decision Tree is : {acc_dtc}\")\n",
    "print(f\"Confusion Matrix : \\n{conf}\")\n",
    "print(f\"Classification Report : \\n{clf_report}\")"
   ]
  },
  {
   "cell_type": "code",
   "execution_count": 33,
   "metadata": {
    "colab": {
     "base_uri": "https://localhost:8080/"
    },
    "executionInfo": {
     "elapsed": 398,
     "status": "ok",
     "timestamp": 1672752463895,
     "user": {
      "displayName": "Muklis Adi Wicaksono",
      "userId": "18432726686680524570"
     },
     "user_tz": -420
    },
    "id": "Jumsx4NblgC7",
    "outputId": "a9c1ba52-96f8-42fe-dddb-f21f7c7e4e44"
   },
   "outputs": [
    {
     "data": {
      "text/plain": [
       "DecisionTreeClassifier(max_depth=5)"
      ]
     },
     "execution_count": 33,
     "metadata": {},
     "output_type": "execute_result"
    }
   ],
   "source": [
    "clf_gini"
   ]
  }
 ],
 "metadata": {
  "colab": {
   "provenance": []
  },
  "kernelspec": {
   "display_name": "Python 3 (ipykernel)",
   "language": "python",
   "name": "python3"
  },
  "language_info": {
   "codemirror_mode": {
    "name": "ipython",
    "version": 3
   },
   "file_extension": ".py",
   "mimetype": "text/x-python",
   "name": "python",
   "nbconvert_exporter": "python",
   "pygments_lexer": "ipython3",
   "version": "3.9.12"
  }
 },
 "nbformat": 4,
 "nbformat_minor": 1
}
